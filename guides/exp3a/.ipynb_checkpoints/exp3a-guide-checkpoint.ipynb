{
 "cells": [
  {
   "cell_type": "markdown",
   "metadata": {},
   "source": [
    "# Guide to Experiment 3a: Transistor characterization\n",
    "\n",
    "Métodos da Físcia Experimental I: (F540 2s2020)\n",
    "\n",
    "* JupyterBook: Gustavo Wiederhecker, Varlei Rodrigues\n",
    "* Contributions: Daniel Ugarte, Antônio Riul Junior, Varlei Rodrigues"
   ]
  },
  {
   "cell_type": "code",
   "execution_count": 3,
   "metadata": {
    "tags": [
     "hide-input"
    ]
   },
   "outputs": [],
   "source": [
    "#-----------------------------\n",
    "#Pacote para manipular vetores e matrizes\n",
    "import numpy as np\n",
    "import os\n",
    "import pandas as pd\n",
    "#-----------------------------\n",
    "#Pacotes para lidar com unidades\n",
    "from astropy import units as un\n",
    "from astropy import constants as cte\n",
    "#-----------------------------\n",
    "#pacote para gráficos\n",
    "import matplotlib.pyplot as plt\n",
    "import matplotlib\n",
    "#Comandos opcionais para formatar gráfico\n",
    "font = {'family' : 'Arial',\n",
    "        'weight' : 'normal',\n",
    "        'size'   : 12}\t\n",
    "lines = {'linewidth' : 3.0}\n",
    "figure = {'figsize' : [6.0, 6/1.6]}\n",
    "matplotlib.rc('font', **font)\n",
    "matplotlib.rc('lines', **lines)\n",
    "matplotlib.rc('figure', **figure)\n",
    "#-----------------------------\n",
    "from myst_nb import glue\n",
    "#pacote para desenhar circuitos\n",
    "import SchemDraw as schem\n",
    "import SchemDraw.elements as e\n",
    "d = schem.Drawing(unit=2.5) # unit=2.5 determina o tamanho dos componentes\n",
    "# %config InlineBackend.figure_format = 'svg'"
   ]
  },
  {
   "cell_type": "markdown",
   "metadata": {},
   "source": [
    "In this experiment, the basic properties of a bipolar junctio transistor will be explored.\n",
    "\n",
    "The name transistor ([a combination of transfer + resistor](https://web.archive.org/web/20080528164454/http://users.arczip.com/rmcgarra2/namememo.gif))originates from this device capabiblity of transferring electric signals. It is an *active device* that amplifies the voltage or current of an input signal, therefore, it is necessary to use a power supply. The transistor is a sandwich of two *pn* junctions, facing each other, forming a sequence of $ npn $ or $ pnp $ junctions. Each of these parts is called the collector, base and emitter, and the information to be transferred and / or used as a control signal is applied to the base of the transistor.\n",
    "\n",
    "To fully appreciate this device, it is desirable that you read an introductory  text on the semiconductors properties and circuit treatment of transistors (Sections 4.1 to 4.3 in {cite}`eggleston2011basic`).\n",
    "\n",
    ":::{admonition} Goals\n",
    ":class: tip\n",
    "- \tMeasure the characteristic curve of a bipolar junction transistor (BJT).\n",
    "-   Measure the value of the current gain $ (\\beta) $ of the BJT transistor.\n",
    ":::"
   ]
  },
  {
   "cell_type": "markdown",
   "metadata": {},
   "source": [
    ":::{admonition} Items to include in your lab report\n",
    ":class: warning\n",
    "1. From the experimental data, reconstruct the transistor collector curves ($I_C(V_{CE})$). You must generate the graphs, based on the data provided in {ref}`sec:dataset_transistor_3a`.\n",
    "    * Try to add the different traces to a single figure, instead of adding multiple repetitive plots to your report. Consider distinct line colors for each trace.\n",
    "    * Be carefull to properly convert the voltage measurements into currents using the appropriate values for the resistors.\n",
    "2. Include a graph of $I_C(I_B)$ and determine the transistor gain.\n",
    "    * Make sure to include the linear fitting you used  to determine $\\beta$\n",
    "3. Provide hyperlinks to your TinkerCAD simulation and upload your QUCS file.\n",
    ":::\n"
   ]
  },
  {
   "cell_type": "markdown",
   "metadata": {},
   "source": [
    "## Characteristic curves (I-V curve)\n",
    "presents characteristic curves for the bipolar junction transistor BD 135, being similar for other junction transistors. For each current value of the base there is a current in the collector, for which the equation below is satisfied:\n",
    "\n",
    "$$ I_\\text{collector} = \\beta \\times I_\\text{base}, $$ (eq:transitor_ic_ib)\n",
    "\n",
    "\n",
    "In general, for {eq}`eq:transitor_ic_ib` to be valid, if ($V_{CE}$) is  higher than the $V_{BE}$ , which is required  to polarize the transistor into the active region. Play around with the background theory notebook ( {doc}`aula_transistor_interativo`) to get an insight into the the transistor behavior. An example of the *IV* curves generated at this notebook are shown in {numref}`fig:transistor_gif`:\n",
    "```{figure} figs/transistor.gif\n",
    "---\n",
    "width: 650px\n",
    "name: \"fig:transistor_gif\"\n",
    "---\n",
    "Solving the transistor using the load line method for varying values of the base current. In this animation, generated in the notebook {doc}`aula_transistor_interativo`, the base voltage $V_BB$ was varied in the range   $0.2 V\\leq V_B\\leq 1.2 V$.\n",
    "```\n",
    "\n",
    "\n",
    "Characteristics curves are often presented in transistor datasheets, such as the example in {numref}`fig:bjt_sheet`\n",
    "```{figure} figs/ic_vce_curve.png\n",
    "---\n",
    "width: 350px\n",
    "name: \"fig:bjt_sheet\"\n",
    "align: center\n",
    "---\n",
    "Example [datasheet from manufacturer](https://github.com/gwiederhecker/F540_jbook/blob/2021_1s/guides/exp3a/figs/BD135_datasheet.pdf?raw=true) showing transistor gain characterization\n",
    "```"
   ]
  },
  {
   "cell_type": "markdown",
   "metadata": {},
   "source": [
    "## Transistor  gain $\\beta$\n",
    "The gain of a transistor depends on its construction, current range and the frequency of operation of the circuit assembly. For the transistor BD 135, the characteristic curves as a function of the current $ I_B $ are illustrated in {numref}`fig:ic_ib_bjt`\n",
    "\n",
    "```{figure} figs/curva2.png\n",
    "---\n",
    "width: 350px\n",
    "name: \"fig:ic_ib_bjt\"\n",
    "align: center\n",
    "---\n",
    "Example dateset of transistor gain characterization\n",
    "```\n",
    "\n",
    "An approximate value of the $ (\\beta) $ gain can be obtained on a linear graph of $ I_C $ as a function of $ I_B $, the gain being given by the slope of the line, as in the example of {numref}`fig:ic_ib_bjt`."
   ]
  },
  {
   "cell_type": "markdown",
   "metadata": {},
   "source": [
    "## Measuring characterisitic curves\n",
    "The characteristic curve of a transistor is the graph of $ I_C $ for $ V_ {CE} $. The proposed assembly for this measure is illustrated in the figure below.\n",
    "Note that the assembly is formed by a voltage divider (resistors $ R2 $ and $ R3 $) that feeds the base of the transistor through the resistor $ R1 $, imposing a fixed $ (approximately) $ current of $ I_B $ at the base. After the transistor is polarized, the current in the collector will be given by the golden rule: $ I_ {collector} = \\beta \\times I_ {base} $.\n",
    "\n",
    "To obtain the value of $ I_B $, it is necessary to measure the potential drop in the resistance of the base $ (R1) $. The potential on the transistor, between the collector and the emitter $ (V_{CE}) $, is measured directly with a voltmeter or with the oscilloscope. \n",
    "\n",
    "Only the $ I_C $ measure is missing. Since the power supply is fixed at $ 15 V $, from the measurement of $ V_ {CE} $ and the resistance value of decades it is possible to calculate the current in the collector, $ I_C $. Therefore, it is enough to vary the resistance of decades to obtain each curve. Try to obtain a larger number of points in the region where the variation of $ V_ {CE} $ is more abrupt (lower values of voltage $ V_ {CE} $). 3 $ I_C $ curves must be measured by $ V_ {CE} $, with $ R_1 $ = 10 k $ \\Omega $, 15 k $ \\Omega $ and 18 k $ \\Omega $.\n",
    "\n",
    "```{figure} figs/medida_caracteristica.png\n",
    "---\n",
    "width: 400px\n",
    "name: \"fig:bjt_setup1\"\n",
    "align: center\n",
    "---\n",
    "Circuit schematic used in the transistor characterization\n",
    "```"
   ]
  },
  {
   "cell_type": "markdown",
   "metadata": {},
   "source": [
    "## Measuring transistor Gain \n",
    "The gain of the $ (\\beta) $ transistor can be obtained simply by the ratio between the current in the collector and the current in the emitter, as previously shown. In a variation of the previous assembly, we can measure the gain of the transistor. We will use the a linear voltage ramp to vary the base voltage and, consequently, the current at the base of the transistor. \n",
    "\n",
    "The current $ I_C $ is measured through the resistance $ RC $, while $ I_B $ is measured against the resistance $R_B$.\n",
    " By controlling either the base voltage ($V_{BB}$), or the base resistace $R_B$, it is possible to control $ I_B $.\n",
    "```{figure} figs/esquema_medida_beta.png\n",
    "---\n",
    "width: 400px\n",
    "name: \"fig:bjt_setup2\"\n",
    "align: center\n",
    "---\n",
    "Circuit schematic used in the transistor gain characterization. The internal resistance of the base voltage source is 50 Ohms.\n",
    "```"
   ]
  },
  {
   "cell_type": "markdown",
   "metadata": {},
   "source": [
    "### Videos of the experiments\n",
    "**You must login with you @m.unicamp.br account to view these videos!**\n",
    "\n",
    "#### Characteristic curves\n",
    "This first video illustrate the experimental procedure and data acquisition associated with the characteristic curves.\n",
    "\n",
    "<iframe width=\"640\" height=\"360\" src=\"https://web.microsoftstream.com/embed/video/b5122894-1a3c-4a64-92c5-203a3a189128?autoplay=false&amp;showinfo=true\" allowfullscreen style=\"border:none;\"></iframe>\n",
    "\n",
    "#### Transistor gain\n",
    "This second video illustrate the experimental procedure and data acquisition associated with the transistor gain.\n",
    "\n",
    "<iframe width=\"640\" height=\"360\" src=\"https://web.microsoftstream.com/embed/video/1de87b4e-eed9-4e2a-895f-fbfedb97feea?autoplay=false&amp;showinfo=true\" allowfullscreen style=\"border:none;\"></iframe>"
   ]
  },
  {
   "cell_type": "code",
   "execution_count": 5,
   "metadata": {
    "tags": [
     "hide-cell"
    ]
   },
   "outputs": [
    {
     "data": {
      "text/html": [
       "<div>\n",
       "<style scoped>\n",
       "    .dataframe tbody tr th:only-of-type {\n",
       "        vertical-align: middle;\n",
       "    }\n",
       "\n",
       "    .dataframe tbody tr th {\n",
       "        vertical-align: top;\n",
       "    }\n",
       "\n",
       "    .dataframe thead th {\n",
       "        text-align: right;\n",
       "    }\n",
       "</style>\n",
       "<table border=\"1\" class=\"dataframe\">\n",
       "  <thead>\n",
       "    <tr style=\"text-align: right;\">\n",
       "      <th></th>\n",
       "      <th>Rc(Ohm)</th>\n",
       "      <th>Vce_rb_10k(V)</th>\n",
       "      <th>Vce_rb_12k(V)k</th>\n",
       "      <th>Vce_rb_15k(V)</th>\n",
       "      <th>Vce_rb_20k(V)</th>\n",
       "    </tr>\n",
       "  </thead>\n",
       "  <tbody>\n",
       "    <tr>\n",
       "      <th>0</th>\n",
       "      <td>100</td>\n",
       "      <td>13.86</td>\n",
       "      <td>14.10</td>\n",
       "      <td>14.29</td>\n",
       "      <td>14.43</td>\n",
       "    </tr>\n",
       "    <tr>\n",
       "      <th>1</th>\n",
       "      <td>200</td>\n",
       "      <td>12.82</td>\n",
       "      <td>13.22</td>\n",
       "      <td>13.61</td>\n",
       "      <td>13.89</td>\n",
       "    </tr>\n",
       "    <tr>\n",
       "      <th>2</th>\n",
       "      <td>300</td>\n",
       "      <td>11.75</td>\n",
       "      <td>12.40</td>\n",
       "      <td>12.87</td>\n",
       "      <td>13.32</td>\n",
       "    </tr>\n",
       "    <tr>\n",
       "      <th>3</th>\n",
       "      <td>400</td>\n",
       "      <td>10.71</td>\n",
       "      <td>11.57</td>\n",
       "      <td>12.20</td>\n",
       "      <td>12.81</td>\n",
       "    </tr>\n",
       "    <tr>\n",
       "      <th>4</th>\n",
       "      <td>500</td>\n",
       "      <td>9.70</td>\n",
       "      <td>10.70</td>\n",
       "      <td>11.54</td>\n",
       "      <td>12.28</td>\n",
       "    </tr>\n",
       "  </tbody>\n",
       "</table>\n",
       "</div>"
      ],
      "text/plain": [
       "   Rc(Ohm)  Vce_rb_10k(V)  Vce_rb_12k(V)k  Vce_rb_15k(V)  Vce_rb_20k(V)\n",
       "0      100          13.86           14.10          14.29          14.43\n",
       "1      200          12.82           13.22          13.61          13.89\n",
       "2      300          11.75           12.40          12.87          13.32\n",
       "3      400          10.71           11.57          12.20          12.81\n",
       "4      500           9.70           10.70          11.54          12.28"
      ]
     },
     "metadata": {
      "scrapbook": {
       "mime_prefix": "",
       "name": "df_pandas_ic_vce"
      }
     },
     "output_type": "display_data"
    },
    {
     "data": {
      "text/html": [
       "<div>\n",
       "<style scoped>\n",
       "    .dataframe tbody tr th:only-of-type {\n",
       "        vertical-align: middle;\n",
       "    }\n",
       "\n",
       "    .dataframe tbody tr th {\n",
       "        vertical-align: top;\n",
       "    }\n",
       "\n",
       "    .dataframe thead th {\n",
       "        text-align: right;\n",
       "    }\n",
       "</style>\n",
       "<table border=\"1\" class=\"dataframe\">\n",
       "  <thead>\n",
       "    <tr style=\"text-align: right;\">\n",
       "      <th></th>\n",
       "      <th>tempo(s)</th>\n",
       "      <th>Vbb(V)</th>\n",
       "      <th>Vbe(V)</th>\n",
       "      <th>Vce(V)</th>\n",
       "    </tr>\n",
       "  </thead>\n",
       "  <tbody>\n",
       "    <tr>\n",
       "      <th>0</th>\n",
       "      <td>0.0004</td>\n",
       "      <td>8.08</td>\n",
       "      <td>0.72</td>\n",
       "      <td>0.24</td>\n",
       "    </tr>\n",
       "    <tr>\n",
       "      <th>1</th>\n",
       "      <td>0.0008</td>\n",
       "      <td>8.00</td>\n",
       "      <td>0.72</td>\n",
       "      <td>0.24</td>\n",
       "    </tr>\n",
       "    <tr>\n",
       "      <th>2</th>\n",
       "      <td>0.0012</td>\n",
       "      <td>8.00</td>\n",
       "      <td>0.72</td>\n",
       "      <td>0.24</td>\n",
       "    </tr>\n",
       "    <tr>\n",
       "      <th>3</th>\n",
       "      <td>0.0016</td>\n",
       "      <td>8.00</td>\n",
       "      <td>0.72</td>\n",
       "      <td>0.24</td>\n",
       "    </tr>\n",
       "    <tr>\n",
       "      <th>4</th>\n",
       "      <td>0.0020</td>\n",
       "      <td>8.00</td>\n",
       "      <td>0.72</td>\n",
       "      <td>0.24</td>\n",
       "    </tr>\n",
       "  </tbody>\n",
       "</table>\n",
       "</div>"
      ],
      "text/plain": [
       "   tempo(s)  Vbb(V)  Vbe(V)  Vce(V)\n",
       "0    0.0004    8.08    0.72    0.24\n",
       "1    0.0008    8.00    0.72    0.24\n",
       "2    0.0012    8.00    0.72    0.24\n",
       "3    0.0016    8.00    0.72    0.24\n",
       "4    0.0020    8.00    0.72    0.24"
      ]
     },
     "metadata": {
      "scrapbook": {
       "mime_prefix": "",
       "name": "df_pandas_beta"
      }
     },
     "output_type": "display_data"
    }
   ],
   "source": [
    "#Loading dataset with \"tab\" as separator\n",
    "path='dados'\n",
    "filename = 'dados_Vce_Vcc_15p5.csv'\n",
    "filepath = os.path.join(path,filename)\n",
    "df1 = pd.read_csv(filepath) #DataFrame\n",
    "glue(\"df_pandas_ic_vce\", df1.head())\n",
    "#---\n",
    "filename = 'dados_Ic_vs_Ib_Vbb_Vcc_15p5V.csv'\n",
    "filepath = os.path.join(path,filename)\n",
    "df2 = pd.read_csv(filepath) #DataFrame\n",
    "glue(\"df_pandas_beta\", df2.head())"
   ]
  },
  {
   "cell_type": "markdown",
   "metadata": {},
   "source": [
    "(sec:dataset_transistor_3a)=\n",
    "### Downloadable dataset\n",
    "* One (.zip) file: [Transistor characterization](https://github.com/gwiederhecker/F540_jbook/blob/2021_1s/guides/exp3a/dados/dados_transistor_3a.zip?raw=true)\n",
    "    * `.zip` file contains:\n",
    "        * `dados_Vce_Vcc_15p5.csv` file corresponding to the characteristic curves (see {numref}`tbl:pandas_ic_vce`)\n",
    "        * `dados_Ic_vs_Ib_Vbb_Vcc_15p5V.csv` file corresponding to the $I_C$ versus $I_B$ curve. (see {numref}`tbl:pandas_ic_vce`)\n",
    "    * Images of the protoboard assembly. \n",
    "\n",
    "\n",
    "````{tabbed} Characteristic curves\n",
    "```{glue:figure} df_pandas_ic_vce\n",
    ":figwidth: 600px\n",
    ":name: \"tbl:pandas_ic_vce\"\n",
    ":align: center\n",
    "\n",
    "Structure of the `dados_Vce_Vcc_15p5.csv` data file, corresponding to the decade resistance  indicated at the column label; the separator between entries is a **comma (,)**.\n",
    "```\n",
    "````\n",
    "````{tabbed} Gain characterization\n",
    "```{glue:figure} df_pandas_beta\n",
    ":figwidth: 600px\n",
    ":name: \"tbl:pandas_beta\"\n",
    ":align: center\n",
    "\n",
    "Structure of the `dados_Ic_vs_Ib_Vbb_Vcc_15p5V.csv` data file, corresponding to the osciloscope traces measured at distinct point in the circuit; the separator between entries is a **comma (,)**.\n",
    "```\n",
    "````"
   ]
  }
 ],
 "metadata": {
  "@webio": {
   "lastCommId": null,
   "lastKernelId": null
  },
  "celltoolbar": "Tags",
  "kernelspec": {
   "display_name": "Python 3",
   "language": "python",
   "name": "python3"
  },
  "language_info": {
   "codemirror_mode": {
    "name": "ipython",
    "version": 3
   },
   "file_extension": ".py",
   "mimetype": "text/x-python",
   "name": "python",
   "nbconvert_exporter": "python",
   "pygments_lexer": "ipython3",
   "version": "3.7.7"
  },
  "toc": {
   "nav_menu": {},
   "number_sections": true,
   "sideBar": true,
   "skip_h1_title": false,
   "title_cell": "Table of Contents",
   "title_sidebar": "Contents",
   "toc_cell": false,
   "toc_position": {},
   "toc_section_display": true,
   "toc_window_display": false
  }
 },
 "nbformat": 4,
 "nbformat_minor": 2
}
