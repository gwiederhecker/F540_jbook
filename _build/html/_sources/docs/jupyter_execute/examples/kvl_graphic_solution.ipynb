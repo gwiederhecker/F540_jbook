{
 "cells": [
  {
   "cell_type": "markdown",
   "metadata": {
    "colab_type": "text",
    "id": "-iYku1fhxFVp"
   },
   "source": [
    "## Inicialização"
   ]
  },
  {
   "cell_type": "code",
   "execution_count": 1,
   "metadata": {
    "colab_type": "text",
    "execution": {
     "iopub.execute_input": "2020-07-01T20:31:09.530036Z",
     "iopub.status.busy": "2020-07-01T20:31:09.528470Z",
     "iopub.status.idle": "2020-07-01T20:31:09.531537Z",
     "shell.execute_reply": "2020-07-01T20:31:09.532643Z"
    },
    "id": "StKbC2-Bw8jH"
   },
   "outputs": [],
   "source": [
    "### Importando pacotes e definindo funções"
   ]
  },
  {
   "cell_type": "code",
   "execution_count": 2,
   "metadata": {
    "colab": {},
    "colab_type": "code",
    "execution": {
     "iopub.execute_input": "2020-07-01T20:31:09.541334Z",
     "iopub.status.busy": "2020-07-01T20:31:09.540271Z",
     "iopub.status.idle": "2020-07-01T20:31:10.757521Z",
     "shell.execute_reply": "2020-07-01T20:31:10.758302Z"
    },
    "id": "ZWJ_OMQblyuw"
   },
   "outputs": [],
   "source": [
    "import matplotlib.pyplot as plt  # importar a bilioteca pyplot para fazer gráficos\n",
    "import matplotlib.ticker as plticker\n",
    "import numpy as np   # importar a biblioteca Numpy para lidar com matrizes\n",
    "import pandas as pd   # importa bilioteca pandas para  lidar com processamento de dados\n",
    "import os\n",
    "from scipy import optimize\n",
    "import SchemDraw as schem\n",
    "import SchemDraw.elements as e"
   ]
  },
  {
   "cell_type": "code",
   "execution_count": 3,
   "metadata": {
    "colab": {},
    "colab_type": "code",
    "execution": {
     "iopub.execute_input": "2020-07-01T20:31:10.765084Z",
     "iopub.status.busy": "2020-07-01T20:31:10.763702Z",
     "iopub.status.idle": "2020-07-01T20:31:10.814174Z",
     "shell.execute_reply": "2020-07-01T20:31:10.815038Z"
    },
    "id": "eU_Zldo1xd9A"
   },
   "outputs": [],
   "source": [
    "import ipywidgets as widgets\n",
    "from ipywidgets import interact, interact_manual, interactive"
   ]
  },
  {
   "cell_type": "markdown",
   "metadata": {
    "colab_type": "text",
    "id": "x_9mS3KpxtSD"
   },
   "source": [
    "### Funções para desenhar circuitos"
   ]
  },
  {
   "cell_type": "code",
   "execution_count": 4,
   "metadata": {
    "colab": {},
    "colab_type": "code",
    "execution": {
     "iopub.execute_input": "2020-07-01T20:31:10.830507Z",
     "iopub.status.busy": "2020-07-01T20:31:10.829295Z",
     "iopub.status.idle": "2020-07-01T20:31:10.832608Z",
     "shell.execute_reply": "2020-07-01T20:31:10.833406Z"
    },
    "id": "ldQA4FV5vPjN"
   },
   "outputs": [],
   "source": [
    "def DivTensao(Z1, Z2, fonte = [True,e.SOURCE_V], unit_size = 2.5, **kwargs):\n",
    "    d = schem.Drawing(unit=unit_size, **kwargs)\n",
    "    if fonte[0]:\n",
    "        #fonte\n",
    "        gnd1 = d.add(e.GND)\n",
    "        d.add(fonte[1], label='$V_{Th}$')\n",
    "        d.add(e.RES, d='right', label='$R_g$')\n",
    "    #divisor de tensão\n",
    "    vin = d.add(e.DOT_OPEN ,label='$V_{in}$')\n",
    "    z1 = d.add(Z1[0], d='right',label='${}$'.format(Z1[1]))\n",
    "    z2 = d.add(Z2[0], d='down',botlabel='${}$'.format(Z2[1]))\n",
    "    gnd2 = d.add(e.GND)\n",
    "    #output\n",
    "    d.add(e.LINE, d='right', xy=z1.end, l=1)\n",
    "    vout = d.add(e.DOT_OPEN, label='$V_{out}$')\n",
    "    #loop\n",
    "    d.labelI(z2, '$I$',top=False, arrowofst = 0.8, arrowlen = 0.75)\n",
    "    return d"
   ]
  },
  {
   "cell_type": "markdown",
   "metadata": {
    "colab_type": "text",
    "id": "ll8gkB3ixyEa"
   },
   "source": [
    "### Funções para gerar gráficos"
   ]
  },
  {
   "cell_type": "code",
   "execution_count": 5,
   "metadata": {
    "colab": {
     "base_uri": "https://localhost:8080/",
     "height": 130
    },
    "colab_type": "code",
    "execution": {
     "iopub.execute_input": "2020-07-01T20:31:10.904458Z",
     "iopub.status.busy": "2020-07-01T20:31:10.903208Z",
     "iopub.status.idle": "2020-07-01T20:31:10.906401Z",
     "shell.execute_reply": "2020-07-01T20:31:10.907316Z"
    },
    "id": "aTPCH09gx5KL",
    "outputId": "1c810a38-9ff2-4a82-c2d0-0a17389738b5"
   },
   "outputs": [],
   "source": [
    "def plot_load_lines(Vin=5,R1=100,R2=100):\n",
    "  '''\n",
    "  Função para ilustrar a solução das leis Kirchhoff \n",
    "  '''\n",
    "  #limites dos eixos\n",
    "  Vin_min, Vin_max = -6,6 # [V]\n",
    "  I_min, I_max = -60,60 # [mA]\n",
    "  #-------------\n",
    "  I=np.linspace(I_min,I_max,100)\n",
    "  #----------------------\n",
    "  Vlhs = Vin-R1*I # equação LHS\n",
    "  Vrhs = R2*I # equação RHS\n",
    "  #----------------------\n",
    "  fig_size = (10,5)\n",
    "  fig,ax = plt.subplots(1,2,figsize=fig_size)\n",
    "  #------------------\n",
    "  ax0 = ax[0]\n",
    "  DivTensao([e.RES,'R_1'],[e.RES,'R_2'],fonte = [False,e.SOURCE_V]).draw(ax=ax0)\n",
    "  ax0.axes.get_xaxis().set_visible(False)\n",
    "  ax0.axes.get_yaxis().set_visible(False)\n",
    "  ax0.set_frame_on(False)\n",
    "  ax0.set_xticklabels(())\n",
    "  ax0.set_yticklabels(())\n",
    "  ax0.get_figure().set_size_inches(fig_size[0],fig_size[1])\n",
    "  #------------------\n",
    "  ax0 = ax[1]\n",
    "  ax0.plot(Vlhs,I*1e3, label = r'$V_{in}-R_1I-V(I)=0$')\n",
    "  ax0.plot(Vrhs,I*1e3, label = r'$V(I)-R_2I=0$')\n",
    "  #---\n",
    "  #eixos x-y\n",
    "  ax0.axhline(0, color='k', linestyle = '-',lw=2)\n",
    "  ax0.axvline(0, color='k', linestyle = '-',lw=2)\n",
    "  #---\n",
    "  lab = '$V_{aberto}$'+'={} V'.format(Vin)\n",
    "  ax0.scatter(Vin,0, color='b', marker='o', s=70, label=lab,zorder=3)\n",
    "  lab = '$I_{curto}$'+'={:2.1f} mA'.format(1e3*Vin/R1)\n",
    "  ax0.scatter(0,Vin/R1*1e3, color='b', marker='P', s=70, label=lab,zorder=3)\n",
    "  #solução para corrente e tensão\n",
    "  ax0.axhline(1e3*Vin/(R1+R2), c='k', ls = '--')\n",
    "  ax0.axvline(Vin*R2/(R1+R2), c='k', ls = '--')\n",
    "  lab = 'I,V={:2.1f} mA, {:2.1f} V'.format(1e3*Vin/(R1+R2),Vin*R2/(R1+R2))\n",
    "  ax0.scatter(Vin*R2/(R1+R2),1e3*Vin/(R1+R2), c='r', marker='o', s=100, label=lab)\n",
    "  #-----------------------\n",
    "  ax0.set_xlabel('Tensão (V)')\n",
    "  ax0.set_ylabel('Corrente (mA)')\n",
    "  ax0.set_xlim([Vin_min,Vin_max])\n",
    "  ax0.set_ylim([I_min,I_max])\n",
    "  ax0.legend(loc = 'center left',bbox_to_anchor=[1.0,0.5])\n",
    "  ax0.grid(True,which='both')\n",
    "  ax0.xaxis.set_major_locator(plticker.MultipleLocator(1))\n",
    "  ax0.yaxis.set_major_locator(plticker.MultipleLocator(10))\n",
    "  plt.show()"
   ]
  },
  {
   "cell_type": "markdown",
   "metadata": {
    "colab_type": "text",
    "id": "gGz_ZvtwwngH"
   },
   "source": [
    "# Resolvendo a lei de Kirchhoff (KVL) graficamente\n",
    "\n"
   ]
  },
  {
   "cell_type": "markdown",
   "metadata": {
    "colab_type": "text",
    "id": "4RB5EOaXzUox"
   },
   "source": [
    "## Circuito divisor de tensão"
   ]
  },
  {
   "cell_type": "markdown",
   "metadata": {
    "colab_type": "text",
    "id": "C0vcG3dewtV9"
   },
   "source": [
    "Quando escreve-se a KVL para componentes cuja relação entre tensão e corrente é linear, geralmente é trivial resolver a lei de Kirchhoff. Por exemplo, considere o circuito abaixo:![alt text](https://)"
   ]
  },
  {
   "cell_type": "code",
   "execution_count": 6,
   "metadata": {
    "colab": {
     "base_uri": "https://localhost:8080/",
     "height": 165
    },
    "colab_type": "code",
    "execution": {
     "iopub.execute_input": "2020-07-01T20:31:10.980219Z",
     "iopub.status.busy": "2020-07-01T20:31:10.962307Z",
     "iopub.status.idle": "2020-07-01T20:31:11.396861Z",
     "shell.execute_reply": "2020-07-01T20:31:11.397635Z"
    },
    "id": "mztHq4JTwdHy",
    "outputId": "a7987ac2-e96c-41d8-bbea-163be15c6c80"
   },
   "outputs": [
    {
     "data": {
      "image/png": "[encoded data removed]",
      "text/plain": [
       "<Figure size 144.54x134.244 with 1 Axes>"
      ]
     },
     "metadata": {
      "filenames": {
       "image/png": "/Users/gsw/Documents/GitHub/F540_jbook/_build/jupyter_execute/examples/kvl_graphic_solution_11_0.png"
      },
      "needs_background": "light"
     },
     "output_type": "display_data"
    }
   ],
   "source": [
    "DivTensao([e.RES,'R_1'],[e.RES,'R_2'],fonte = [False,e.SOURCE_V]).draw()"
   ]
  },
  {
   "cell_type": "markdown",
   "metadata": {
    "colab_type": "text",
    "id": "WFu9rF5OxWmk"
   },
   "source": [
    "Naturalmente a KVL resulta em $$V_{in}-R_1 I-R_2 I=0,$$ ou seja, $$I=\\frac{V_{in}}{R_1+R_2}.$$\n",
    "Suponha agora que não se sabe como se escrever a lei de Ohm para o resistor $R_2$, deixemos a tensão neste resistor como $V_{out}(I)$. A KVL neste caso poderia ser escrita na forma: $$V_{in}-R_1 I=V_{out}(I).$$\n",
    "Temos duas funções da corrente, uma no lado esquerdo (LHS) e outro no lado direito (RHS). Se graficarmos ambas em um gráfico $I \\times V$ temos:"
   ]
  },
  {
   "cell_type": "code",
   "execution_count": 7,
   "metadata": {
    "colab": {
     "base_uri": "https://localhost:8080/",
     "height": 480,
     "referenced_widgets": [
      "cd80b11b87cd4a22a33004d4a3404b7a",
      "d86ce303eb1b47bd93a7228e568d0f45",
      "ecd64c2623b647e9ab41f056eef6e63f",
      "43201705101e477ca1a0a6e3ca3287af",
      "262f47ec94ac4ba190caf9cfad820387",
      "107e339b8e15472d84b13f267e9e1e3e",
      "144c3e6be63a475ebe7de12ee8e8d704",
      "3e9f2b1efc6a43b08d09b2247ca1b3a8",
      "2fbd1f2f461b4eb59e622cba6f149d41",
      "a1a495c4697e491abcbd1a509ce5762e",
      "1790006e64ad4c24b4316871e934cdab",
      "534930eb4fa848058b03a41b0fa19c92",
      "019bebbe37bb41d69e983047bb418f68"
     ]
    },
    "colab_type": "code",
    "execution": {
     "iopub.execute_input": "2020-07-01T20:31:11.438720Z",
     "iopub.status.busy": "2020-07-01T20:31:11.419754Z",
     "iopub.status.idle": "2020-07-01T20:31:12.227125Z",
     "shell.execute_reply": "2020-07-01T20:31:12.227981Z"
    },
    "id": "dPp0xickwviv",
    "outputId": "5dce27af-7955-4cc2-f5e0-8dea9fb89281"
   },
   "outputs": [
    {
     "data": {
      "application/vnd.jupyter.widget-view+json": {
       "model_id": "e85b0704cfe840eeba548426a232f984",
       "version_major": 2,
       "version_minor": 0
      },
      "text/plain": [
       "interactive(children=(IntSlider(value=5, description='Vin', max=5, min=-5), IntSlider(value=100, description='…"
      ]
     },
     "metadata": {},
     "output_type": "display_data"
    }
   ],
   "source": [
    "interactive(plot_load_lines,Vin=(-5,5),R1=(1,300),R2=(1,300))"
   ]
  },
  {
   "cell_type": "markdown",
   "metadata": {
    "colab_type": "text",
    "id": "ovuwvLVLztiz"
   },
   "source": [
    "## Circuitos com diodo"
   ]
  },
  {
   "cell_type": "markdown",
   "metadata": {
    "colab_type": "text",
    "id": "sQxFdq5tzx_u"
   },
   "source": [
    "Considere agora um circuito contendo um elemento cuja relação entre tensão e corrente é não-linear, por exempleo, um diodo. O caso do diodo fornece uma aplicação importante do método das curvas de carga discutido acima.\n",
    "Quando se ignora efeitos de ruptura (breakdown),a corrente no diodo depende da tensão entre seus terminais da seguinte forma: $$I(V)=I_S (\\exp\\left(\\frac{q V}{k_B T}\\right)-1).$$\n",
    "Sendo que,\n",
    "* $I_S$ [A] é a tensão de saturação reversa (depende da temperatura);\n",
    "* $k_B\\approx1.38\\times10^{-23} $ [J/K] é constante de Boltzmann;\n",
    "* $T $ [K] é a temperatura da junção PN;\n",
    "* $q\\approx1.6\\times 10^{-19} $ [C] é a carga do elétron.\n",
    "\n",
    "Note que $q/(k_B T)\\approx39.6\\equiv \\beta $ [C/J] para $T=293$ [K], portanto $I(V)=I_S (\\exp(\\beta V)-1).$"
   ]
  }
 ],
 "metadata": {
  "colab": {
   "collapsed_sections": [],
   "name": "kvl_graphic_solution.ipynb",
   "provenance": []
  },
  "kernelspec": {
   "display_name": "Python 3",
   "name": "python3"
  },
  "language_info": {
   "codemirror_mode": {
    "name": "ipython",
    "version": 3
   },
   "file_extension": ".py",
   "mimetype": "text/x-python",
   "name": "python",
   "nbconvert_exporter": "python",
   "pygments_lexer": "ipython3",
   "version": "3.7.7"
  },
  "widgets": {
   "application/vnd.jupyter.widget-state+json": {
    "state": {
     "12cad6f329df4466a43ac3ea2f390908": {
      "model_module": "@jupyter-widgets/controls",
      "model_module_version": "1.5.0",
      "model_name": "IntSliderModel",
      "state": {
       "_dom_classes": [],
       "_model_module": "@jupyter-widgets/controls",
       "_model_module_version": "1.5.0",
       "_model_name": "IntSliderModel",
       "_view_count": null,
       "_view_module": "@jupyter-widgets/controls",
       "_view_module_version": "1.5.0",
       "_view_name": "IntSliderView",
       "continuous_update": true,
       "description": "R2",
       "description_tooltip": null,
       "disabled": false,
       "layout": "IPY_MODEL_9fa97fd8960d46abb48bf02d4f54873b",
       "max": 300,
       "min": 1,
       "orientation": "horizontal",
       "readout": true,
       "readout_format": "d",
       "step": 1,
       "style": "IPY_MODEL_e399febb98b94e94b574e9f57eb9da4b",
       "value": 100
      }
     },
     "17bfc8705a8341f9a033dfd7c32c5c0b": {
      "model_module": "@jupyter-widgets/base",
      "model_module_version": "1.2.0",
      "model_name": "LayoutModel",
      "state": {
       "_model_module": "@jupyter-widgets/base",
       "_model_module_version": "1.2.0",
       "_model_name": "LayoutModel",
       "_view_count": null,
       "_view_module": "@jupyter-widgets/base",
       "_view_module_version": "1.2.0",
       "_view_name": "LayoutView",
       "align_content": null,
       "align_items": null,
       "align_self": null,
       "border": null,
       "bottom": null,
       "display": null,
       "flex": null,
       "flex_flow": null,
       "grid_area": null,
       "grid_auto_columns": null,
       "grid_auto_flow": null,
       "grid_auto_rows": null,
       "grid_column": null,
       "grid_gap": null,
       "grid_row": null,
       "grid_template_areas": null,
       "grid_template_columns": null,
       "grid_template_rows": null,
       "height": null,
       "justify_content": null,
       "justify_items": null,
       "left": null,
       "margin": null,
       "max_height": null,
       "max_width": null,
       "min_height": null,
       "min_width": null,
       "object_fit": null,
       "object_position": null,
       "order": null,
       "overflow": null,
       "overflow_x": null,
       "overflow_y": null,
       "padding": null,
       "right": null,
       "top": null,
       "visibility": null,
       "width": null
      }
     },
     "1c9d793f2672455cb21a2a6473bc979e": {
      "model_module": "@jupyter-widgets/base",
      "model_module_version": "1.2.0",
      "model_name": "LayoutModel",
      "state": {
       "_model_module": "@jupyter-widgets/base",
       "_model_module_version": "1.2.0",
       "_model_name": "LayoutModel",
       "_view_count": null,
       "_view_module": "@jupyter-widgets/base",
       "_view_module_version": "1.2.0",
       "_view_name": "LayoutView",
       "align_content": null,
       "align_items": null,
       "align_self": null,
       "border": null,
       "bottom": null,
       "display": null,
       "flex": null,
       "flex_flow": null,
       "grid_area": null,
       "grid_auto_columns": null,
       "grid_auto_flow": null,
       "grid_auto_rows": null,
       "grid_column": null,
       "grid_gap": null,
       "grid_row": null,
       "grid_template_areas": null,
       "grid_template_columns": null,
       "grid_template_rows": null,
       "height": null,
       "justify_content": null,
       "justify_items": null,
       "left": null,
       "margin": null,
       "max_height": null,
       "max_width": null,
       "min_height": null,
       "min_width": null,
       "object_fit": null,
       "object_position": null,
       "order": null,
       "overflow": null,
       "overflow_x": null,
       "overflow_y": null,
       "padding": null,
       "right": null,
       "top": null,
       "visibility": null,
       "width": null
      }
     },
     "2e74462cd09741c0b00df7ca8b947249": {
      "model_module": "@jupyter-widgets/base",
      "model_module_version": "1.2.0",
      "model_name": "LayoutModel",
      "state": {
       "_model_module": "@jupyter-widgets/base",
       "_model_module_version": "1.2.0",
       "_model_name": "LayoutModel",
       "_view_count": null,
       "_view_module": "@jupyter-widgets/base",
       "_view_module_version": "1.2.0",
       "_view_name": "LayoutView",
       "align_content": null,
       "align_items": null,
       "align_self": null,
       "border": null,
       "bottom": null,
       "display": null,
       "flex": null,
       "flex_flow": null,
       "grid_area": null,
       "grid_auto_columns": null,
       "grid_auto_flow": null,
       "grid_auto_rows": null,
       "grid_column": null,
       "grid_gap": null,
       "grid_row": null,
       "grid_template_areas": null,
       "grid_template_columns": null,
       "grid_template_rows": null,
       "height": null,
       "justify_content": null,
       "justify_items": null,
       "left": null,
       "margin": null,
       "max_height": null,
       "max_width": null,
       "min_height": null,
       "min_width": null,
       "object_fit": null,
       "object_position": null,
       "order": null,
       "overflow": null,
       "overflow_x": null,
       "overflow_y": null,
       "padding": null,
       "right": null,
       "top": null,
       "visibility": null,
       "width": null
      }
     },
     "30f8757f8d264b798d7163098749c210": {
      "model_module": "@jupyter-widgets/output",
      "model_module_version": "1.0.0",
      "model_name": "OutputModel",
      "state": {
       "_dom_classes": [],
       "_model_module": "@jupyter-widgets/output",
       "_model_module_version": "1.0.0",
       "_model_name": "OutputModel",
       "_view_count": null,
       "_view_module": "@jupyter-widgets/output",
       "_view_module_version": "1.0.0",
       "_view_name": "OutputView",
       "layout": "IPY_MODEL_17bfc8705a8341f9a033dfd7c32c5c0b",
       "msg_id": "",
       "outputs": [
        {
         "data": {
          "image/png": "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\n",
          "text/plain": "<Figure size 720x360 with 2 Axes>"
         },
         "metadata": {
          "needs_background": "light"
         },
         "output_type": "display_data"
        }
       ]
      }
     },
     "3db7ad0011b84d06ba27371c4105c97f": {
      "model_module": "@jupyter-widgets/controls",
      "model_module_version": "1.5.0",
      "model_name": "SliderStyleModel",
      "state": {
       "_model_module": "@jupyter-widgets/controls",
       "_model_module_version": "1.5.0",
       "_model_name": "SliderStyleModel",
       "_view_count": null,
       "_view_module": "@jupyter-widgets/base",
       "_view_module_version": "1.2.0",
       "_view_name": "StyleView",
       "description_width": "",
       "handle_color": null
      }
     },
     "3ea75c1f9ce44531a8b2b4b000219850": {
      "model_module": "@jupyter-widgets/controls",
      "model_module_version": "1.5.0",
      "model_name": "SliderStyleModel",
      "state": {
       "_model_module": "@jupyter-widgets/controls",
       "_model_module_version": "1.5.0",
       "_model_name": "SliderStyleModel",
       "_view_count": null,
       "_view_module": "@jupyter-widgets/base",
       "_view_module_version": "1.2.0",
       "_view_name": "StyleView",
       "description_width": "",
       "handle_color": null
      }
     },
     "61891fa24d694fc09e543c89127a7dfd": {
      "model_module": "@jupyter-widgets/base",
      "model_module_version": "1.2.0",
      "model_name": "LayoutModel",
      "state": {
       "_model_module": "@jupyter-widgets/base",
       "_model_module_version": "1.2.0",
       "_model_name": "LayoutModel",
       "_view_count": null,
       "_view_module": "@jupyter-widgets/base",
       "_view_module_version": "1.2.0",
       "_view_name": "LayoutView",
       "align_content": null,
       "align_items": null,
       "align_self": null,
       "border": null,
       "bottom": null,
       "display": null,
       "flex": null,
       "flex_flow": null,
       "grid_area": null,
       "grid_auto_columns": null,
       "grid_auto_flow": null,
       "grid_auto_rows": null,
       "grid_column": null,
       "grid_gap": null,
       "grid_row": null,
       "grid_template_areas": null,
       "grid_template_columns": null,
       "grid_template_rows": null,
       "height": null,
       "justify_content": null,
       "justify_items": null,
       "left": null,
       "margin": null,
       "max_height": null,
       "max_width": null,
       "min_height": null,
       "min_width": null,
       "object_fit": null,
       "object_position": null,
       "order": null,
       "overflow": null,
       "overflow_x": null,
       "overflow_y": null,
       "padding": null,
       "right": null,
       "top": null,
       "visibility": null,
       "width": null
      }
     },
     "65f302b0c3834cd0808560d16b2b03c8": {
      "model_module": "@jupyter-widgets/controls",
      "model_module_version": "1.5.0",
      "model_name": "IntSliderModel",
      "state": {
       "_dom_classes": [],
       "_model_module": "@jupyter-widgets/controls",
       "_model_module_version": "1.5.0",
       "_model_name": "IntSliderModel",
       "_view_count": null,
       "_view_module": "@jupyter-widgets/controls",
       "_view_module_version": "1.5.0",
       "_view_name": "IntSliderView",
       "continuous_update": true,
       "description": "R1",
       "description_tooltip": null,
       "disabled": false,
       "layout": "IPY_MODEL_1c9d793f2672455cb21a2a6473bc979e",
       "max": 300,
       "min": 1,
       "orientation": "horizontal",
       "readout": true,
       "readout_format": "d",
       "step": 1,
       "style": "IPY_MODEL_3ea75c1f9ce44531a8b2b4b000219850",
       "value": 100
      }
     },
     "9fa97fd8960d46abb48bf02d4f54873b": {
      "model_module": "@jupyter-widgets/base",
      "model_module_version": "1.2.0",
      "model_name": "LayoutModel",
      "state": {
       "_model_module": "@jupyter-widgets/base",
       "_model_module_version": "1.2.0",
       "_model_name": "LayoutModel",
       "_view_count": null,
       "_view_module": "@jupyter-widgets/base",
       "_view_module_version": "1.2.0",
       "_view_name": "LayoutView",
       "align_content": null,
       "align_items": null,
       "align_self": null,
       "border": null,
       "bottom": null,
       "display": null,
       "flex": null,
       "flex_flow": null,
       "grid_area": null,
       "grid_auto_columns": null,
       "grid_auto_flow": null,
       "grid_auto_rows": null,
       "grid_column": null,
       "grid_gap": null,
       "grid_row": null,
       "grid_template_areas": null,
       "grid_template_columns": null,
       "grid_template_rows": null,
       "height": null,
       "justify_content": null,
       "justify_items": null,
       "left": null,
       "margin": null,
       "max_height": null,
       "max_width": null,
       "min_height": null,
       "min_width": null,
       "object_fit": null,
       "object_position": null,
       "order": null,
       "overflow": null,
       "overflow_x": null,
       "overflow_y": null,
       "padding": null,
       "right": null,
       "top": null,
       "visibility": null,
       "width": null
      }
     },
     "b93aa871e24a4607b281ae95cc65cd3f": {
      "model_module": "@jupyter-widgets/controls",
      "model_module_version": "1.5.0",
      "model_name": "IntSliderModel",
      "state": {
       "_dom_classes": [],
       "_model_module": "@jupyter-widgets/controls",
       "_model_module_version": "1.5.0",
       "_model_name": "IntSliderModel",
       "_view_count": null,
       "_view_module": "@jupyter-widgets/controls",
       "_view_module_version": "1.5.0",
       "_view_name": "IntSliderView",
       "continuous_update": true,
       "description": "Vin",
       "description_tooltip": null,
       "disabled": false,
       "layout": "IPY_MODEL_2e74462cd09741c0b00df7ca8b947249",
       "max": 5,
       "min": -5,
       "orientation": "horizontal",
       "readout": true,
       "readout_format": "d",
       "step": 1,
       "style": "IPY_MODEL_3db7ad0011b84d06ba27371c4105c97f",
       "value": 5
      }
     },
     "e399febb98b94e94b574e9f57eb9da4b": {
      "model_module": "@jupyter-widgets/controls",
      "model_module_version": "1.5.0",
      "model_name": "SliderStyleModel",
      "state": {
       "_model_module": "@jupyter-widgets/controls",
       "_model_module_version": "1.5.0",
       "_model_name": "SliderStyleModel",
       "_view_count": null,
       "_view_module": "@jupyter-widgets/base",
       "_view_module_version": "1.2.0",
       "_view_name": "StyleView",
       "description_width": "",
       "handle_color": null
      }
     },
     "e85b0704cfe840eeba548426a232f984": {
      "model_module": "@jupyter-widgets/controls",
      "model_module_version": "1.5.0",
      "model_name": "VBoxModel",
      "state": {
       "_dom_classes": [
        "widget-interact"
       ],
       "_model_module": "@jupyter-widgets/controls",
       "_model_module_version": "1.5.0",
       "_model_name": "VBoxModel",
       "_view_count": null,
       "_view_module": "@jupyter-widgets/controls",
       "_view_module_version": "1.5.0",
       "_view_name": "VBoxView",
       "box_style": "",
       "children": [
        "IPY_MODEL_b93aa871e24a4607b281ae95cc65cd3f",
        "IPY_MODEL_65f302b0c3834cd0808560d16b2b03c8",
        "IPY_MODEL_12cad6f329df4466a43ac3ea2f390908",
        "IPY_MODEL_30f8757f8d264b798d7163098749c210"
       ],
       "layout": "IPY_MODEL_61891fa24d694fc09e543c89127a7dfd"
      }
     }
    },
    "version_major": 2,
    "version_minor": 0
   }
  }
 },
 "nbformat": 4,
 "nbformat_minor": 0
}