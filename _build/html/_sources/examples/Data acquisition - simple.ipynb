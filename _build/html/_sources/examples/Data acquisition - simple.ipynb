{
 "cells": [
  {
   "cell_type": "code",
   "execution_count": null,
   "metadata": {},
   "outputs": [],
   "source": [
    "import pylef   # importar pylef \n",
    "import visa    # importar a bilioteca pyVISA para lidar com virtualização de instrumentos\n",
    "import matplotlib.pyplot as plt  # importar a bilioteca pyplot para fazer gráficos\n",
    "import numpy as np   # importar a biblioteca Numpy para lidar com matrizes\n",
    "import time          # importar a bilioteca para funções temporais\n",
    "import pandas as pd   # importa bilioteca pandas para  lidar com processamento de dados\n",
    "import os\n",
    "# próxima linha faz plotar o gráfico dentro do notebook\n",
    "# %matplotlib inline   "
   ]
  },
  {
   "cell_type": "code",
   "execution_count": null,
   "metadata": {},
   "outputs": [],
   "source": [
    "def screenshot(filename):\n",
    "    #setting up hardcopy\n",
    "#     scope.instr.timeout = 20000 # set timeout to 10 seconds\n",
    "    strings = ['SAVE:IMAGE:FILEFORMAT BMP',\n",
    "               'HARDCOPY:BUTTON PRINTS',\n",
    "              'HARDCopy:PORT']\n",
    "    for string in strings:\n",
    "        scope.write(string)\n",
    "        scope.wait()\n",
    "    #screen shot\n",
    "    scope.instr.write('HARDCOPY START')\n",
    "    values = scope.instr.read_raw() \n",
    "    scope.wait()\n",
    "    newFile = open(filename+'.bmp', 'wb')\n",
    "    newFileByteArray = bytearray(values)\n",
    "    newFile.write(newFileByteArray)\n",
    "    newFile.close()\n",
    "    return filename+'.bmp'+ ' saved!'"
   ]
  }
 ],
 "metadata": {
  "kernelspec": {
   "display_name": "Python 3",
   "language": "python",
   "name": "python3"
  },
  "language_info": {
   "codemirror_mode": {
    "name": "ipython",
    "version": 3
   },
   "file_extension": ".py",
   "mimetype": "text/x-python",
   "name": "python",
   "nbconvert_exporter": "python",
   "pygments_lexer": "ipython3",
   "version": "3.7.7"
  },
  "toc": {
   "nav_menu": {},
   "number_sections": true,
   "sideBar": true,
   "skip_h1_title": false,
   "title_cell": "Table of Contents",
   "title_sidebar": "Contents",
   "toc_cell": false,
   "toc_position": {},
   "toc_section_display": true,
   "toc_window_display": false
  }
 },
 "nbformat": 4,
 "nbformat_minor": 4
}
