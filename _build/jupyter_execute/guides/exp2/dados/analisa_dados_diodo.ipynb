{
 "cells": [
  {
   "cell_type": "markdown",
   "metadata": {},
   "source": [
    "# Data analysis: Diode full-wave rectification"
   ]
  },
  {
   "cell_type": "markdown",
   "metadata": {},
   "source": [
    "## Load packages"
   ]
  },
  {
   "cell_type": "code",
   "execution_count": 1,
   "metadata": {},
   "outputs": [],
   "source": [
    "import matplotlib\n",
    "import matplotlib.pyplot as plt  # importar a bilioteca pyplot para fazer gráficos\n",
    "from matplotlib import colors\n",
    "#Comandos opcionais para formatar gráfico\n",
    "font = {'family' : 'Arial',\n",
    "        'weight' : 'normal',\n",
    "        'size'   : 12}\t\n",
    "lines = {'linewidth' : 3.0}\n",
    "figure = {'figsize' : [6.0, 6/1.6]}\n",
    "matplotlib.rc('font', **font)\n",
    "matplotlib.rc('lines', **lines)\n",
    "matplotlib.rc('figure', **figure)\n",
    "\n",
    "import numpy as np   # importar a biblioteca Numpy para lidar com matrizes\n",
    "import pandas as pd   # importa bilioteca pandas para  lidar com processamento de dados\n",
    "import os #com\n",
    "import glob\n",
    "from scipy.optimize import curve_fit # pacote para ajuste de curvas\n",
    "# navegar pelas pastas"
   ]
  },
  {
   "cell_type": "markdown",
   "metadata": {},
   "source": [
    "## Getting the list of files"
   ]
  },
  {
   "cell_type": "markdown",
   "metadata": {},
   "source": [
    "If you want to find out in which folder your located at the moment, use the command `os.getcwd()`:"
   ]
  },
  {
   "cell_type": "code",
   "execution_count": 2,
   "metadata": {},
   "outputs": [
    {
     "data": {
      "text/plain": [
       "'/Users/gsw/GitHub/F540_jbook/guides/exp2/dados'"
      ]
     },
     "execution_count": 2,
     "metadata": {},
     "output_type": "execute_result"
    }
   ],
   "source": [
    "os.getcwd() # aonde estou?"
   ]
  },
  {
   "cell_type": "markdown",
   "metadata": {},
   "source": [
    "This is important because it may affect how you load data in the cell below:\n",
    "\n",
    "* The command `path = os.getcwd()` will assign to the variable `path` the current folder\n",
    "* **If your data files are within this folder**, then you should be able to load them right away\n"
   ]
  },
  {
   "cell_type": "code",
   "execution_count": 3,
   "metadata": {},
   "outputs": [
    {
     "name": "stdout",
     "output_type": "stream",
     "text": [
      "/Users/gsw/GitHub/F540_jbook/guides/exp2/dados\n"
     ]
    }
   ],
   "source": [
    "#Colocando nomes das pastas e arquivos\n",
    "path = os.getcwd()\n",
    "print(path)"
   ]
  },
  {
   "cell_type": "markdown",
   "metadata": {},
   "source": [
    "* `glob.glob('*')` will list all files in current folder, including *subfolders*:"
   ]
  },
  {
   "cell_type": "code",
   "execution_count": 4,
   "metadata": {},
   "outputs": [
    {
     "data": {
      "text/plain": [
       "['dados_onda_completa',\n",
       " 'dados_meia_onda.zip',\n",
       " 'dados_onda_completa.zip',\n",
       " 'analise_meia_onda_teoria_fig.png',\n",
       " '001_meia_onda_c_R_330.dat',\n",
       " 'analisa_dados_diodo.ipynb']"
      ]
     },
     "execution_count": 4,
     "metadata": {},
     "output_type": "execute_result"
    }
   ],
   "source": [
    "glob.glob('*')"
   ]
  },
  {
   "cell_type": "markdown",
   "metadata": {},
   "source": [
    "* I know my data is within the `dados_onda_completa` folder, so I will list the files within it.\n",
    "* Im Unix OS (Mac and Linux), I will provide the string `dados_onda_completa/*`. But in Windows, it will need to be `dados_onda_completa\\*`. \n",
    "* To make sure this command will work regardless of you OS, I will explore the command `os.path.join`, which will determine automatically whether `/` or `\\` is to be used: "
   ]
  },
  {
   "cell_type": "code",
   "execution_count": 5,
   "metadata": {},
   "outputs": [
    {
     "data": {
      "text/plain": [
       "'dados_onda_completa/*'"
      ]
     },
     "execution_count": 5,
     "metadata": {},
     "output_type": "execute_result"
    }
   ],
   "source": [
    "os.path.join('dados_onda_completa','*')"
   ]
  },
  {
   "cell_type": "code",
   "execution_count": 6,
   "metadata": {},
   "outputs": [
    {
     "name": "stdout",
     "output_type": "stream",
     "text": [
      "['dados_onda_completa/013_onda_completa_R_330.dat', 'dados_onda_completa/013_onda_completa_R_330_fig.png', 'dados_onda_completa/014_onda_completa_C_R_330.dat', 'dados_onda_completa/014_onda_completa_C_R_330_fig.png', 'dados_onda_completa/015_onda_completa_C_R_352.dat', 'dados_onda_completa/015_onda_completa_C_R_352_fig.png', 'dados_onda_completa/016_onda_completa_C_R_412.dat', 'dados_onda_completa/016_onda_completa_C_R_412_fig.png', 'dados_onda_completa/017_onda_completa_C_R_510.dat', 'dados_onda_completa/017_onda_completa_C_R_510_fig.png', 'dados_onda_completa/018_onda_completa_C_R_610.dat', 'dados_onda_completa/018_onda_completa_C_R_610_fig.png', 'dados_onda_completa/019_onda_completa_C_R_820.dat', 'dados_onda_completa/019_onda_completa_C_R_820_fig.png', 'dados_onda_completa/020_onda_completa_C_R_1000.dat', 'dados_onda_completa/020_onda_completa_C_R_1000_fig.png', 'dados_onda_completa/021_onda_completa_C_R_1200.dat', 'dados_onda_completa/021_onda_completa_C_R_1200_fig.png', 'dados_onda_completa/022_onda_completa_C_R_2700.dat', 'dados_onda_completa/022_onda_completa_C_R_2700_fig.png', 'dados_onda_completa/023_onda_completa_C_R_4700.dat', 'dados_onda_completa/023_onda_completa_C_R_4700_fig.png', 'dados_onda_completa/024_onda_completa_C_R_9100.dat', 'dados_onda_completa/024_onda_completa_C_R_9100_fig.png', 'dados_onda_completa/025_onda_completa_C_R_aberto.dat', 'dados_onda_completa/025_onda_completa_C_R_aberto_fig.png']\n"
     ]
    }
   ],
   "source": [
    "file_list = sorted(glob.glob(os.path.join('dados_onda_completa','*')))\n",
    "print(file_list)"
   ]
  },
  {
   "cell_type": "markdown",
   "metadata": {},
   "source": [
    "* Note usage of the python fucntion `sorted()` to sort the files in increasing name order.\n",
    "* The list above is fine and we can access its content using integer indexes (starting at zero):"
   ]
  },
  {
   "cell_type": "code",
   "execution_count": 7,
   "metadata": {},
   "outputs": [
    {
     "data": {
      "text/plain": [
       "'dados_onda_completa/013_onda_completa_R_330.dat'"
      ]
     },
     "execution_count": 7,
     "metadata": {},
     "output_type": "execute_result"
    }
   ],
   "source": [
    "file_list[0]"
   ]
  },
  {
   "cell_type": "markdown",
   "metadata": {},
   "source": [
    "* Instead, I will use the command `pd.Series(file_list)` from the Pandas package, this will show the file names with the corresponding indexes:"
   ]
  },
  {
   "cell_type": "code",
   "execution_count": 8,
   "metadata": {},
   "outputs": [
    {
     "data": {
      "text/plain": [
       "0       dados_onda_completa/013_onda_completa_R_330.dat\n",
       "1     dados_onda_completa/013_onda_completa_R_330_fi...\n",
       "2     dados_onda_completa/014_onda_completa_C_R_330.dat\n",
       "3     dados_onda_completa/014_onda_completa_C_R_330_...\n",
       "4     dados_onda_completa/015_onda_completa_C_R_352.dat\n",
       "5     dados_onda_completa/015_onda_completa_C_R_352_...\n",
       "6     dados_onda_completa/016_onda_completa_C_R_412.dat\n",
       "7     dados_onda_completa/016_onda_completa_C_R_412_...\n",
       "8     dados_onda_completa/017_onda_completa_C_R_510.dat\n",
       "9     dados_onda_completa/017_onda_completa_C_R_510_...\n",
       "10    dados_onda_completa/018_onda_completa_C_R_610.dat\n",
       "11    dados_onda_completa/018_onda_completa_C_R_610_...\n",
       "12    dados_onda_completa/019_onda_completa_C_R_820.dat\n",
       "13    dados_onda_completa/019_onda_completa_C_R_820_...\n",
       "14    dados_onda_completa/020_onda_completa_C_R_1000...\n",
       "15    dados_onda_completa/020_onda_completa_C_R_1000...\n",
       "16    dados_onda_completa/021_onda_completa_C_R_1200...\n",
       "17    dados_onda_completa/021_onda_completa_C_R_1200...\n",
       "18    dados_onda_completa/022_onda_completa_C_R_2700...\n",
       "19    dados_onda_completa/022_onda_completa_C_R_2700...\n",
       "20    dados_onda_completa/023_onda_completa_C_R_4700...\n",
       "21    dados_onda_completa/023_onda_completa_C_R_4700...\n",
       "22    dados_onda_completa/024_onda_completa_C_R_9100...\n",
       "23    dados_onda_completa/024_onda_completa_C_R_9100...\n",
       "24    dados_onda_completa/025_onda_completa_C_R_aber...\n",
       "25    dados_onda_completa/025_onda_completa_C_R_aber...\n",
       "dtype: object"
      ]
     },
     "execution_count": 8,
     "metadata": {},
     "output_type": "execute_result"
    }
   ],
   "source": [
    "pd.Series(file_list)"
   ]
  },
  {
   "cell_type": "markdown",
   "metadata": {},
   "source": [
    "Another way of achieving a similar result is using a for loop:"
   ]
  },
  {
   "cell_type": "code",
   "execution_count": 9,
   "metadata": {},
   "outputs": [
    {
     "name": "stdout",
     "output_type": "stream",
     "text": [
      "[0, 'dados_onda_completa/013_onda_completa_R_330.dat']\n",
      "[1, 'dados_onda_completa/013_onda_completa_R_330_fig.png']\n",
      "[2, 'dados_onda_completa/014_onda_completa_C_R_330.dat']\n",
      "[3, 'dados_onda_completa/014_onda_completa_C_R_330_fig.png']\n",
      "[4, 'dados_onda_completa/015_onda_completa_C_R_352.dat']\n",
      "[5, 'dados_onda_completa/015_onda_completa_C_R_352_fig.png']\n",
      "[6, 'dados_onda_completa/016_onda_completa_C_R_412.dat']\n",
      "[7, 'dados_onda_completa/016_onda_completa_C_R_412_fig.png']\n",
      "[8, 'dados_onda_completa/017_onda_completa_C_R_510.dat']\n",
      "[9, 'dados_onda_completa/017_onda_completa_C_R_510_fig.png']\n",
      "[10, 'dados_onda_completa/018_onda_completa_C_R_610.dat']\n",
      "[11, 'dados_onda_completa/018_onda_completa_C_R_610_fig.png']\n",
      "[12, 'dados_onda_completa/019_onda_completa_C_R_820.dat']\n",
      "[13, 'dados_onda_completa/019_onda_completa_C_R_820_fig.png']\n",
      "[14, 'dados_onda_completa/020_onda_completa_C_R_1000.dat']\n",
      "[15, 'dados_onda_completa/020_onda_completa_C_R_1000_fig.png']\n",
      "[16, 'dados_onda_completa/021_onda_completa_C_R_1200.dat']\n",
      "[17, 'dados_onda_completa/021_onda_completa_C_R_1200_fig.png']\n",
      "[18, 'dados_onda_completa/022_onda_completa_C_R_2700.dat']\n",
      "[19, 'dados_onda_completa/022_onda_completa_C_R_2700_fig.png']\n",
      "[20, 'dados_onda_completa/023_onda_completa_C_R_4700.dat']\n",
      "[21, 'dados_onda_completa/023_onda_completa_C_R_4700_fig.png']\n",
      "[22, 'dados_onda_completa/024_onda_completa_C_R_9100.dat']\n",
      "[23, 'dados_onda_completa/024_onda_completa_C_R_9100_fig.png']\n",
      "[24, 'dados_onda_completa/025_onda_completa_C_R_aberto.dat']\n",
      "[25, 'dados_onda_completa/025_onda_completa_C_R_aberto_fig.png']\n"
     ]
    }
   ],
   "source": [
    "[print([i, file]) for i,file in  enumerate(file_list)];"
   ]
  },
  {
   "cell_type": "markdown",
   "metadata": {},
   "source": [
    "## Reading the files"
   ]
  },
  {
   "cell_type": "markdown",
   "metadata": {},
   "source": [
    "### reading a single file\n",
    "Note the use of the `sep='\\t'` argument for the `pd.read_csv` command. It was used because the data files used a TAB character for separating values.\n",
    "The output file will be a Pandas [DataFrame](https://pandas.pydata.org/pandas-docs/stable/user_guide/dsintro.html#dataframe) object:"
   ]
  },
  {
   "cell_type": "code",
   "execution_count": 10,
   "metadata": {},
   "outputs": [
    {
     "name": "stdout",
     "output_type": "stream",
     "text": [
      "dados_onda_completa/013_onda_completa_R_330.dat\n"
     ]
    },
    {
     "data": {
      "text/html": [
       "<div>\n",
       "<style scoped>\n",
       "    .dataframe tbody tr th:only-of-type {\n",
       "        vertical-align: middle;\n",
       "    }\n",
       "\n",
       "    .dataframe tbody tr th {\n",
       "        vertical-align: top;\n",
       "    }\n",
       "\n",
       "    .dataframe thead th {\n",
       "        text-align: right;\n",
       "    }\n",
       "</style>\n",
       "<table border=\"1\" class=\"dataframe\">\n",
       "  <thead>\n",
       "    <tr style=\"text-align: right;\">\n",
       "      <th></th>\n",
       "      <th>tempo(s)</th>\n",
       "      <th>ch1(V)</th>\n",
       "      <th>ch2(V)</th>\n",
       "    </tr>\n",
       "  </thead>\n",
       "  <tbody>\n",
       "    <tr>\n",
       "      <th>0</th>\n",
       "      <td>0.00002</td>\n",
       "      <td>1.2</td>\n",
       "      <td>0.6</td>\n",
       "    </tr>\n",
       "    <tr>\n",
       "      <th>1</th>\n",
       "      <td>0.00004</td>\n",
       "      <td>1.4</td>\n",
       "      <td>0.6</td>\n",
       "    </tr>\n",
       "    <tr>\n",
       "      <th>2</th>\n",
       "      <td>0.00006</td>\n",
       "      <td>1.4</td>\n",
       "      <td>0.8</td>\n",
       "    </tr>\n",
       "    <tr>\n",
       "      <th>3</th>\n",
       "      <td>0.00008</td>\n",
       "      <td>1.6</td>\n",
       "      <td>1.0</td>\n",
       "    </tr>\n",
       "    <tr>\n",
       "      <th>4</th>\n",
       "      <td>0.00010</td>\n",
       "      <td>1.8</td>\n",
       "      <td>1.0</td>\n",
       "    </tr>\n",
       "  </tbody>\n",
       "</table>\n",
       "</div>"
      ],
      "text/plain": [
       "   tempo(s)  ch1(V)  ch2(V)\n",
       "0   0.00002     1.2     0.6\n",
       "1   0.00004     1.4     0.6\n",
       "2   0.00006     1.4     0.8\n",
       "3   0.00008     1.6     1.0\n",
       "4   0.00010     1.8     1.0"
      ]
     },
     "execution_count": 10,
     "metadata": {},
     "output_type": "execute_result"
    }
   ],
   "source": [
    "file = file_list[0]\n",
    "print(file)\n",
    "df = pd.read_csv(file,sep='\\t') # DataFrame segundo Pandasdf\n",
    "df.columns = ['tempo(s)','ch1(V)','ch2(V)']\n",
    "df.head() # preview the first few rows"
   ]
  },
  {
   "cell_type": "markdown",
   "metadata": {},
   "source": [
    "We can access columns using either of the two approaches:\n",
    "* Using the column name, for example, `df['ch1(V)']` will give us column `'ch1(V)'` content\n",
    "* Using indexes: \n",
    "    * `df.iloc[:,0]` - All rows of column `tempo(s)` \n",
    "    * `df.iloc[0,0]` - first row of column `tempo(s)` \n",
    "    * `df.iloc[:,1]` - All rows of column `ch1(V)` \n",
    "    * `df.iloc[:,2]` - All rows of column `ch2(V)` \n",
    "    \n",
    "For example:"
   ]
  },
  {
   "cell_type": "code",
   "execution_count": 11,
   "metadata": {},
   "outputs": [
    {
     "data": {
      "text/plain": [
       "0       0.00002\n",
       "1       0.00004\n",
       "2       0.00006\n",
       "3       0.00008\n",
       "4       0.00010\n",
       "         ...   \n",
       "2495    0.04992\n",
       "2496    0.04994\n",
       "2497    0.04996\n",
       "2498    0.04998\n",
       "2499    0.05000\n",
       "Name: tempo(s), Length: 2500, dtype: float64"
      ]
     },
     "execution_count": 11,
     "metadata": {},
     "output_type": "execute_result"
    }
   ],
   "source": [
    "df.iloc[:,0]"
   ]
  },
  {
   "cell_type": "markdown",
   "metadata": {},
   "source": [
    "Below use [Numpy](https://numpy.org/doc/stable/user/whatisnumpy.html) functions to calculate:\n",
    "* mean value\n",
    "* max and min voltages\n",
    "Note that Numpy functions works seamlessly with Pandas DataFrames:"
   ]
  },
  {
   "cell_type": "code",
   "execution_count": 12,
   "metadata": {},
   "outputs": [
    {
     "name": "stdout",
     "output_type": "stream",
     "text": [
      "tensões= [0.09839999999999946, 15.8, -15.6]\n",
      "tensões= [9.34344, 14.8, -0.2]\n"
     ]
    }
   ],
   "source": [
    "V1med = np.mean(df['ch1(V)'])\n",
    "V1max = np.max(df['ch1(V)'])\n",
    "V1min = np.min(df['ch1(V)'])\n",
    "print('tensões=',[V1med,V1max,V1min])\n",
    "#---\n",
    "V2med = np.mean(df['ch2(V)'])\n",
    "V2max = np.max(df['ch2(V)'])\n",
    "V2min = np.min(df['ch2(V)'])\n",
    "print('tensões=',[V2med,V2max,V2min])"
   ]
  },
  {
   "cell_type": "markdown",
   "metadata": {},
   "source": [
    "### Plotting the time waveforms using [Matplotlib](https://matplotlib.org/)"
   ]
  },
  {
   "cell_type": "code",
   "execution_count": 13,
   "metadata": {},
   "outputs": [
    {
     "data": {
      "image/png": "[encoded data removed]",
      "text/plain": [
       "<Figure size 720x216 with 2 Axes>"
      ]
     },
     "metadata": {
      "filenames": {
       "image/png": "/Users/gsw/GitHub/F540_jbook/_build/jupyter_execute/guides/exp2/dados/analisa_dados_diodo_27_0.png"
      },
      "needs_background": "light"
     },
     "output_type": "display_data"
    }
   ],
   "source": [
    "#----\n",
    "fig,ax = plt.subplots(1,2,figsize=(10,3), sharey=True)\n",
    "#------------------------\n",
    "ax0=ax[0]\n",
    "#--\n",
    "ax0.plot(1e3*df['tempo(s)'],df['ch1(V)'])\n",
    "ax0.axhline(V1med,color='green',linestyle='--',label='$V_{dc}$'+'={:3.2f} V'.format(V1med))\n",
    "ax0.axhline(V1max,color='red',linestyle='--',label='$V_{max}$'+'={:3.2f} V'.format(V1max))\n",
    "ax0.axhline(V1min,color='blue',linestyle='--',label='$V_{min}$'+'={:3.2f} V'.format(V1min))\n",
    "#--\n",
    "ax0.grid(True)\n",
    "ax0.set_xlabel('Tempo (ms)')\n",
    "ax0.set_ylabel('Tensão (V)')\n",
    "ax0.legend(loc='best')\n",
    "#------------------------\n",
    "ax0=ax[1]\n",
    "ax0.plot(1e3*df['tempo(s)'],df['ch2(V)'])\n",
    "#--\n",
    "ax0.axhline(V2med,color='green',linestyle='--',label='$V_{dc}$'+'={:3.2f} V'.format(V2med))\n",
    "ax0.axhline(V2max,color='red',linestyle='--',label='$V_{max}$'+'={:3.2f} V'.format(V2max))\n",
    "ax0.axhline(V2min,color='blue',linestyle='--',label='$V_{min}$'+'={:3.2f} V'.format(V2min))\n",
    "#--\n",
    "ax0.grid(True)\n",
    "ax0.set_xlabel('Tempo (ms)')\n",
    "#ax0.set_ylabel('Tensão (V)')\n",
    "ax0.legend(loc='best')\n",
    "#------------------\n",
    "plt.tight_layout()\n",
    "#----\n",
    "st = fig.suptitle('dado: '+file)\n",
    "# shift subplots down:\n",
    "st.set_y(1.02)\n",
    "#---\n",
    "#plt.savefig(file[0:-4]+'_fig.pdf')"
   ]
  },
  {
   "cell_type": "markdown",
   "metadata": {},
   "source": [
    "## Loading and plotting multiple files at once"
   ]
  },
  {
   "cell_type": "code",
   "execution_count": 14,
   "metadata": {
    "tags": [
     "hide-cell"
    ]
   },
   "outputs": [
    {
     "data": {
      "text/plain": [
       "0       dados_onda_completa/013_onda_completa_R_330.dat\n",
       "1     dados_onda_completa/013_onda_completa_R_330_fi...\n",
       "2     dados_onda_completa/014_onda_completa_C_R_330.dat\n",
       "3     dados_onda_completa/014_onda_completa_C_R_330_...\n",
       "4     dados_onda_completa/015_onda_completa_C_R_352.dat\n",
       "5     dados_onda_completa/015_onda_completa_C_R_352_...\n",
       "6     dados_onda_completa/016_onda_completa_C_R_412.dat\n",
       "7     dados_onda_completa/016_onda_completa_C_R_412_...\n",
       "8     dados_onda_completa/017_onda_completa_C_R_510.dat\n",
       "9     dados_onda_completa/017_onda_completa_C_R_510_...\n",
       "10    dados_onda_completa/018_onda_completa_C_R_610.dat\n",
       "11    dados_onda_completa/018_onda_completa_C_R_610_...\n",
       "12    dados_onda_completa/019_onda_completa_C_R_820.dat\n",
       "13    dados_onda_completa/019_onda_completa_C_R_820_...\n",
       "14    dados_onda_completa/020_onda_completa_C_R_1000...\n",
       "15    dados_onda_completa/020_onda_completa_C_R_1000...\n",
       "16    dados_onda_completa/021_onda_completa_C_R_1200...\n",
       "17    dados_onda_completa/021_onda_completa_C_R_1200...\n",
       "18    dados_onda_completa/022_onda_completa_C_R_2700...\n",
       "19    dados_onda_completa/022_onda_completa_C_R_2700...\n",
       "20    dados_onda_completa/023_onda_completa_C_R_4700...\n",
       "21    dados_onda_completa/023_onda_completa_C_R_4700...\n",
       "22    dados_onda_completa/024_onda_completa_C_R_9100...\n",
       "23    dados_onda_completa/024_onda_completa_C_R_9100...\n",
       "24    dados_onda_completa/025_onda_completa_C_R_aber...\n",
       "25    dados_onda_completa/025_onda_completa_C_R_aber...\n",
       "dtype: object"
      ]
     },
     "metadata": {
      "scrapbook": {
       "mime_prefix": "",
       "name": "file_print"
      }
     },
     "output_type": "display_data"
    }
   ],
   "source": [
    "from myst_nb import glue\n",
    "glue(\"file_print\",pd.Series(file_list))"
   ]
  },
  {
   "cell_type": "markdown",
   "metadata": {},
   "source": [
    "Now that we know how to handle a single file, we can use a `for` loop to sequentially open and process all files. For example, I manually extracted from the file names the values of resistance associated with each file:\n",
    "\n",
    "{glue}`file_print`"
   ]
  },
  {
   "cell_type": "code",
   "execution_count": 15,
   "metadata": {},
   "outputs": [
    {
     "ename": "UnicodeDecodeError",
     "evalue": "'utf-8' codec can't decode byte 0x89 in position 0: invalid start byte",
     "output_type": "error",
     "traceback": [
      "\u001b[0;31m---------------------------------------------------------------------------\u001b[0m",
      "\u001b[0;31mUnicodeDecodeError\u001b[0m                        Traceback (most recent call last)",
      "\u001b[0;32m<ipython-input-15-de959cbe8f3f>\u001b[0m in \u001b[0;36m<module>\u001b[0;34m\u001b[0m\n\u001b[1;32m     14\u001b[0m \u001b[0;32mfor\u001b[0m \u001b[0mii\u001b[0m\u001b[0;34m,\u001b[0m\u001b[0mfile\u001b[0m \u001b[0;32min\u001b[0m \u001b[0menumerate\u001b[0m\u001b[0;34m(\u001b[0m\u001b[0mfile_list\u001b[0m\u001b[0;34m)\u001b[0m\u001b[0;34m:\u001b[0m\u001b[0;31m#[1:-3]\u001b[0m\u001b[0;34m\u001b[0m\u001b[0;34m\u001b[0m\u001b[0m\n\u001b[1;32m     15\u001b[0m     \u001b[0;31m#----\u001b[0m\u001b[0;34m\u001b[0m\u001b[0;34m\u001b[0m\u001b[0;34m\u001b[0m\u001b[0m\n\u001b[0;32m---> 16\u001b[0;31m     \u001b[0mdf\u001b[0m \u001b[0;34m=\u001b[0m \u001b[0mpd\u001b[0m\u001b[0;34m.\u001b[0m\u001b[0mread_csv\u001b[0m\u001b[0;34m(\u001b[0m\u001b[0mfile\u001b[0m\u001b[0;34m,\u001b[0m\u001b[0msep\u001b[0m\u001b[0;34m=\u001b[0m\u001b[0;34m'\\t'\u001b[0m\u001b[0;34m)\u001b[0m \u001b[0;31m# DataFrame segundo Pandasdf\u001b[0m\u001b[0;34m\u001b[0m\u001b[0;34m\u001b[0m\u001b[0m\n\u001b[0m\u001b[1;32m     17\u001b[0m     \u001b[0mdf\u001b[0m\u001b[0;34m.\u001b[0m\u001b[0mcolumns\u001b[0m \u001b[0;34m=\u001b[0m \u001b[0;34m[\u001b[0m\u001b[0;34m'tempo(s)'\u001b[0m\u001b[0;34m,\u001b[0m\u001b[0;34m'ch1(V)'\u001b[0m\u001b[0;34m,\u001b[0m\u001b[0;34m'ch2(V)'\u001b[0m\u001b[0;34m]\u001b[0m\u001b[0;34m\u001b[0m\u001b[0;34m\u001b[0m\u001b[0m\n\u001b[1;32m     18\u001b[0m     \u001b[0;31m#----\u001b[0m\u001b[0;34m\u001b[0m\u001b[0;34m\u001b[0m\u001b[0;34m\u001b[0m\u001b[0m\n",
      "\u001b[0;32m/Library/Frameworks/Python.framework/Versions/3.7/lib/python3.7/site-packages/pandas/io/parsers.py\u001b[0m in \u001b[0;36mread_csv\u001b[0;34m(filepath_or_buffer, sep, delimiter, header, names, index_col, usecols, squeeze, prefix, mangle_dupe_cols, dtype, engine, converters, true_values, false_values, skipinitialspace, skiprows, skipfooter, nrows, na_values, keep_default_na, na_filter, verbose, skip_blank_lines, parse_dates, infer_datetime_format, keep_date_col, date_parser, dayfirst, cache_dates, iterator, chunksize, compression, thousands, decimal, lineterminator, quotechar, quoting, doublequote, escapechar, comment, encoding, dialect, error_bad_lines, warn_bad_lines, delim_whitespace, low_memory, memory_map, float_precision)\u001b[0m\n\u001b[1;32m    684\u001b[0m     )\n\u001b[1;32m    685\u001b[0m \u001b[0;34m\u001b[0m\u001b[0m\n\u001b[0;32m--> 686\u001b[0;31m     \u001b[0;32mreturn\u001b[0m \u001b[0m_read\u001b[0m\u001b[0;34m(\u001b[0m\u001b[0mfilepath_or_buffer\u001b[0m\u001b[0;34m,\u001b[0m \u001b[0mkwds\u001b[0m\u001b[0;34m)\u001b[0m\u001b[0;34m\u001b[0m\u001b[0;34m\u001b[0m\u001b[0m\n\u001b[0m\u001b[1;32m    687\u001b[0m \u001b[0;34m\u001b[0m\u001b[0m\n\u001b[1;32m    688\u001b[0m \u001b[0;34m\u001b[0m\u001b[0m\n",
      "\u001b[0;32m/Library/Frameworks/Python.framework/Versions/3.7/lib/python3.7/site-packages/pandas/io/parsers.py\u001b[0m in \u001b[0;36m_read\u001b[0;34m(filepath_or_buffer, kwds)\u001b[0m\n\u001b[1;32m    450\u001b[0m \u001b[0;34m\u001b[0m\u001b[0m\n\u001b[1;32m    451\u001b[0m     \u001b[0;31m# Create the parser.\u001b[0m\u001b[0;34m\u001b[0m\u001b[0;34m\u001b[0m\u001b[0;34m\u001b[0m\u001b[0m\n\u001b[0;32m--> 452\u001b[0;31m     \u001b[0mparser\u001b[0m \u001b[0;34m=\u001b[0m \u001b[0mTextFileReader\u001b[0m\u001b[0;34m(\u001b[0m\u001b[0mfp_or_buf\u001b[0m\u001b[0;34m,\u001b[0m \u001b[0;34m**\u001b[0m\u001b[0mkwds\u001b[0m\u001b[0;34m)\u001b[0m\u001b[0;34m\u001b[0m\u001b[0;34m\u001b[0m\u001b[0m\n\u001b[0m\u001b[1;32m    453\u001b[0m \u001b[0;34m\u001b[0m\u001b[0m\n\u001b[1;32m    454\u001b[0m     \u001b[0;32mif\u001b[0m \u001b[0mchunksize\u001b[0m \u001b[0;32mor\u001b[0m \u001b[0miterator\u001b[0m\u001b[0;34m:\u001b[0m\u001b[0;34m\u001b[0m\u001b[0;34m\u001b[0m\u001b[0m\n",
      "\u001b[0;32m/Library/Frameworks/Python.framework/Versions/3.7/lib/python3.7/site-packages/pandas/io/parsers.py\u001b[0m in \u001b[0;36m__init__\u001b[0;34m(self, f, engine, **kwds)\u001b[0m\n\u001b[1;32m    944\u001b[0m             \u001b[0mself\u001b[0m\u001b[0;34m.\u001b[0m\u001b[0moptions\u001b[0m\u001b[0;34m[\u001b[0m\u001b[0;34m\"has_index_names\"\u001b[0m\u001b[0;34m]\u001b[0m \u001b[0;34m=\u001b[0m \u001b[0mkwds\u001b[0m\u001b[0;34m[\u001b[0m\u001b[0;34m\"has_index_names\"\u001b[0m\u001b[0;34m]\u001b[0m\u001b[0;34m\u001b[0m\u001b[0;34m\u001b[0m\u001b[0m\n\u001b[1;32m    945\u001b[0m \u001b[0;34m\u001b[0m\u001b[0m\n\u001b[0;32m--> 946\u001b[0;31m         \u001b[0mself\u001b[0m\u001b[0;34m.\u001b[0m\u001b[0m_make_engine\u001b[0m\u001b[0;34m(\u001b[0m\u001b[0mself\u001b[0m\u001b[0;34m.\u001b[0m\u001b[0mengine\u001b[0m\u001b[0;34m)\u001b[0m\u001b[0;34m\u001b[0m\u001b[0;34m\u001b[0m\u001b[0m\n\u001b[0m\u001b[1;32m    947\u001b[0m \u001b[0;34m\u001b[0m\u001b[0m\n\u001b[1;32m    948\u001b[0m     \u001b[0;32mdef\u001b[0m \u001b[0mclose\u001b[0m\u001b[0;34m(\u001b[0m\u001b[0mself\u001b[0m\u001b[0;34m)\u001b[0m\u001b[0;34m:\u001b[0m\u001b[0;34m\u001b[0m\u001b[0;34m\u001b[0m\u001b[0m\n",
      "\u001b[0;32m/Library/Frameworks/Python.framework/Versions/3.7/lib/python3.7/site-packages/pandas/io/parsers.py\u001b[0m in \u001b[0;36m_make_engine\u001b[0;34m(self, engine)\u001b[0m\n\u001b[1;32m   1176\u001b[0m     \u001b[0;32mdef\u001b[0m \u001b[0m_make_engine\u001b[0m\u001b[0;34m(\u001b[0m\u001b[0mself\u001b[0m\u001b[0;34m,\u001b[0m \u001b[0mengine\u001b[0m\u001b[0;34m=\u001b[0m\u001b[0;34m\"c\"\u001b[0m\u001b[0;34m)\u001b[0m\u001b[0;34m:\u001b[0m\u001b[0;34m\u001b[0m\u001b[0;34m\u001b[0m\u001b[0m\n\u001b[1;32m   1177\u001b[0m         \u001b[0;32mif\u001b[0m \u001b[0mengine\u001b[0m \u001b[0;34m==\u001b[0m \u001b[0;34m\"c\"\u001b[0m\u001b[0;34m:\u001b[0m\u001b[0;34m\u001b[0m\u001b[0;34m\u001b[0m\u001b[0m\n\u001b[0;32m-> 1178\u001b[0;31m             \u001b[0mself\u001b[0m\u001b[0;34m.\u001b[0m\u001b[0m_engine\u001b[0m \u001b[0;34m=\u001b[0m \u001b[0mCParserWrapper\u001b[0m\u001b[0;34m(\u001b[0m\u001b[0mself\u001b[0m\u001b[0;34m.\u001b[0m\u001b[0mf\u001b[0m\u001b[0;34m,\u001b[0m \u001b[0;34m**\u001b[0m\u001b[0mself\u001b[0m\u001b[0;34m.\u001b[0m\u001b[0moptions\u001b[0m\u001b[0;34m)\u001b[0m\u001b[0;34m\u001b[0m\u001b[0;34m\u001b[0m\u001b[0m\n\u001b[0m\u001b[1;32m   1179\u001b[0m         \u001b[0;32melse\u001b[0m\u001b[0;34m:\u001b[0m\u001b[0;34m\u001b[0m\u001b[0;34m\u001b[0m\u001b[0m\n\u001b[1;32m   1180\u001b[0m             \u001b[0;32mif\u001b[0m \u001b[0mengine\u001b[0m \u001b[0;34m==\u001b[0m \u001b[0;34m\"python\"\u001b[0m\u001b[0;34m:\u001b[0m\u001b[0;34m\u001b[0m\u001b[0;34m\u001b[0m\u001b[0m\n",
      "\u001b[0;32m/Library/Frameworks/Python.framework/Versions/3.7/lib/python3.7/site-packages/pandas/io/parsers.py\u001b[0m in \u001b[0;36m__init__\u001b[0;34m(self, src, **kwds)\u001b[0m\n\u001b[1;32m   2006\u001b[0m         \u001b[0mkwds\u001b[0m\u001b[0;34m[\u001b[0m\u001b[0;34m\"usecols\"\u001b[0m\u001b[0;34m]\u001b[0m \u001b[0;34m=\u001b[0m \u001b[0mself\u001b[0m\u001b[0;34m.\u001b[0m\u001b[0musecols\u001b[0m\u001b[0;34m\u001b[0m\u001b[0;34m\u001b[0m\u001b[0m\n\u001b[1;32m   2007\u001b[0m \u001b[0;34m\u001b[0m\u001b[0m\n\u001b[0;32m-> 2008\u001b[0;31m         \u001b[0mself\u001b[0m\u001b[0;34m.\u001b[0m\u001b[0m_reader\u001b[0m \u001b[0;34m=\u001b[0m \u001b[0mparsers\u001b[0m\u001b[0;34m.\u001b[0m\u001b[0mTextReader\u001b[0m\u001b[0;34m(\u001b[0m\u001b[0msrc\u001b[0m\u001b[0;34m,\u001b[0m \u001b[0;34m**\u001b[0m\u001b[0mkwds\u001b[0m\u001b[0;34m)\u001b[0m\u001b[0;34m\u001b[0m\u001b[0;34m\u001b[0m\u001b[0m\n\u001b[0m\u001b[1;32m   2009\u001b[0m         \u001b[0mself\u001b[0m\u001b[0;34m.\u001b[0m\u001b[0munnamed_cols\u001b[0m \u001b[0;34m=\u001b[0m \u001b[0mself\u001b[0m\u001b[0;34m.\u001b[0m\u001b[0m_reader\u001b[0m\u001b[0;34m.\u001b[0m\u001b[0munnamed_cols\u001b[0m\u001b[0;34m\u001b[0m\u001b[0;34m\u001b[0m\u001b[0m\n\u001b[1;32m   2010\u001b[0m \u001b[0;34m\u001b[0m\u001b[0m\n",
      "\u001b[0;32mpandas/_libs/parsers.pyx\u001b[0m in \u001b[0;36mpandas._libs.parsers.TextReader.__cinit__\u001b[0;34m()\u001b[0m\n",
      "\u001b[0;32mpandas/_libs/parsers.pyx\u001b[0m in \u001b[0;36mpandas._libs.parsers.TextReader._get_header\u001b[0;34m()\u001b[0m\n",
      "\u001b[0;31mUnicodeDecodeError\u001b[0m: 'utf-8' codec can't decode byte 0x89 in position 0: invalid start byte"
     ]
    },
    {
     "data": {
      "image/png": "[encoded data removed]",
      "text/plain": [
       "<Figure size 720x360 with 2 Axes>"
      ]
     },
     "metadata": {
      "filenames": {
       "image/png": "/Users/gsw/GitHub/F540_jbook/_build/jupyter_execute/guides/exp2/dados/analisa_dados_diodo_31_1.png"
      },
      "needs_background": "light"
     },
     "output_type": "display_data"
    }
   ],
   "source": [
    "res_val = np.array([327,327,349,404,505,603,820,993,1185,2640,4640,8880,1e8])\n",
    "#----------------\n",
    "#mapa de cores\n",
    "cm=plt.get_cmap('viridis')\n",
    "norm = colors.Normalize(vmin = 330,vmax = 1e4)\n",
    "#----------------\n",
    "#initialize python lists to store the relevant quantities\n",
    "vmax_vec = [] # max voltage\n",
    "vmed_vec = [] # mean value\n",
    "vrip_vec = [] # ripple voltage\n",
    "label_vec = [] # label\n",
    "#---\n",
    "fig,ax = plt.subplots(1,2,figsize=(10,5), sharey=True)\n",
    "for ii,file in enumerate(file_list):#[1:-3]\n",
    "    #----\n",
    "    df = pd.read_csv(file,sep='\\t') # DataFrame segundo Pandasdf\n",
    "    df.columns = ['tempo(s)','ch1(V)','ch2(V)']\n",
    "    #----\n",
    "    V1med = np.mean(df['ch1(V)'])\n",
    "    V1max = np.max(df['ch1(V)'])\n",
    "    V1min = np.min(df['ch1(V)'])\n",
    "    #---\n",
    "    V2med = np.mean(df['ch2(V)'])\n",
    "    V2max = np.max(df['ch2(V)'])\n",
    "    V2min = np.min(df['ch2(V)'])\n",
    "    #--\n",
    "    vmax_vec.append(V2max)\n",
    "    vmed_vec.append(V2med)\n",
    "    vrip_vec.append(V2max-V2min)\n",
    "    #----\n",
    "    #------------------------\n",
    "    #grafica apenas o primeiro\n",
    "    if ii==0:\n",
    "        ax0=ax[0]\n",
    "        #--\n",
    "        ax0.plot(1e3*df['tempo(s)'],df['ch1(V)'])\n",
    "        ax0.axhline(V1med,color='green',linestyle='--',label='$V_{dc}$'+'={:3.2f} V'.format(V1med))\n",
    "        ax0.axhline(V1max,color='red',linestyle='--',label='$V_{max}$'+'={:3.2f} V'.format(V1max))\n",
    "        ax0.axhline(V1min,color='blue',linestyle='--',label='$V_{min}$'+'={:3.2f} V'.format(V1min))\n",
    "        #--\n",
    "        ax0.grid(True)\n",
    "        ax0.set_xlabel('Tempo (ms)')\n",
    "        ax0.set_ylabel('Tensão (V)')\n",
    "        ax0.legend(loc='best')\n",
    "            \n",
    "    #------------------------\n",
    "    ax0=ax[1]\n",
    "    if ii==0: # different label in this case\n",
    "        label_vec.append('sem cap.')\n",
    "        ax0.plot(1e3*df['tempo(s)'],df['ch2(V)'], lw=1,ls='--',\n",
    "                 color='k',\n",
    "                 label=label_vec[ii])\n",
    "    elif ii==len(res_val)-1: # different label in this case\n",
    "        label_vec.append('aberto (sem res.)')\n",
    "        ax0.plot(1e3*df['tempo(s)'],df['ch2(V)'], lw=1,ls='--',\n",
    "                 color=cm((norm(res_val[ii])**(0.1))),\n",
    "                 label=label_vec[ii])\n",
    "    else: # common labels\n",
    "        label_vec.append('{:}'.format(res_val[ii]))\n",
    "        ax0.plot(1e3*df['tempo(s)'],df['ch2(V)'], lw=1,\n",
    "                 color=cm((norm(res_val[ii])**(0.1))),\n",
    "                 label=label_vec[ii])\n",
    "    #--\n",
    "    ax0.grid(True)\n",
    "    ax0.set_xlabel('Tempo (ms)')\n",
    "    #ax0.set_ylabel('Tensão (V)')\n",
    "    ax0.legend(loc='center left',bbox_to_anchor=(1,0.5))\n",
    "    #------------------\n",
    "plt.tight_layout()\n",
    "#----\n",
    "st = fig.suptitle('dado: meia onda ')\n",
    "# shift subplots down:\n",
    "st.set_y(1.02)\n",
    "#---\n",
    "# plt.savefig('todos_dados_meia_onda'+'_fig.pdf')\n",
    "#plt.savefig('todos_dados_onda_completa'+'_fig.pdf')"
   ]
  },
  {
   "cell_type": "markdown",
   "metadata": {},
   "source": [
    "## Characteristics of the diode-rectified voltage source\n",
    "Below we explore the function `curve_fit` from the [Scipy package](https://www.scipy.org/) (loaded at the beggining of this file with `from scipy.optimize import curve_fit`"
   ]
  },
  {
   "cell_type": "markdown",
   "metadata": {},
   "source": [
    "### Fitting model to data"
   ]
  },
  {
   "cell_type": "code",
   "execution_count": 64,
   "metadata": {},
   "outputs": [
    {
     "name": "stdout",
     "output_type": "stream",
     "text": [
      "fitted capacitance, c= 5.475089763087214e-05\n"
     ]
    }
   ],
   "source": [
    "Rinverse = 1e3/res_val # inverse of resistance in mS ([S]=1/[Ohm])\n",
    "T=1/60 # period \n",
    "#------------------------------------\n",
    "#define fittting function\n",
    "#theory\n",
    "vmax=np.mean(vmax_vec) # we assume the input voltagevmax_vec is approximately constant during the experiment, verify!!\n",
    "def vripple(r,c0):\n",
    "    return vmax_vec[0]*(1-np.exp(-T/(r*c0)) )\n",
    "pfit, pcov = curve_fit(vripple, res_val,vrip_vec, p0=22e-6)\n",
    "c0=pfit[0]\n",
    "print('fitted capacitance, c=',c0)"
   ]
  },
  {
   "cell_type": "markdown",
   "metadata": {},
   "source": [
    "### Comparing data and fitted model"
   ]
  },
  {
   "cell_type": "code",
   "execution_count": 65,
   "metadata": {},
   "outputs": [
    {
     "name": "stderr",
     "output_type": "stream",
     "text": [
      "/Users/gsw/Library/Python/3.7/lib/python/site-packages/ipykernel_launcher.py:15: RuntimeWarning: invalid value encountered in double_scalars\n",
      "  from ipykernel import kernelapp as app\n",
      "/Users/gsw/Library/Python/3.7/lib/python/site-packages/ipykernel_launcher.py:18: RuntimeWarning: invalid value encountered in double_scalars\n"
     ]
    },
    {
     "data": {
      "image/png": "[encoded data removed]",
      "text/plain": [
       "<Figure size 360x360 with 2 Axes>"
      ]
     },
     "metadata": {
      "filenames": {
       "image/png": "/Users/gsw/GitHub/F540_jbook/_build/jupyter_execute/guides/exp2/dados/analisa_dados_diodo_36_1.png"
      },
      "needs_background": "light"
     },
     "output_type": "display_data"
    }
   ],
   "source": [
    "#------------------------------------\n",
    "#Generate the \"theory\" curves from our fitted model\n",
    "vripT1_vec= (vmax_vec[0])/(c0*res_val)*T #linearizado\n",
    "vripT2_vec= vmax_vec[0]*(1 - np.exp(-T/(res_val*c0)) ) #completo\n",
    "#------------------------------------\n",
    "fig,ax = plt.subplots(2,1,figsize=(5,5), sharex=True)\n",
    "ax0=ax[0]\n",
    "ax0.grid(True)\n",
    "ax0.set_ylabel('Tensão média $V_{dc}$ (V)')\n",
    "#------------------------------------\n",
    "for ii,r0 in enumerate(res_val):\n",
    "    # this if is to skip the case with no capacitor (ii=0) and no resistor (ii=12)\n",
    "    if (ii>=1 and ii<len(res_val)-1): \n",
    "        ax[0].scatter(Rinverse[ii],vmed_vec[ii],\n",
    "                    color=cm((norm(res_val[ii])**(1/8))),\n",
    "                    label=label_vec[ii])\n",
    "        ax[1].scatter(Rinverse[ii],vrip_vec[ii],\n",
    "                    color=cm((norm(res_val[ii])**(1/8))),\n",
    "                    label=label_vec[ii])\n",
    "#---------------\n",
    "ax0=ax[1]\n",
    "ax0.grid(True)\n",
    "#-------------------\n",
    "ax0.plot(Rinverse,vripT1_vec,'-',label ='linear')\n",
    "ax0.plot(Rinverse,vripT2_vec,'-',label = 'completo')\n",
    "\n",
    "ax0.set_ylabel('Tensão de Ripple $V_{rip}$ (V)')\n",
    "ax0.set_xlabel('$R^{-1}$ (mS)')\n",
    "handles, labels = ax0.get_legend_handles_labels()\n",
    "ax0.legend(loc='center left',bbox_to_anchor=(1,1))\n",
    "#----\n",
    "st = fig.suptitle('dado: simulação meia onda c=22 μF, cfit={:2.1f} μF'.format(1e6*c0))\n",
    "# shift subplots down:\n",
    "st.set_y(1.02)\n",
    "plt.tight_layout()\n",
    "plt.subplots_adjust(hspace=0.1)\n",
    "#plt.savefig('analise_meia_onda_teoria'+'_fig.png', bbox_inches='tight')"
   ]
  },
  {
   "cell_type": "markdown",
   "metadata": {},
   "source": [
    "## Generating time traces for each data"
   ]
  },
  {
   "cell_type": "markdown",
   "metadata": {},
   "source": [
    "Let's say you are not sure about the what the min/max/mean script above did and want to visually inspect the result, **you should always do this, never trust automation without double-checking the results**. \n",
    "* Below we show an example of how could you generate a time-trace plot for each experimental curve and make sure your script is doing the right thing.\n",
    "* It will save multiple files in the current folder `plt.savefig(file[0:-4]+'_fig.png')`, each containing the max/min/mean identification for each dataset"
   ]
  },
  {
   "cell_type": "code",
   "execution_count": 66,
   "metadata": {},
   "outputs": [
    {
     "name": "stdout",
     "output_type": "stream",
     "text": [
      "tensões= [0.09839999999999946, 15.8, -15.6]\n",
      "tensões= [9.34344, 14.8, -0.2]\n",
      "tensões= [0.09295999999999985, 15.8, -15.6]\n",
      "tensões= [11.68384, 14.8, 7.4]\n",
      "tensões= [0.09519999999999963, 15.8, -15.6]\n",
      "tensões= [11.8356, 15.0, 7.6]\n",
      "tensões= [0.09335999999999949, 15.8, -15.6]\n",
      "tensões= [12.064160000000001, 14.8, 8.200000000000001]\n",
      "tensões= [0.09704000000000014, 15.8, -15.6]\n",
      "tensões= [12.42704, 14.8, 9.2]\n",
      "tensões= [0.10192000000000007, 15.8, -15.6]\n",
      "tensões= [12.732, 15.0, 9.8]\n",
      "tensões= [0.10503999999999979, 15.8, -15.6]\n",
      "tensões= [13.176, 15.0, 10.8]\n",
      "tensões= [0.10567999999999957, 15.8, -15.6]\n",
      "tensões= [13.4032, 15.0, 11.4]\n",
      "tensões= [0.10536000000000022, 16.0, -15.8]\n",
      "tensões= [13.627120000000001, 15.0, 11.8]\n",
      "tensões= [0.10728000000000029, 15.8, -15.6]\n",
      "tensões= [14.259520000000002, 15.0, 13.4]\n",
      "tensões= [0.10799999999999964, 15.8, -15.6]\n",
      "tensões= [14.5064, 15.0, 14.0]\n",
      "tensões= [0.1056, 15.8, -15.6]\n",
      "tensões= [14.691679999999998, 15.0, 14.4]\n",
      "tensões= [0.10863999999999978, 16.0, -15.6]\n",
      "tensões= [15.179039999999999, 15.2, 15.0]\n"
     ]
    }
   ],
   "source": [
    "for file in file_list:\n",
    "    #----\n",
    "    df = pd.read_csv(file,sep='\\t') # DataFrame segundo Pandasdf\n",
    "    df.columns = ['tempo(s)','ch1(V)','ch2(V)']\n",
    "    #----\n",
    "    V1med = np.mean(df['ch1(V)'])\n",
    "    V1max = np.max(df['ch1(V)'])\n",
    "    V1min = np.min(df['ch1(V)'])\n",
    "    print('tensões=',[V1med,V1max,V1min])\n",
    "    #---\n",
    "    V2med = np.mean(df['ch2(V)'])\n",
    "    V2max = np.max(df['ch2(V)'])\n",
    "    V2min = np.min(df['ch2(V)'])\n",
    "    print('tensões=',[V2med,V2max,V2min])\n",
    "    #----\n",
    "    fig,ax = plt.subplots(1,2,figsize=(10,3), sharey=True)\n",
    "    #------------------------\n",
    "    ax0=ax[0]\n",
    "    #--\n",
    "    ax0.plot(1e3*df['tempo(s)'],df['ch1(V)'])\n",
    "    ax0.axhline(V1med,color='green',linestyle='--',label='$V_{dc}$'+'={:3.2f} V'.format(V1med))\n",
    "    ax0.axhline(V1max,color='red',linestyle='--',label='$V_{max}$'+'={:3.2f} V'.format(V1max))\n",
    "    ax0.axhline(V1min,color='blue',linestyle='--',label='$V_{min}$'+'={:3.2f} V'.format(V1min))\n",
    "    #--\n",
    "    ax0.grid(True)\n",
    "    ax0.set_xlabel('Tempo (ms)')\n",
    "    ax0.set_ylabel('Tensão (V)')\n",
    "    ax0.legend(loc='best')\n",
    "    #------------------------\n",
    "    ax0=ax[1]\n",
    "    ax0.plot(1e3*df['tempo(s)'],df['ch2(V)'])\n",
    "    #--\n",
    "    ax0.axhline(V2med,color='green',linestyle='--',label='$V_{dc}$'+'={:3.2f} V'.format(V2med))\n",
    "    ax0.axhline(V2max,color='red',linestyle='--',label='$V_{max}$'+'={:3.2f} V'.format(V2max))\n",
    "    ax0.axhline(V2min,color='blue',linestyle='--',label='$V_{min}$'+'={:3.2f} V'.format(V2min))\n",
    "    #--\n",
    "    ax0.grid(True)\n",
    "    ax0.set_xlabel('Tempo (ms)')\n",
    "    #ax0.set_ylabel('Tensão (V)')\n",
    "    ax0.legend(loc='best')\n",
    "    #------------------\n",
    "    plt.tight_layout()\n",
    "    #----\n",
    "    st = fig.suptitle('dado: '+file)\n",
    "    # shift subplots down:\n",
    "    st.set_y(1.02)\n",
    "    #---\n",
    "    plt.savefig(file[0:-4]+'_fig.png')\n",
    "    plt.close()"
   ]
  },
  {
   "cell_type": "code",
   "execution_count": null,
   "metadata": {},
   "outputs": [],
   "source": []
  }
 ],
 "metadata": {
  "@webio": {
   "lastCommId": null,
   "lastKernelId": null
  },
  "celltoolbar": "Tags",
  "kernelspec": {
   "display_name": "Python 3",
   "language": "python",
   "name": "python3"
  },
  "language_info": {
   "codemirror_mode": {
    "name": "ipython",
    "version": 3
   },
   "file_extension": ".py",
   "mimetype": "text/x-python",
   "name": "python",
   "nbconvert_exporter": "python",
   "pygments_lexer": "ipython3",
   "version": "3.7.9"
  },
  "toc": {
   "nav_menu": {},
   "number_sections": true,
   "sideBar": true,
   "skip_h1_title": false,
   "title_cell": "Table of Contents",
   "title_sidebar": "Contents",
   "toc_cell": false,
   "toc_position": {},
   "toc_section_display": true,
   "toc_window_display": false
  }
 },
 "nbformat": 4,
 "nbformat_minor": 4
}