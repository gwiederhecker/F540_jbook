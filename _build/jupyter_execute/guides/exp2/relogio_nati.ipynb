{
 "cells": [
  {
   "cell_type": "code",
   "execution_count": 1,
   "metadata": {},
   "outputs": [
    {
     "data": {
      "text/plain": [
       "[]"
      ]
     },
     "execution_count": 1,
     "metadata": {},
     "output_type": "execute_result"
    },
    {
     "data": {
      "image/png": "[encoded data removed]",
      "text/plain": [
       "<Figure size 360x360 with 1 Axes>"
      ]
     },
     "metadata": {
      "filenames": {
       "image/png": "/Users/gsw/GitHub/F540_jbook/_build/jupyter_execute/guides/exp2/relogio_nati_0_1.png"
      }
     },
     "output_type": "display_data"
    }
   ],
   "source": [
    "import matplotlib.pyplot as plt\n",
    "from time import sleep, time, localtime\n",
    "\n",
    "# Constant are CAPitalized in python by convention\n",
    "from cmath import  pi as PI, e as E\n",
    "# correcting python notations j => I  \n",
    "I = complex(\"j\")\n",
    "\n",
    "# maplotlib does not plot lines using the classical\n",
    "# (x0,y0), (x1,y1) convention\n",
    "# but prefers (x0,x1) (y0,y1)\n",
    "to_xx_yy = lambda c1,c2 : [(c1.real, c2.real), (c1.imag, c2.imag)] \n",
    "\n",
    "# black magic\n",
    "plt.ion()\n",
    "plt.show()\n",
    "\n",
    "# fixing the weired / behaviour in python 2 by forcing cast in float\n",
    "# 2 * PI = one full turn in radians (SI) second makes a\n",
    "# 60th of a turn per seconds\n",
    "# an arc is a fraction of turn\n",
    "rad_per_sec = 2.0 * PI /60.0\n",
    "# 60 times slower\n",
    "rad_per_min = rad_per_sec / 60\n",
    "# wall clock are not on 24 based because human tends to\n",
    "# know if noon is passed\n",
    "rad_per_hour = rad_per_min / 12\n",
    "\n",
    "# I == rectangular coordonate (0,1) in complex notation\n",
    "origin_vector_hand = I\n",
    "\n",
    "size_of_sec_hand = .9\n",
    "size_of_min_hand = .8\n",
    "size_of_hour_hand = .6\n",
    "\n",
    "# Euler's Formula is used to compute the rotation\n",
    "# using units in names to check unit consistency\n",
    "# rotation is clockwise (hence the minus)\n",
    "# Euler formular requires a measure of angle (rad)\n",
    "rot_sec = lambda sec : E ** (-I * sec * rad_per_sec )\n",
    "rot_min = lambda min : E ** (-I *  min * rad_per_min )\n",
    "rot_hour = lambda hour : E ** (-I * hour * rad_per_hour )\n",
    "fig,ax = plt.subplots(figsize=(5,5))\n",
    "# drawing the ticks and making them different every\n",
    "# division of 5\n",
    "for n in range(60):\n",
    "    ax.plot(\n",
    "        *to_xx_yy(\n",
    "            origin_vector_hand * rot_sec(n),\n",
    "            .95 * I * rot_sec(n)\n",
    "        )+[n% 5 and 'b-' or 'k-'],\n",
    "        lw= n% 5 and 1 or 2\n",
    "    )\n",
    "    plt.draw()\n",
    "# computing the offset between the EPOCH and the local political convention of time\n",
    "diff_offset_in_sec = (time() % (24*3600)) - localtime()[3]*3600 -localtime()[4] * 60.0 - localtime()[5]   \n",
    "n=0\n",
    "\n",
    "\n",
    "n+=1\n",
    "t = time()\n",
    "t=1618236811+10000\n",
    "# sexagesimal base conversion\n",
    "s= t%60\n",
    "m = m_in_sec = t%(60 * 60)\n",
    "h = h_in_sec = (t- diff_offset_in_sec)%(24*60*60)\n",
    "# applying a rotation AND and homothetia for the vectors expressent as (complex1, ccomplex2)\n",
    "# using the * operator of complex algebrae to do the job\n",
    "\n",
    "ax.plot( *to_xx_yy(\n",
    "        -.1 * origin_vector_hand * rot_sec(s),\n",
    "        size_of_sec_hand * origin_vector_hand * rot_sec(s)) + ['g'])\n",
    "ax.plot( *to_xx_yy(0, size_of_min_hand * origin_vector_hand * rot_min( m )) + ['b-'] , lw= 3)\n",
    "ax.plot( *to_xx_yy(0, size_of_hour_hand * origin_vector_hand * rot_hour(h)) +[ 'r-'] , lw= 4)\n",
    "ax.set_yticks([])\n",
    "ax.set_xticks([])\n",
    "# plt.pause(.1)\n",
    "# ## black magic : remove elements on the canvas.\n",
    "# l.pop().remove()\n",
    "# j.pop().remove()\n",
    "# k.pop().remove()\n",
    "# if not n % 1000:\n",
    "#     ### conversion in sexagesimal base\n",
    "#     print(int(h/60.0/60.0)),\n",
    "#     print(int(m/60.0)),\n",
    "#     print(int(s))\n",
    "# if n == 100:\n",
    "#     n=0"
   ]
  },
  {
   "cell_type": "code",
   "execution_count": 2,
   "metadata": {},
   "outputs": [
    {
     "data": {
      "text/plain": [
       "1618246811"
      ]
     },
     "execution_count": 2,
     "metadata": {},
     "output_type": "execute_result"
    }
   ],
   "source": [
    "t"
   ]
  },
  {
   "cell_type": "code",
   "execution_count": null,
   "metadata": {},
   "outputs": [],
   "source": []
  }
 ],
 "metadata": {
  "kernelspec": {
   "display_name": "Python 3",
   "language": "python",
   "name": "python3"
  },
  "language_info": {
   "codemirror_mode": {
    "name": "ipython",
    "version": 3
   },
   "file_extension": ".py",
   "mimetype": "text/x-python",
   "name": "python",
   "nbconvert_exporter": "python",
   "pygments_lexer": "ipython3",
   "version": "3.9.4"
  },
  "toc": {
   "nav_menu": {},
   "number_sections": true,
   "sideBar": true,
   "skip_h1_title": false,
   "title_cell": "Table of Contents",
   "title_sidebar": "Contents",
   "toc_cell": false,
   "toc_position": {},
   "toc_section_display": true,
   "toc_window_display": false
  }
 },
 "nbformat": 4,
 "nbformat_minor": 4
}