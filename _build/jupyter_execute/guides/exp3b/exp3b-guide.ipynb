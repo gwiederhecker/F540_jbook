{
 "cells": [
  {
   "cell_type": "markdown",
   "metadata": {},
   "source": [
    "# Guide to Experiment 3b: Transistor-based AC amplifier\n",
    "\n",
    "Métodos da Físcia Experimental I: (F540 2s2020)\n",
    "\n",
    "* JupyterBook: Gustavo Wiederhecker, Varlei Rodrigues\n",
    "* Contributions: Daniel Ugarte, Antônio Riul Junior, Varlei Rodrigues"
   ]
  },
  {
   "cell_type": "code",
   "execution_count": 1,
   "metadata": {
    "tags": [
     "hide-input"
    ]
   },
   "outputs": [],
   "source": [
    "#-----------------------------\n",
    "#Pacote para manipular vetores e matrizes\n",
    "import numpy as np\n",
    "import os\n",
    "import pandas as pd\n",
    "#-----------------------------\n",
    "#Pacotes para lidar com unidades\n",
    "from astropy import units as un\n",
    "from astropy import constants as cte\n",
    "#-----------------------------\n",
    "#pacote para gráficos\n",
    "import matplotlib.pyplot as plt\n",
    "import matplotlib\n",
    "#Comandos opcionais para formatar gráfico\n",
    "font = {'family' : 'Arial',\n",
    "        'weight' : 'normal',\n",
    "        'size'   : 12}\t\n",
    "lines = {'linewidth' : 3.0}\n",
    "figure = {'figsize' : [6.0, 6/1.6]}\n",
    "matplotlib.rc('font', **font)\n",
    "matplotlib.rc('lines', **lines)\n",
    "matplotlib.rc('figure', **figure)\n",
    "#-----------------------------\n",
    "from myst_nb import glue\n",
    "#pacote para desenhar circuitos\n",
    "import SchemDraw as schem\n",
    "import SchemDraw.elements as e\n",
    "d = schem.Drawing(unit=2.5) # unit=2.5 determina o tamanho dos componentes\n",
    "# %config InlineBackend.figure_format = 'svg'"
   ]
  },
  {
   "cell_type": "markdown",
   "metadata": {},
   "source": [
    "In this experiment, the usage of a transistor as an amplifier for AC signals will be explored.\n",
    "\n",
    "Amplifying voltage signals is one of the most common operations in electronics. Signal amplification is a fundamenntal feature in all sorts of devices and test equipment. In many  frontiers of experimental science, amplifications of very small voltages are also of uttermost importance.\n",
    "A simple diagram of a voltage amplifier can be seen in the figure\n",
    "The name transistor ([a combination of transfer + resistor](https://web.archive.org/web/20080528164454/http://users.arczip.com/rmcgarra2/namememo.gif))originates from this device capabiblity of transferring electric signals. It is an *active device* that amplifies the voltage or current of an input signal, therefore, it is necessary to use a power supply. The transistor is a sandwich of two *pn* junctions, facing each other, forming a sequence of $ npn $ or $ pnp $ junctions. Each of these parts is called the collector, base and emitter, and the information to be transferred and / or used as a control signal is applied to the base of the transistor.\n",
    "\n",
    "To fully appreciate this device, it is desirable that you read an introductory  text on the semiconductors properties and circuit treatment of transistors (Sections 4.1 to 4.3 in {cite}`eggleston2011basic`).\n",
    "\n",
    ":::{admonition} Goals\n",
    ":class: tip\n",
    "- \tMeasure the voltage gain of a BJT-based AC amplifier.\n",
    ":::"
   ]
  },
  {
   "cell_type": "markdown",
   "metadata": {},
   "source": [
    ":::{admonition} Items to include in your lab report\n",
    ":class: warning\n",
    "1. From the experimental data, reconstruct the transistor collector curves ($I_C(V_{CE})$). You must generate the graphs, based on the data provided in {ref}`sec:dataset_transistor_3a`.\n",
    "    * Try to add the different traces to a single figure, instead of adding multiple repetitive plots to your report. Consider distinct line colors for each trace.\n",
    "    * Be carefull to properly convert the voltage measurements into currents using the appropriate values for the resistors.\n",
    "2. Include a graph of $I_C(I_B)$ and determine the transistor gain.\n",
    "    * Make sure to include the linear fitting you used  to determine $\\beta$\n",
    "3. Provide hyperlinks to your TinkerCAD simulation and upload your QUCS file.\n",
    ":::\n"
   ]
  },
  {
   "cell_type": "markdown",
   "metadata": {},
   "source": [
    "## Characteristic curves (I-V curve)\n",
    "presents characteristic curves for the bipolar junction transistor BD 135, being similar for other junction transistors. For each current value of the base there is a current in the collector, for which the equation below is satisfied:\n",
    "\n",
    "$$ I_\\text{collector} = \\beta \\times I_\\text{base}, $$ (eq:transitor_ic_ib)\n",
    "\n",
    "\n",
    "In general, for {eq}`eq:transitor_ic_ib` to be valid, if ($V_{CE}$) is  higher than the $V_{BE}$ , which is required  to polarize the transistor into the active region. Play around with the background theory notebook ( {doc}`aula_transistor_interativo`) to get an insight into the the transistor behavior. An example of the *IV* curves generated at this notebook are shown in {numref}`fig:transistor_gif`:\n",
    "```{figure} figs/transistor.gif\n",
    "---\n",
    "width: 650px\n",
    "name: \"fig:transistor_gif\"\n",
    "---\n",
    "Solving the transistor using the load line method for varying values of the base current. In this animation, generated in the notebook {doc}`aula_transistor_interativo`, the base voltage $V_BB$ was varied in the range   $0.2 V\\leq V_B\\leq 1.2 V$.\n",
    "```\n",
    "\n",
    "\n",
    "Characteristics curves are often presented in transistor datasheets, such as the example in {numref}`fig:bjt_sheet`\n",
    "```{figure} figs/ic_vce_curve.png\n",
    "---\n",
    "width: 350px\n",
    "name: \"fig:bjt_sheet\"\n",
    "align: center\n",
    "---\n",
    "Example [datasheet from manufacturer](https://github.com/gwiederhecker/F540_jbook/blob/2021_1s/guides/exp3a/figs/BD135_datasheet.pdf?raw=true) showing transistor gain characterization\n",
    "```"
   ]
  },
  {
   "cell_type": "markdown",
   "metadata": {},
   "source": [
    "```{figure} figs/transistor_circuit.png\n",
    "---\n",
    "width: 800px\n",
    "name: \"fig:transistor_circuit\"\n",
    "---\n",
    "(a)Common-emitter trannsistor amplifier schematic. (b) Common-collector (emitter-follower) transistor amplifier. (c) Dynamic behavior of transistor using the load-line method. (c1) $I_C\\times V_{CE}$ curves.\n",
    "```"
   ]
  },
  {
   "cell_type": "markdown",
   "metadata": {},
   "source": [
    "## Transistor  gain $\\beta$\n",
    "The gain of a transistor depends on its construction, current range and the frequency of operation of the circuit assembly. For the transistor BD 135, the characteristic curves as a function of the current $ I_B $ are illustrated in {numref}`fig:ic_ib_bjt`\n",
    "\n",
    "```{figure} figs/curva2.png\n",
    "---\n",
    "width: 350px\n",
    "name: \"fig:ic_ib_bjt\"\n",
    "align: center\n",
    "---\n",
    "Example dateset of transistor gain characterization\n",
    "```\n",
    "\n",
    "An approximate value of the $ (\\beta) $ gain can be obtained on a linear graph of $ I_C $ as a function of $ I_B $, the gain being given by the slope of the line, as in the example of {numref}`fig:ic_ib_bjt`."
   ]
  },
  {
   "cell_type": "markdown",
   "metadata": {},
   "source": [
    "## Measuring characterisitic curves\n",
    "The characteristic curve of a transistor is the graph of $ I_C $ for $ V_ {CE} $. The proposed assembly for this measure is illustrated in the figure below.\n",
    "Note that the assembly is formed by a voltage divider (resistors $ R2 $ and $ R3 $) that feeds the base of the transistor through the resistor $ R1 $, imposing a fixed $ (approximately) $ current of $ I_B $ at the base. After the transistor is polarized, the current in the collector will be given by the golden rule: $ I_ {collector} = \\beta \\times I_ {base} $.\n",
    "\n",
    "To obtain the value of $ I_B $, it is necessary to measure the potential drop in the resistance of the base $ (R1) $. The potential on the transistor, between the collector and the emitter $ (V_{CE}) $, is measured directly with a voltmeter or with the oscilloscope. \n",
    "\n",
    "Only the $ I_C $ measure is missing. Since the power supply is fixed at $ 15 V $, from the measurement of $ V_ {CE} $ and the resistance value of decades it is possible to calculate the current in the collector, $ I_C $. Therefore, it is enough to vary the resistance of decades to obtain each curve. Try to obtain a larger number of points in the region where the variation of $ V_ {CE} $ is more abrupt (lower values of voltage $ V_ {CE} $). 3 $ I_C $ curves must be measured by $ V_ {CE} $, with $ R_1 $ = 10 k $ \\Omega $, 15 k $ \\Omega $ and 18 k $ \\Omega $.\n",
    "\n",
    "```{figure} figs/medida_caracteristica.png\n",
    "---\n",
    "width: 400px\n",
    "name: \"fig:bjt_setup1\"\n",
    "align: center\n",
    "---\n",
    "Circuit schematic used in the transistor characterization\n",
    "```"
   ]
  },
  {
   "cell_type": "markdown",
   "metadata": {},
   "source": [
    "## Measuring transistor Gain \n",
    "The gain of the $ (\\beta) $ transistor can be obtained simply by the ratio between the current in the collector and the current in the emitter, as previously shown. In a variation of the previous assembly, we can measure the gain of the transistor. We will use the a linear voltage ramp to vary the base voltage and, consequently, the current at the base of the transistor. \n",
    "\n",
    "The current $ I_C $ is measured through the resistance $ RC $, while $ I_B $ is measured against the resistance $R_B$.\n",
    " By controlling either the base voltage ($V_{BB}$), or the base resistace $R_B$, it is possible to control $ I_B $.\n",
    "```{figure} figs/esquema_medida_beta.png\n",
    "---\n",
    "width: 400px\n",
    "name: \"fig:bjt_setup2\"\n",
    "align: center\n",
    "---\n",
    "Circuit schematic used in the transistor gain characterization. The internal resistance of the base voltage source is 50 Ohms.\n",
    "```"
   ]
  },
  {
   "cell_type": "markdown",
   "metadata": {},
   "source": [
    "### Videos of the experiments\n",
    "**You must login with you @m.unicamp.br account to view these videos!**\n",
    "\n",
    "#### AC gain\n",
    "This  video illustrate the experimental procedure and data acquisition associated with the characteristic curves.\n",
    "\n",
    "<iframe width=\"640\" height=\"360\" src=\"https://web.microsoftstream.com/embed/video/1de87b4e-eed9-4e2a-895f-fbfedb97feea?autoplay=false&amp;showinfo=true\" allowfullscreen style=\"border:none;\"></iframe>"
   ]
  },
  {
   "cell_type": "code",
   "execution_count": 2,
   "metadata": {
    "tags": [
     "hide-cell"
    ]
   },
   "outputs": [
    {
     "ename": "FileNotFoundError",
     "evalue": "[Errno 2] No such file or directory: 'dados/dados_Vce_Vcc_15p5.csv'",
     "output_type": "error",
     "traceback": [
      "\u001b[0;31m---------------------------------------------------------------------------\u001b[0m",
      "\u001b[0;31mFileNotFoundError\u001b[0m                         Traceback (most recent call last)",
      "\u001b[0;32m<ipython-input-2-0da4b2aea033>\u001b[0m in \u001b[0;36m<module>\u001b[0;34m\u001b[0m\n\u001b[1;32m      3\u001b[0m \u001b[0mfilename\u001b[0m \u001b[0;34m=\u001b[0m \u001b[0;34m'dados_Vce_Vcc_15p5.csv'\u001b[0m\u001b[0;34m\u001b[0m\u001b[0;34m\u001b[0m\u001b[0m\n\u001b[1;32m      4\u001b[0m \u001b[0mfilepath\u001b[0m \u001b[0;34m=\u001b[0m \u001b[0mos\u001b[0m\u001b[0;34m.\u001b[0m\u001b[0mpath\u001b[0m\u001b[0;34m.\u001b[0m\u001b[0mjoin\u001b[0m\u001b[0;34m(\u001b[0m\u001b[0mpath\u001b[0m\u001b[0;34m,\u001b[0m\u001b[0mfilename\u001b[0m\u001b[0;34m)\u001b[0m\u001b[0;34m\u001b[0m\u001b[0;34m\u001b[0m\u001b[0m\n\u001b[0;32m----> 5\u001b[0;31m \u001b[0mdf1\u001b[0m \u001b[0;34m=\u001b[0m \u001b[0mpd\u001b[0m\u001b[0;34m.\u001b[0m\u001b[0mread_csv\u001b[0m\u001b[0;34m(\u001b[0m\u001b[0mfilepath\u001b[0m\u001b[0;34m)\u001b[0m \u001b[0;31m#DataFrame\u001b[0m\u001b[0;34m\u001b[0m\u001b[0;34m\u001b[0m\u001b[0m\n\u001b[0m\u001b[1;32m      6\u001b[0m \u001b[0mglue\u001b[0m\u001b[0;34m(\u001b[0m\u001b[0;34m\"df_pandas_ic_vce\"\u001b[0m\u001b[0;34m,\u001b[0m \u001b[0mdf1\u001b[0m\u001b[0;34m.\u001b[0m\u001b[0mhead\u001b[0m\u001b[0;34m(\u001b[0m\u001b[0;34m)\u001b[0m\u001b[0;34m)\u001b[0m\u001b[0;34m\u001b[0m\u001b[0;34m\u001b[0m\u001b[0m\n\u001b[1;32m      7\u001b[0m \u001b[0;31m#---\u001b[0m\u001b[0;34m\u001b[0m\u001b[0;34m\u001b[0m\u001b[0;34m\u001b[0m\u001b[0m\n",
      "\u001b[0;32m/Library/Frameworks/Python.framework/Versions/3.7/lib/python3.7/site-packages/pandas/io/parsers.py\u001b[0m in \u001b[0;36mread_csv\u001b[0;34m(filepath_or_buffer, sep, delimiter, header, names, index_col, usecols, squeeze, prefix, mangle_dupe_cols, dtype, engine, converters, true_values, false_values, skipinitialspace, skiprows, skipfooter, nrows, na_values, keep_default_na, na_filter, verbose, skip_blank_lines, parse_dates, infer_datetime_format, keep_date_col, date_parser, dayfirst, cache_dates, iterator, chunksize, compression, thousands, decimal, lineterminator, quotechar, quoting, doublequote, escapechar, comment, encoding, dialect, error_bad_lines, warn_bad_lines, delim_whitespace, low_memory, memory_map, float_precision)\u001b[0m\n\u001b[1;32m    684\u001b[0m     )\n\u001b[1;32m    685\u001b[0m \u001b[0;34m\u001b[0m\u001b[0m\n\u001b[0;32m--> 686\u001b[0;31m     \u001b[0;32mreturn\u001b[0m \u001b[0m_read\u001b[0m\u001b[0;34m(\u001b[0m\u001b[0mfilepath_or_buffer\u001b[0m\u001b[0;34m,\u001b[0m \u001b[0mkwds\u001b[0m\u001b[0;34m)\u001b[0m\u001b[0;34m\u001b[0m\u001b[0;34m\u001b[0m\u001b[0m\n\u001b[0m\u001b[1;32m    687\u001b[0m \u001b[0;34m\u001b[0m\u001b[0m\n\u001b[1;32m    688\u001b[0m \u001b[0;34m\u001b[0m\u001b[0m\n",
      "\u001b[0;32m/Library/Frameworks/Python.framework/Versions/3.7/lib/python3.7/site-packages/pandas/io/parsers.py\u001b[0m in \u001b[0;36m_read\u001b[0;34m(filepath_or_buffer, kwds)\u001b[0m\n\u001b[1;32m    450\u001b[0m \u001b[0;34m\u001b[0m\u001b[0m\n\u001b[1;32m    451\u001b[0m     \u001b[0;31m# Create the parser.\u001b[0m\u001b[0;34m\u001b[0m\u001b[0;34m\u001b[0m\u001b[0;34m\u001b[0m\u001b[0m\n\u001b[0;32m--> 452\u001b[0;31m     \u001b[0mparser\u001b[0m \u001b[0;34m=\u001b[0m \u001b[0mTextFileReader\u001b[0m\u001b[0;34m(\u001b[0m\u001b[0mfp_or_buf\u001b[0m\u001b[0;34m,\u001b[0m \u001b[0;34m**\u001b[0m\u001b[0mkwds\u001b[0m\u001b[0;34m)\u001b[0m\u001b[0;34m\u001b[0m\u001b[0;34m\u001b[0m\u001b[0m\n\u001b[0m\u001b[1;32m    453\u001b[0m \u001b[0;34m\u001b[0m\u001b[0m\n\u001b[1;32m    454\u001b[0m     \u001b[0;32mif\u001b[0m \u001b[0mchunksize\u001b[0m \u001b[0;32mor\u001b[0m \u001b[0miterator\u001b[0m\u001b[0;34m:\u001b[0m\u001b[0;34m\u001b[0m\u001b[0;34m\u001b[0m\u001b[0m\n",
      "\u001b[0;32m/Library/Frameworks/Python.framework/Versions/3.7/lib/python3.7/site-packages/pandas/io/parsers.py\u001b[0m in \u001b[0;36m__init__\u001b[0;34m(self, f, engine, **kwds)\u001b[0m\n\u001b[1;32m    944\u001b[0m             \u001b[0mself\u001b[0m\u001b[0;34m.\u001b[0m\u001b[0moptions\u001b[0m\u001b[0;34m[\u001b[0m\u001b[0;34m\"has_index_names\"\u001b[0m\u001b[0;34m]\u001b[0m \u001b[0;34m=\u001b[0m \u001b[0mkwds\u001b[0m\u001b[0;34m[\u001b[0m\u001b[0;34m\"has_index_names\"\u001b[0m\u001b[0;34m]\u001b[0m\u001b[0;34m\u001b[0m\u001b[0;34m\u001b[0m\u001b[0m\n\u001b[1;32m    945\u001b[0m \u001b[0;34m\u001b[0m\u001b[0m\n\u001b[0;32m--> 946\u001b[0;31m         \u001b[0mself\u001b[0m\u001b[0;34m.\u001b[0m\u001b[0m_make_engine\u001b[0m\u001b[0;34m(\u001b[0m\u001b[0mself\u001b[0m\u001b[0;34m.\u001b[0m\u001b[0mengine\u001b[0m\u001b[0;34m)\u001b[0m\u001b[0;34m\u001b[0m\u001b[0;34m\u001b[0m\u001b[0m\n\u001b[0m\u001b[1;32m    947\u001b[0m \u001b[0;34m\u001b[0m\u001b[0m\n\u001b[1;32m    948\u001b[0m     \u001b[0;32mdef\u001b[0m \u001b[0mclose\u001b[0m\u001b[0;34m(\u001b[0m\u001b[0mself\u001b[0m\u001b[0;34m)\u001b[0m\u001b[0;34m:\u001b[0m\u001b[0;34m\u001b[0m\u001b[0;34m\u001b[0m\u001b[0m\n",
      "\u001b[0;32m/Library/Frameworks/Python.framework/Versions/3.7/lib/python3.7/site-packages/pandas/io/parsers.py\u001b[0m in \u001b[0;36m_make_engine\u001b[0;34m(self, engine)\u001b[0m\n\u001b[1;32m   1176\u001b[0m     \u001b[0;32mdef\u001b[0m \u001b[0m_make_engine\u001b[0m\u001b[0;34m(\u001b[0m\u001b[0mself\u001b[0m\u001b[0;34m,\u001b[0m \u001b[0mengine\u001b[0m\u001b[0;34m=\u001b[0m\u001b[0;34m\"c\"\u001b[0m\u001b[0;34m)\u001b[0m\u001b[0;34m:\u001b[0m\u001b[0;34m\u001b[0m\u001b[0;34m\u001b[0m\u001b[0m\n\u001b[1;32m   1177\u001b[0m         \u001b[0;32mif\u001b[0m \u001b[0mengine\u001b[0m \u001b[0;34m==\u001b[0m \u001b[0;34m\"c\"\u001b[0m\u001b[0;34m:\u001b[0m\u001b[0;34m\u001b[0m\u001b[0;34m\u001b[0m\u001b[0m\n\u001b[0;32m-> 1178\u001b[0;31m             \u001b[0mself\u001b[0m\u001b[0;34m.\u001b[0m\u001b[0m_engine\u001b[0m \u001b[0;34m=\u001b[0m \u001b[0mCParserWrapper\u001b[0m\u001b[0;34m(\u001b[0m\u001b[0mself\u001b[0m\u001b[0;34m.\u001b[0m\u001b[0mf\u001b[0m\u001b[0;34m,\u001b[0m \u001b[0;34m**\u001b[0m\u001b[0mself\u001b[0m\u001b[0;34m.\u001b[0m\u001b[0moptions\u001b[0m\u001b[0;34m)\u001b[0m\u001b[0;34m\u001b[0m\u001b[0;34m\u001b[0m\u001b[0m\n\u001b[0m\u001b[1;32m   1179\u001b[0m         \u001b[0;32melse\u001b[0m\u001b[0;34m:\u001b[0m\u001b[0;34m\u001b[0m\u001b[0;34m\u001b[0m\u001b[0m\n\u001b[1;32m   1180\u001b[0m             \u001b[0;32mif\u001b[0m \u001b[0mengine\u001b[0m \u001b[0;34m==\u001b[0m \u001b[0;34m\"python\"\u001b[0m\u001b[0;34m:\u001b[0m\u001b[0;34m\u001b[0m\u001b[0;34m\u001b[0m\u001b[0m\n",
      "\u001b[0;32m/Library/Frameworks/Python.framework/Versions/3.7/lib/python3.7/site-packages/pandas/io/parsers.py\u001b[0m in \u001b[0;36m__init__\u001b[0;34m(self, src, **kwds)\u001b[0m\n\u001b[1;32m   2006\u001b[0m         \u001b[0mkwds\u001b[0m\u001b[0;34m[\u001b[0m\u001b[0;34m\"usecols\"\u001b[0m\u001b[0;34m]\u001b[0m \u001b[0;34m=\u001b[0m \u001b[0mself\u001b[0m\u001b[0;34m.\u001b[0m\u001b[0musecols\u001b[0m\u001b[0;34m\u001b[0m\u001b[0;34m\u001b[0m\u001b[0m\n\u001b[1;32m   2007\u001b[0m \u001b[0;34m\u001b[0m\u001b[0m\n\u001b[0;32m-> 2008\u001b[0;31m         \u001b[0mself\u001b[0m\u001b[0;34m.\u001b[0m\u001b[0m_reader\u001b[0m \u001b[0;34m=\u001b[0m \u001b[0mparsers\u001b[0m\u001b[0;34m.\u001b[0m\u001b[0mTextReader\u001b[0m\u001b[0;34m(\u001b[0m\u001b[0msrc\u001b[0m\u001b[0;34m,\u001b[0m \u001b[0;34m**\u001b[0m\u001b[0mkwds\u001b[0m\u001b[0;34m)\u001b[0m\u001b[0;34m\u001b[0m\u001b[0;34m\u001b[0m\u001b[0m\n\u001b[0m\u001b[1;32m   2009\u001b[0m         \u001b[0mself\u001b[0m\u001b[0;34m.\u001b[0m\u001b[0munnamed_cols\u001b[0m \u001b[0;34m=\u001b[0m \u001b[0mself\u001b[0m\u001b[0;34m.\u001b[0m\u001b[0m_reader\u001b[0m\u001b[0;34m.\u001b[0m\u001b[0munnamed_cols\u001b[0m\u001b[0;34m\u001b[0m\u001b[0;34m\u001b[0m\u001b[0m\n\u001b[1;32m   2010\u001b[0m \u001b[0;34m\u001b[0m\u001b[0m\n",
      "\u001b[0;32mpandas/_libs/parsers.pyx\u001b[0m in \u001b[0;36mpandas._libs.parsers.TextReader.__cinit__\u001b[0;34m()\u001b[0m\n",
      "\u001b[0;32mpandas/_libs/parsers.pyx\u001b[0m in \u001b[0;36mpandas._libs.parsers.TextReader._setup_parser_source\u001b[0;34m()\u001b[0m\n",
      "\u001b[0;31mFileNotFoundError\u001b[0m: [Errno 2] No such file or directory: 'dados/dados_Vce_Vcc_15p5.csv'"
     ]
    }
   ],
   "source": [
    "#Loading dataset with \"tab\" as separator\n",
    "path='dados'\n",
    "filename = 'dados_Vce_Vcc_15p5.csv'\n",
    "filepath = os.path.join(path,filename)\n",
    "df1 = pd.read_csv(filepath) #DataFrame\n",
    "glue(\"df_pandas_ic_vce\", df1.head())\n",
    "#---\n",
    "filename = 'dados_Ic_vs_Ib_Vbb_Vcc_15p5V.csv'\n",
    "filepath = os.path.join(path,filename)\n",
    "df2 = pd.read_csv(filepath) #DataFrame\n",
    "glue(\"df_pandas_beta\", df2.head())"
   ]
  },
  {
   "cell_type": "markdown",
   "metadata": {},
   "source": [
    "(sec:dataset_transistor_3a)=\n",
    "### Downloadable dataset\n",
    "* One (.zip) file: [Transistor characterization](https://github.com/gwiederhecker/F540_jbook/blob/2021_1s/guides/exp3a/dados/dados_transistor_3a.zip?raw=true)\n",
    "    * `.zip` file contains:\n",
    "        * `dados_Vce_Vcc_15p5.csv` file corresponding to the characteristic curves (see {numref}`tbl:pandas_ic_vce`)\n",
    "        * `dados_Ic_vs_Ib_Vbb_Vcc_15p5V.csv` file corresponding to the $I_C$ versus $I_B$ curve. (see {numref}`tbl:pandas_ic_vce`)\n",
    "    * Images of the protoboard assembly. \n",
    "\n",
    "\n",
    "````{tabbed} Characteristic curves\n",
    "```{glue:figure} df_pandas_ic_vce\n",
    ":figwidth: 600px\n",
    ":name: \"tbl:pandas_ic_vce\"\n",
    ":align: center\n",
    "\n",
    "Structure of the `dados_Vce_Vcc_15p5.csv` data file, corresponding to the decade resistance  indicated at the column label; the separator between entries is a **comma (,)**.\n",
    "```\n",
    "````\n",
    "````{tabbed} Gain characterization\n",
    "```{glue:figure} df_pandas_beta\n",
    ":figwidth: 600px\n",
    ":name: \"tbl:pandas_beta\"\n",
    ":align: center\n",
    "\n",
    "Structure of the `dados_Ic_vs_Ib_Vbb_Vcc_15p5V.csv` data file, corresponding to the osciloscope traces measured at distinct point in the circuit; the separator between entries is a **comma (,)**.\n",
    "```\n",
    "````"
   ]
  }
 ],
 "metadata": {
  "@webio": {
   "lastCommId": null,
   "lastKernelId": null
  },
  "celltoolbar": "Tags",
  "kernelspec": {
   "display_name": "Python 3",
   "language": "python",
   "name": "python3"
  },
  "language_info": {
   "codemirror_mode": {
    "name": "ipython",
    "version": 3
   },
   "file_extension": ".py",
   "mimetype": "text/x-python",
   "name": "python",
   "nbconvert_exporter": "python",
   "pygments_lexer": "ipython3",
   "version": "3.7.9"
  },
  "toc": {
   "nav_menu": {},
   "number_sections": true,
   "sideBar": true,
   "skip_h1_title": false,
   "title_cell": "Table of Contents",
   "title_sidebar": "Contents",
   "toc_cell": false,
   "toc_position": {},
   "toc_section_display": true,
   "toc_window_display": false
  }
 },
 "nbformat": 4,
 "nbformat_minor": 2
}