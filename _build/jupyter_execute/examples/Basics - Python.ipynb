{
 "cells": [
  {
   "cell_type": "markdown",
   "metadata": {
    "id": "Tj-HiIAtZ3qc"
   },
   "source": [
    "# Python basics"
   ]
  },
  {
   "cell_type": "markdown",
   "metadata": {},
   "source": [
    ":::{admonition} Goals\n",
    ":class: tip\n",
    "- Understand the types of Python variables that will be used most throughout the course\n",
    "\n",
    "-  Understand the most common cases of flow control in Python programs\n",
    "\n",
    "-  Create elementary graphics using the Matplotlib package\n",
    ":::"
   ]
  },
  {
   "cell_type": "markdown",
   "metadata": {
    "id": "-BL2HFH5Z8B5"
   },
   "source": [
    "## Loading packages"
   ]
  },
  {
   "cell_type": "code",
   "execution_count": 1,
   "metadata": {
    "executionInfo": {
     "elapsed": 723,
     "status": "ok",
     "timestamp": 1617040480464,
     "user": {
      "displayName": "Gustavo Wiederhecker",
      "photoUrl": "https://lh3.googleusercontent.com/a-/AOh14GhZK2QnSjNp8BzcVhZ-OTXlne4NdXvHtnr5-nSIWUA=s64",
      "userId": "03241808022281336700"
     },
     "user_tz": 180
    },
    "id": "RU0QS5sDaQ_g"
   },
   "outputs": [],
   "source": [
    "import numpy as np\n",
    "import pandas as pd\n",
    "import matplotlib.pyplot as plt\n",
    "import glob"
   ]
  },
  {
   "cell_type": "markdown",
   "metadata": {
    "id": "NSfv1vi3avZa"
   },
   "source": [
    "## Arrays"
   ]
  },
  {
   "cell_type": "markdown",
   "metadata": {
    "id": "SwKFA50Dbab8"
   },
   "source": [
    "### Python arrays"
   ]
  },
  {
   "cell_type": "code",
   "execution_count": 2,
   "metadata": {
    "colab": {
     "base_uri": "https://localhost:8080/"
    },
    "executionInfo": {
     "elapsed": 590,
     "status": "ok",
     "timestamp": 1617041144364,
     "user": {
      "displayName": "Gustavo Wiederhecker",
      "photoUrl": "https://lh3.googleusercontent.com/a-/AOh14GhZK2QnSjNp8BzcVhZ-OTXlne4NdXvHtnr5-nSIWUA=s64",
      "userId": "03241808022281336700"
     },
     "user_tz": 180
    },
    "id": "7vkLi7Qrbdcc",
    "outputId": "7501ba0c-3ca6-4c52-98cd-7dce924b5ef1"
   },
   "outputs": [
    {
     "name": "stdout",
     "output_type": "stream",
     "text": [
      "[1, 2, 3]\n",
      "[1, 2, 3, 1, 2, 3]\n"
     ]
    }
   ],
   "source": [
    "x = [1, 2, 3]\n",
    "y = 2*x\n",
    "print(x)\n",
    "print(y)"
   ]
  },
  {
   "cell_type": "code",
   "execution_count": 3,
   "metadata": {
    "colab": {
     "base_uri": "https://localhost:8080/"
    },
    "executionInfo": {
     "elapsed": 720,
     "status": "ok",
     "timestamp": 1617040567564,
     "user": {
      "displayName": "Gustavo Wiederhecker",
      "photoUrl": "https://lh3.googleusercontent.com/a-/AOh14GhZK2QnSjNp8BzcVhZ-OTXlne4NdXvHtnr5-nSIWUA=s64",
      "userId": "03241808022281336700"
     },
     "user_tz": 180
    },
    "id": "pciaY4DYbtkS",
    "outputId": "b885c6f2-e3c7-4d87-ed77-21761d4de2ef"
   },
   "outputs": [
    {
     "data": {
      "text/plain": [
       "[1, 2, 3, 1, 2, 3]"
      ]
     },
     "execution_count": 3,
     "metadata": {},
     "output_type": "execute_result"
    }
   ],
   "source": [
    "x+x"
   ]
  },
  {
   "cell_type": "code",
   "execution_count": 4,
   "metadata": {
    "colab": {
     "base_uri": "https://localhost:8080/"
    },
    "executionInfo": {
     "elapsed": 978,
     "status": "ok",
     "timestamp": 1617040596633,
     "user": {
      "displayName": "Gustavo Wiederhecker",
      "photoUrl": "https://lh3.googleusercontent.com/a-/AOh14GhZK2QnSjNp8BzcVhZ-OTXlne4NdXvHtnr5-nSIWUA=s64",
      "userId": "03241808022281336700"
     },
     "user_tz": 180
    },
    "id": "dZndN6TMbx3C",
    "outputId": "0eb1e1e2-da55-4eeb-a1b4-ffff019fb839"
   },
   "outputs": [
    {
     "data": {
      "text/plain": [
       "3"
      ]
     },
     "execution_count": 4,
     "metadata": {},
     "output_type": "execute_result"
    }
   ],
   "source": [
    "x[2] # elementos de x"
   ]
  },
  {
   "cell_type": "markdown",
   "metadata": {
    "id": "efAnTFVJbX3P"
   },
   "source": [
    "### Numpy arrays"
   ]
  },
  {
   "cell_type": "code",
   "execution_count": 5,
   "metadata": {
    "colab": {
     "base_uri": "https://localhost:8080/"
    },
    "executionInfo": {
     "elapsed": 642,
     "status": "ok",
     "timestamp": 1617041161730,
     "user": {
      "displayName": "Gustavo Wiederhecker",
      "photoUrl": "https://lh3.googleusercontent.com/a-/AOh14GhZK2QnSjNp8BzcVhZ-OTXlne4NdXvHtnr5-nSIWUA=s64",
      "userId": "03241808022281336700"
     },
     "user_tz": 180
    },
    "id": "02Hj2biday8A",
    "outputId": "c48f1c18-9cb5-4b78-ad9f-7ec67ab7f269"
   },
   "outputs": [
    {
     "name": "stdout",
     "output_type": "stream",
     "text": [
      "[1 2 3]\n",
      "[2 4 6]\n",
      "[3 6 9]\n"
     ]
    }
   ],
   "source": [
    "x = np.array([1, 2, 3])\n",
    "y = 2*x\n",
    "print(x)\n",
    "print(y)\n",
    "print(x+y)"
   ]
  },
  {
   "cell_type": "markdown",
   "metadata": {},
   "source": [
    "Soma de vetores é realizada `element-wise`:"
   ]
  },
  {
   "cell_type": "code",
   "execution_count": 6,
   "metadata": {
    "colab": {
     "base_uri": "https://localhost:8080/"
    },
    "executionInfo": {
     "elapsed": 543,
     "status": "ok",
     "timestamp": 1617028936313,
     "user": {
      "displayName": "Gustavo Wiederhecker",
      "photoUrl": "https://lh3.googleusercontent.com/a-/AOh14GhZK2QnSjNp8BzcVhZ-OTXlne4NdXvHtnr5-nSIWUA=s64",
      "userId": "03241808022281336700"
     },
     "user_tz": 180
    },
    "id": "gKA8AGqgb1VE",
    "outputId": "2bedb484-441d-4fa2-b2d2-c2ac14b5c74b"
   },
   "outputs": [
    {
     "data": {
      "text/plain": [
       "array([3, 6, 9])"
      ]
     },
     "execution_count": 6,
     "metadata": {},
     "output_type": "execute_result"
    }
   ],
   "source": [
    "x+y"
   ]
  },
  {
   "cell_type": "markdown",
   "metadata": {},
   "source": [
    "Vetores podem ser criados de diversas formas:\n",
    "\n",
    "* vetores com espaçamento linear;\n",
    "* vetores com espaçamento logarítmico;"
   ]
  },
  {
   "cell_type": "markdown",
   "metadata": {},
   "source": [
    "Vetor com 19 elementos no intervalo  $1\\leq x \\leq10$"
   ]
  },
  {
   "cell_type": "code",
   "execution_count": 7,
   "metadata": {},
   "outputs": [
    {
     "name": "stdout",
     "output_type": "stream",
     "text": [
      "[ 1.   1.5  2.   2.5  3.   3.5  4.   4.5  5.   5.5  6.   6.5  7.   7.5\n",
      "  8.   8.5  9.   9.5 10. ]\n",
      "19\n"
     ]
    }
   ],
   "source": [
    "x = np.linspace(1,10,19) \n",
    "print(x)\n",
    "print(len(x))"
   ]
  },
  {
   "cell_type": "markdown",
   "metadata": {},
   "source": [
    "Vetor com com espaçamento de 0.5 no intervalo  $1\\leq x <10$"
   ]
  },
  {
   "cell_type": "code",
   "execution_count": 8,
   "metadata": {},
   "outputs": [
    {
     "name": "stdout",
     "output_type": "stream",
     "text": [
      "[1.  1.5 2.  2.5 3.  3.5 4.  4.5 5.  5.5 6.  6.5 7.  7.5 8.  8.5 9.  9.5]\n",
      "18\n"
     ]
    }
   ],
   "source": [
    "x = np.arange(1,10,0.5) # vetor com 19 elementos entre 1 e 10\n",
    "print(x)\n",
    "print(len(x))"
   ]
  },
  {
   "cell_type": "markdown",
   "metadata": {
    "id": "yhj-ARYCbgpa"
   },
   "source": [
    "**As you see above, native Python and Numpy arrays behave very differently, so be careful!**"
   ]
  },
  {
   "cell_type": "markdown",
   "metadata": {},
   "source": [
    "````{exercise} Construindo um vetor\n",
    ":label: ex:python_arrays\n",
    "\n",
    "* Crie um vetor linearmente espaçado no intervalo $0\\leq x \\leq 20$ contendo 100\n",
    "* Crie um vetor linearmente espaçado no intervalo $0\\leq x \\leq 20$ com espaçamento $\\delta x=1$\n",
    "```` "
   ]
  },
  {
   "cell_type": "markdown",
   "metadata": {
    "id": "e6IabKB5gy0B"
   },
   "source": [
    "## Flow control"
   ]
  },
  {
   "cell_type": "code",
   "execution_count": 9,
   "metadata": {
    "colab": {
     "base_uri": "https://localhost:8080/"
    },
    "executionInfo": {
     "elapsed": 728,
     "status": "ok",
     "timestamp": 1617040780447,
     "user": {
      "displayName": "Gustavo Wiederhecker",
      "photoUrl": "https://lh3.googleusercontent.com/a-/AOh14GhZK2QnSjNp8BzcVhZ-OTXlne4NdXvHtnr5-nSIWUA=s64",
      "userId": "03241808022281336700"
     },
     "user_tz": 180
    },
    "id": "881D3XcNI93-",
    "outputId": "b19f61c2-e089-41a9-c73d-ae4238f6bbb2"
   },
   "outputs": [
    {
     "data": {
      "text/plain": [
       "[0, 1, 2]"
      ]
     },
     "execution_count": 9,
     "metadata": {},
     "output_type": "execute_result"
    }
   ],
   "source": [
    "list(range(3))"
   ]
  },
  {
   "cell_type": "code",
   "execution_count": 10,
   "metadata": {
    "colab": {
     "base_uri": "https://localhost:8080/"
    },
    "executionInfo": {
     "elapsed": 986,
     "status": "ok",
     "timestamp": 1617040834617,
     "user": {
      "displayName": "Gustavo Wiederhecker",
      "photoUrl": "https://lh3.googleusercontent.com/a-/AOh14GhZK2QnSjNp8BzcVhZ-OTXlne4NdXvHtnr5-nSIWUA=s64",
      "userId": "03241808022281336700"
     },
     "user_tz": 180
    },
    "id": "ohS2Zvl9g1fs",
    "outputId": "7de2e95e-6b96-43be-f559-eed70cb885db"
   },
   "outputs": [
    {
     "name": "stdout",
     "output_type": "stream",
     "text": [
      "0\n",
      "1\n",
      "1\n",
      "2\n",
      "2\n",
      "3\n"
     ]
    },
    {
     "data": {
      "text/plain": [
       "7"
      ]
     },
     "execution_count": 10,
     "metadata": {},
     "output_type": "execute_result"
    }
   ],
   "source": [
    "for i in range(3):\n",
    "  print(i)\n",
    "  print(i+1)\n",
    "2+5"
   ]
  },
  {
   "cell_type": "code",
   "execution_count": 11,
   "metadata": {
    "colab": {
     "base_uri": "https://localhost:8080/"
    },
    "executionInfo": {
     "elapsed": 792,
     "status": "ok",
     "timestamp": 1617040855281,
     "user": {
      "displayName": "Gustavo Wiederhecker",
      "photoUrl": "https://lh3.googleusercontent.com/a-/AOh14GhZK2QnSjNp8BzcVhZ-OTXlne4NdXvHtnr5-nSIWUA=s64",
      "userId": "03241808022281336700"
     },
     "user_tz": 180
    },
    "id": "zASDFrXBg5au",
    "outputId": "878f5869-05ee-4ad2-943b-86c912e5bb50"
   },
   "outputs": [
    {
     "name": "stdout",
     "output_type": "stream",
     "text": [
      "0\n",
      "others are also great\n",
      "1\n",
      "others are also great\n",
      "2\n",
      "2 is great\n",
      "3\n",
      "others are also great\n"
     ]
    }
   ],
   "source": [
    "for i in range(4):\n",
    "  print(i)\n",
    "  if i==2:\n",
    "    print(\"2 is great\")\n",
    "  else:\n",
    "    print(\"others are also great\")"
   ]
  },
  {
   "cell_type": "code",
   "execution_count": 12,
   "metadata": {
    "colab": {
     "base_uri": "https://localhost:8080/"
    },
    "executionInfo": {
     "elapsed": 1134,
     "status": "ok",
     "timestamp": 1617040941676,
     "user": {
      "displayName": "Gustavo Wiederhecker",
      "photoUrl": "https://lh3.googleusercontent.com/a-/AOh14GhZK2QnSjNp8BzcVhZ-OTXlne4NdXvHtnr5-nSIWUA=s64",
      "userId": "03241808022281336700"
     },
     "user_tz": 180
    },
    "id": "r4_uewbDhPAY",
    "outputId": "7e2287db-2649-465b-ca37-00bde8e23335"
   },
   "outputs": [
    {
     "name": "stdout",
     "output_type": "stream",
     "text": [
      "0\n",
      "1\n",
      "2\n",
      "2 is great\n",
      "3\n",
      "3 is also great\n",
      "4\n"
     ]
    }
   ],
   "source": [
    "for i in range(4):\n",
    "  print(i)\n",
    "  if i==2:\n",
    "    print(\"2 is great\")\n",
    "  elif i==3: # else if\n",
    "    print(\"3 is also great\")\n",
    "print(2+2)"
   ]
  },
  {
   "cell_type": "code",
   "execution_count": 13,
   "metadata": {
    "colab": {
     "base_uri": "https://localhost:8080/"
    },
    "executionInfo": {
     "elapsed": 652,
     "status": "ok",
     "timestamp": 1617040975679,
     "user": {
      "displayName": "Gustavo Wiederhecker",
      "photoUrl": "https://lh3.googleusercontent.com/a-/AOh14GhZK2QnSjNp8BzcVhZ-OTXlne4NdXvHtnr5-nSIWUA=s64",
      "userId": "03241808022281336700"
     },
     "user_tz": 180
    },
    "id": "seGef2Vqh5w-",
    "outputId": "d6e91517-c9c0-41df-9352-88776b1e3fcf"
   },
   "outputs": [
    {
     "name": "stdout",
     "output_type": "stream",
     "text": [
      "0\n",
      "1\n",
      "2\n",
      "3\n",
      "4\n"
     ]
    }
   ],
   "source": [
    "i=0\n",
    "while i < 5:\n",
    "  print(i)\n",
    "  i += 1 #increase i by 1\n"
   ]
  },
  {
   "cell_type": "markdown",
   "metadata": {
    "id": "IK7Q9zajhz7E"
   },
   "source": [
    "### Other forms of iteration"
   ]
  },
  {
   "cell_type": "code",
   "execution_count": 14,
   "metadata": {
    "colab": {
     "base_uri": "https://localhost:8080/"
    },
    "executionInfo": {
     "elapsed": 397,
     "status": "ok",
     "timestamp": 1617041007072,
     "user": {
      "displayName": "Gustavo Wiederhecker",
      "photoUrl": "https://lh3.googleusercontent.com/a-/AOh14GhZK2QnSjNp8BzcVhZ-OTXlne4NdXvHtnr5-nSIWUA=s64",
      "userId": "03241808022281336700"
     },
     "user_tz": 180
    },
    "id": "F2FCa6RVhbsY",
    "outputId": "8165e5c1-2d10-4cde-d699-49c4afdb751f"
   },
   "outputs": [
    {
     "data": {
      "text/plain": [
       "array([2, 3, 4, 5])"
      ]
     },
     "execution_count": 14,
     "metadata": {},
     "output_type": "execute_result"
    }
   ],
   "source": [
    "np.array([i+2 for i in range(4)])"
   ]
  },
  {
   "cell_type": "markdown",
   "metadata": {
    "id": "k-Tgc-rwMLqz"
   },
   "source": [
    "## Functions"
   ]
  },
  {
   "cell_type": "code",
   "execution_count": 15,
   "metadata": {
    "colab": {
     "base_uri": "https://localhost:8080/"
    },
    "executionInfo": {
     "elapsed": 910,
     "status": "ok",
     "timestamp": 1617041732086,
     "user": {
      "displayName": "Gustavo Wiederhecker",
      "photoUrl": "https://lh3.googleusercontent.com/a-/AOh14GhZK2QnSjNp8BzcVhZ-OTXlne4NdXvHtnr5-nSIWUA=s64",
      "userId": "03241808022281336700"
     },
     "user_tz": 180
    },
    "id": "7CbC1kheMO5T",
    "outputId": "c2b06dae-26d7-4f5f-9a28-24f188673455"
   },
   "outputs": [
    {
     "name": "stdout",
     "output_type": "stream",
     "text": [
      "helloworld\n"
     ]
    },
    {
     "data": {
      "text/plain": [
       "5"
      ]
     },
     "execution_count": 15,
     "metadata": {},
     "output_type": "execute_result"
    }
   ],
   "source": [
    "def helloworld():\n",
    "  print('helloworld')\n",
    "def soma(x,y):\n",
    "  return x+y\n",
    "def reta(x,a,b):\n",
    "  return a*x+b\n",
    "\n",
    "\n",
    "helloworld()\n",
    "soma(2,3)"
   ]
  },
  {
   "cell_type": "code",
   "execution_count": 16,
   "metadata": {
    "colab": {
     "base_uri": "https://localhost:8080/",
     "height": 265
    },
    "executionInfo": {
     "elapsed": 673,
     "status": "ok",
     "timestamp": 1617041805166,
     "user": {
      "displayName": "Gustavo Wiederhecker",
      "photoUrl": "https://lh3.googleusercontent.com/a-/AOh14GhZK2QnSjNp8BzcVhZ-OTXlne4NdXvHtnr5-nSIWUA=s64",
      "userId": "03241808022281336700"
     },
     "user_tz": 180
    },
    "id": "SwivlS9HMpSE",
    "outputId": "a5d6717c-ae0b-4e42-d6da-cb16c2d873ac"
   },
   "outputs": [
    {
     "data": {
      "image/png": "[encoded data removed]",
      "text/plain": [
       "<Figure size 432x288 with 1 Axes>"
      ]
     },
     "metadata": {
      "filenames": {
       "image/png": "/Users/gsw/Documents/GitHub/F540_jbook/_build/jupyter_execute/examples/Basics - Python_30_0.png"
      },
      "needs_background": "light"
     },
     "output_type": "display_data"
    }
   ],
   "source": [
    "x = np.linspace(0,6,10)\n",
    "for a in range(0,5):\n",
    "  plt.plot(x,reta(x,a,2))"
   ]
  },
  {
   "cell_type": "markdown",
   "metadata": {
    "id": "0CNj579BapI0"
   },
   "source": [
    "## Simple plots"
   ]
  },
  {
   "cell_type": "code",
   "execution_count": 17,
   "metadata": {
    "colab": {
     "base_uri": "https://localhost:8080/",
     "height": 284
    },
    "executionInfo": {
     "elapsed": 1618,
     "status": "ok",
     "timestamp": 1617041257013,
     "user": {
      "displayName": "Gustavo Wiederhecker",
      "photoUrl": "https://lh3.googleusercontent.com/a-/AOh14GhZK2QnSjNp8BzcVhZ-OTXlne4NdXvHtnr5-nSIWUA=s64",
      "userId": "03241808022281336700"
     },
     "user_tz": 180
    },
    "id": "7bpQS6wzJ-Rc",
    "outputId": "ff0f26d9-e418-486a-fe46-9ab6e9cf843a"
   },
   "outputs": [
    {
     "data": {
      "text/plain": [
       "[<matplotlib.lines.Line2D at 0x7faedcade410>]"
      ]
     },
     "execution_count": 17,
     "metadata": {},
     "output_type": "execute_result"
    },
    {
     "data": {
      "image/png": "[encoded data removed]",
      "text/plain": [
       "<Figure size 432x288 with 1 Axes>"
      ]
     },
     "metadata": {
      "filenames": {
       "image/png": "/Users/gsw/Documents/GitHub/F540_jbook/_build/jupyter_execute/examples/Basics - Python_32_1.png"
      },
      "needs_background": "light"
     },
     "output_type": "display_data"
    }
   ],
   "source": [
    "x = np.linspace(0,6,1000)\n",
    "plt.plot(x,np.exp(x),'*')"
   ]
  },
  {
   "cell_type": "markdown",
   "metadata": {
    "id": "suWMG1TJajOW"
   },
   "source": [
    "Adjusting standard plot configurations"
   ]
  },
  {
   "cell_type": "code",
   "execution_count": 18,
   "metadata": {
    "id": "5ZItX4BsaP1U"
   },
   "outputs": [],
   "source": [
    "#****************************\n",
    "# Setting up plot configurations\n",
    "# Configurando gráficos\n",
    "#****************************\n",
    "#Adjusting fonts pattern\n",
    "#Ajsutando fontes padrão dos gráficos\n",
    "font = { 'weight' : 'normal',\n",
    "        'size'   : 12}\n",
    "\n",
    "plt.rc('font', **font)\n",
    "#Ajsutando espessura das linhas padrão dos gráficos\n",
    "plt.rcParams['lines.linewidth'] = 2;"
   ]
  },
  {
   "cell_type": "markdown",
   "metadata": {
    "id": "l0NrUmCWdv1T"
   },
   "source": [
    "## Loading data (Google colab)"
   ]
  },
  {
   "cell_type": "code",
   "execution_count": 19,
   "metadata": {
    "executionInfo": {
     "elapsed": 703,
     "status": "ok",
     "timestamp": 1617029821777,
     "user": {
      "displayName": "Gustavo Wiederhecker",
      "photoUrl": "https://lh3.googleusercontent.com/a-/AOh14GhZK2QnSjNp8BzcVhZ-OTXlne4NdXvHtnr5-nSIWUA=s64",
      "userId": "03241808022281336700"
     },
     "user_tz": 180
    },
    "id": "sRuWd0FfeIKM"
   },
   "outputs": [],
   "source": [
    "import glob\n",
    "import pandas as pd"
   ]
  },
  {
   "cell_type": "code",
   "execution_count": 20,
   "metadata": {
    "colab": {
     "base_uri": "https://localhost:8080/"
    },
    "executionInfo": {
     "elapsed": 50391,
     "status": "ok",
     "timestamp": 1617029506434,
     "user": {
      "displayName": "Gustavo Wiederhecker",
      "photoUrl": "https://lh3.googleusercontent.com/a-/AOh14GhZK2QnSjNp8BzcVhZ-OTXlne4NdXvHtnr5-nSIWUA=s64",
      "userId": "03241808022281336700"
     },
     "user_tz": 180
    },
    "id": "DKXGFDOYdyfM",
    "outputId": "3f2d2912-443d-41b7-b315-1a358d1a7228"
   },
   "outputs": [
    {
     "ename": "ModuleNotFoundError",
     "evalue": "No module named 'google'",
     "output_type": "error",
     "traceback": [
      "\u001b[0;31m---------------------------------------------------------------------------\u001b[0m",
      "\u001b[0;31mModuleNotFoundError\u001b[0m                       Traceback (most recent call last)",
      "\u001b[0;32m<ipython-input-20-c2bf9b53f311>\u001b[0m in \u001b[0;36m<module>\u001b[0;34m\u001b[0m\n\u001b[1;32m      1\u001b[0m \u001b[0;31m# Para usuários do Google Cola\u001b[0m\u001b[0;34m\u001b[0m\u001b[0;34m\u001b[0m\u001b[0;34m\u001b[0m\u001b[0m\n\u001b[0;32m----> 2\u001b[0;31m \u001b[0;32mfrom\u001b[0m \u001b[0mgoogle\u001b[0m\u001b[0;34m.\u001b[0m\u001b[0mcolab\u001b[0m \u001b[0;32mimport\u001b[0m \u001b[0mdrive\u001b[0m\u001b[0;34m\u001b[0m\u001b[0;34m\u001b[0m\u001b[0m\n\u001b[0m\u001b[1;32m      3\u001b[0m \u001b[0mdrive\u001b[0m\u001b[0;34m.\u001b[0m\u001b[0mmount\u001b[0m\u001b[0;34m(\u001b[0m\u001b[0;34m'/content/drive'\u001b[0m\u001b[0;34m)\u001b[0m\u001b[0;34m\u001b[0m\u001b[0;34m\u001b[0m\u001b[0m\n",
      "\u001b[0;31mModuleNotFoundError\u001b[0m: No module named 'google'"
     ]
    }
   ],
   "source": [
    "# Para usuários do Google Cola\n",
    "from google.colab import drive\n",
    "drive.mount('/content/drive')"
   ]
  },
  {
   "cell_type": "code",
   "execution_count": 91,
   "metadata": {
    "colab": {
     "base_uri": "https://localhost:8080/"
    },
    "executionInfo": {
     "elapsed": 566,
     "status": "ok",
     "timestamp": 1617030632821,
     "user": {
      "displayName": "Gustavo Wiederhecker",
      "photoUrl": "https://lh3.googleusercontent.com/a-/AOh14GhZK2QnSjNp8BzcVhZ-OTXlne4NdXvHtnr5-nSIWUA=s64",
      "userId": "03241808022281336700"
     },
     "user_tz": 180
    },
    "id": "GyVf2dsudzLX",
    "outputId": "0e01303b-f395-409a-cfb0-1e0f3d2ad048"
   },
   "outputs": [
    {
     "name": "stdout",
     "output_type": "stream",
     "text": [
      "['drive/My Drive/Colab Notebooks/F540/2021_1s/exemplo_qucs_ganho.csv', 'drive/My Drive/Colab Notebooks/F540/2021_1s/exemplo_qucs_fase.csv']\n"
     ]
    }
   ],
   "source": [
    "files = glob.glob('drive/My Drive/Colab Notebooks/F540/2021_1s/*')\n",
    "print(files)"
   ]
  },
  {
   "cell_type": "code",
   "execution_count": 44,
   "metadata": {
    "colab": {
     "base_uri": "https://localhost:8080/",
     "height": 204
    },
    "executionInfo": {
     "elapsed": 614,
     "status": "ok",
     "timestamp": 1617029960384,
     "user": {
      "displayName": "Gustavo Wiederhecker",
      "photoUrl": "https://lh3.googleusercontent.com/a-/AOh14GhZK2QnSjNp8BzcVhZ-OTXlne4NdXvHtnr5-nSIWUA=s64",
      "userId": "03241808022281336700"
     },
     "user_tz": 180
    },
    "id": "SKWZKicTfN3O",
    "outputId": "63db5712-e50a-4d59-9500-2e1dee3e12e2"
   },
   "outputs": [
    {
     "data": {
      "text/html": [
       "<div>\n",
       "<style scoped>\n",
       "    .dataframe tbody tr th:only-of-type {\n",
       "        vertical-align: middle;\n",
       "    }\n",
       "\n",
       "    .dataframe tbody tr th {\n",
       "        vertical-align: top;\n",
       "    }\n",
       "\n",
       "    .dataframe thead th {\n",
       "        text-align: right;\n",
       "    }\n",
       "</style>\n",
       "<table border=\"1\" class=\"dataframe\">\n",
       "  <thead>\n",
       "    <tr style=\"text-align: right;\">\n",
       "      <th></th>\n",
       "      <th>acfrequency</th>\n",
       "      <th>r Gv</th>\n",
       "      <th>i Gv</th>\n",
       "    </tr>\n",
       "  </thead>\n",
       "  <tbody>\n",
       "    <tr>\n",
       "      <th>0</th>\n",
       "      <td>1.00000</td>\n",
       "      <td>-0.000014</td>\n",
       "      <td>0</td>\n",
       "    </tr>\n",
       "    <tr>\n",
       "      <th>1</th>\n",
       "      <td>1.12332</td>\n",
       "      <td>-0.000018</td>\n",
       "      <td>0</td>\n",
       "    </tr>\n",
       "    <tr>\n",
       "      <th>2</th>\n",
       "      <td>1.26186</td>\n",
       "      <td>-0.000022</td>\n",
       "      <td>0</td>\n",
       "    </tr>\n",
       "    <tr>\n",
       "      <th>3</th>\n",
       "      <td>1.41747</td>\n",
       "      <td>-0.000028</td>\n",
       "      <td>0</td>\n",
       "    </tr>\n",
       "    <tr>\n",
       "      <th>4</th>\n",
       "      <td>1.59228</td>\n",
       "      <td>-0.000035</td>\n",
       "      <td>0</td>\n",
       "    </tr>\n",
       "  </tbody>\n",
       "</table>\n",
       "</div>"
      ],
      "text/plain": [
       "   acfrequency      r Gv  i Gv\n",
       "0      1.00000 -0.000014     0\n",
       "1      1.12332 -0.000018     0\n",
       "2      1.26186 -0.000022     0\n",
       "3      1.41747 -0.000028     0\n",
       "4      1.59228 -0.000035     0"
      ]
     },
     "execution_count": 44,
     "metadata": {
      "tags": []
     },
     "output_type": "execute_result"
    }
   ],
   "source": [
    "dataG = pd.read_csv(files[0],sep=';')\n",
    "dataG.head() # visualize first lines"
   ]
  },
  {
   "cell_type": "code",
   "execution_count": 46,
   "metadata": {
    "colab": {
     "base_uri": "https://localhost:8080/"
    },
    "executionInfo": {
     "elapsed": 946,
     "status": "ok",
     "timestamp": 1617029977545,
     "user": {
      "displayName": "Gustavo Wiederhecker",
      "photoUrl": "https://lh3.googleusercontent.com/a-/AOh14GhZK2QnSjNp8BzcVhZ-OTXlne4NdXvHtnr5-nSIWUA=s64",
      "userId": "03241808022281336700"
     },
     "user_tz": 180
    },
    "id": "eZWzqnahfxAM",
    "outputId": "4b6b21e8-31c7-4e7b-dd88-e1b1c99bd37f"
   },
   "outputs": [
    {
     "data": {
      "text/plain": [
       "Index(['acfrequency', 'r Gv', 'i Gv'], dtype='object')"
      ]
     },
     "execution_count": 46,
     "metadata": {
      "tags": []
     },
     "output_type": "execute_result"
    }
   ],
   "source": [
    "dataG.columns # list column names"
   ]
  },
  {
   "cell_type": "code",
   "execution_count": 48,
   "metadata": {
    "colab": {
     "base_uri": "https://localhost:8080/",
     "height": 284
    },
    "executionInfo": {
     "elapsed": 7913,
     "status": "ok",
     "timestamp": 1617030016187,
     "user": {
      "displayName": "Gustavo Wiederhecker",
      "photoUrl": "https://lh3.googleusercontent.com/a-/AOh14GhZK2QnSjNp8BzcVhZ-OTXlne4NdXvHtnr5-nSIWUA=s64",
      "userId": "03241808022281336700"
     },
     "user_tz": 180
    },
    "id": "-r4YedL2fZws",
    "outputId": "0c32652d-8e3b-4144-af58-197a618663e7"
   },
   "outputs": [
    {
     "data": {
      "text/plain": [
       "[<matplotlib.lines.Line2D at 0x7f3241589fd0>]"
      ]
     },
     "execution_count": 48,
     "metadata": {
      "tags": []
     },
     "output_type": "execute_result"
    },
    {
     "data": {
      "image/png": "[encoded data removed]",
      "text/plain": [
       "<Figure size 432x288 with 1 Axes>"
      ]
     },
     "metadata": {
      "filenames": {
       "image/png": "/Users/gsw/Documents/GitHub/F540_jbook/_build/jupyter_execute/examples/Basics - Python_41_1.png"
      },
      "needs_background": "light",
      "tags": []
     },
     "output_type": "display_data"
    }
   ],
   "source": [
    "plt.plot(dataG['acfrequency'],dataG['r Gv'],'o-')"
   ]
  },
  {
   "cell_type": "code",
   "execution_count": 49,
   "metadata": {
    "colab": {
     "base_uri": "https://localhost:8080/",
     "height": 288
    },
    "executionInfo": {
     "elapsed": 1485,
     "status": "ok",
     "timestamp": 1617030036310,
     "user": {
      "displayName": "Gustavo Wiederhecker",
      "photoUrl": "https://lh3.googleusercontent.com/a-/AOh14GhZK2QnSjNp8BzcVhZ-OTXlne4NdXvHtnr5-nSIWUA=s64",
      "userId": "03241808022281336700"
     },
     "user_tz": 180
    },
    "id": "3XJ72c6cfcPE",
    "outputId": "249b8911-1e45-451f-cea6-63bb57142554"
   },
   "outputs": [
    {
     "data": {
      "text/plain": [
       "[<matplotlib.lines.Line2D at 0x7f3241516190>]"
      ]
     },
     "execution_count": 49,
     "metadata": {
      "tags": []
     },
     "output_type": "execute_result"
    },
    {
     "data": {
      "image/png": "[encoded data removed]",
      "text/plain": [
       "<Figure size 432x288 with 1 Axes>"
      ]
     },
     "metadata": {
      "filenames": {
       "image/png": "/Users/gsw/Documents/GitHub/F540_jbook/_build/jupyter_execute/examples/Basics - Python_42_1.png"
      },
      "needs_background": "light",
      "tags": []
     },
     "output_type": "display_data"
    }
   ],
   "source": [
    "plt.semilogx(dataG['acfrequency'],dataG['r Gv'],'o-')"
   ]
  }
 ],
 "metadata": {
  "colab": {
   "authorship_tag": "ABX9TyM8rnHWMEqlUZtyk5R8qiyl",
   "name": "Python basics",
   "provenance": []
  },
  "kernelspec": {
   "display_name": "Python 3",
   "language": "python",
   "name": "python3"
  },
  "language_info": {
   "codemirror_mode": {
    "name": "ipython",
    "version": 3
   },
   "file_extension": ".py",
   "mimetype": "text/x-python",
   "name": "python",
   "nbconvert_exporter": "python",
   "pygments_lexer": "ipython3",
   "version": "3.7.9"
  },
  "toc": {
   "nav_menu": {},
   "number_sections": true,
   "sideBar": true,
   "skip_h1_title": false,
   "title_cell": "Table of Contents",
   "title_sidebar": "Contents",
   "toc_cell": false,
   "toc_position": {},
   "toc_section_display": true,
   "toc_window_display": false
  }
 },
 "nbformat": 4,
 "nbformat_minor": 1
}