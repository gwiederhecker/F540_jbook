{
 "cells": [
  {
   "cell_type": "markdown",
   "metadata": {},
   "source": [
    "# Solving Kirchhoff's law ordinary differential equation"
   ]
  },
  {
   "cell_type": "markdown",
   "metadata": {},
   "source": [
    "Import packages..."
   ]
  },
  {
   "cell_type": "code",
   "execution_count": 1,
   "metadata": {
    "executionInfo": {
     "elapsed": 1038,
     "status": "ok",
     "timestamp": 1617031252262,
     "user": {
      "displayName": "Gustavo Wiederhecker",
      "photoUrl": "https://lh3.googleusercontent.com/a-/AOh14GhZK2QnSjNp8BzcVhZ-OTXlne4NdXvHtnr5-nSIWUA=s64",
      "userId": "03241808022281336700"
     },
     "user_tz": 180
    },
    "id": "yahBKP7Ji8C2",
    "tags": [
     "hide-input"
    ]
   },
   "outputs": [],
   "source": [
    "from sympy import *\n",
    "#pacote para desenhar circuitos\n",
    "import SchemDraw as schem\n",
    "import SchemDraw.elements as e"
   ]
  },
  {
   "cell_type": "code",
   "execution_count": 2,
   "metadata": {
    "tags": [
     "hide-input"
    ]
   },
   "outputs": [
    {
     "data": {
      "image/png": "[encoded data removed]",
      "text/plain": [
       "<Figure size 151.74x141.444 with 1 Axes>"
      ]
     },
     "metadata": {
      "filenames": {
       "image/png": "/Users/gsw/Documents/GitHub/F540_jbook/_build/jupyter_execute/examples/Sympy - symbolic manipulation_3_0.png"
      },
      "needs_background": "light"
     },
     "output_type": "display_data"
    }
   ],
   "source": [
    "d = schem.Drawing(unit=2.5)\n",
    "d.add(e.DOT_OPEN, label ='$V_{in}$')\n",
    "comp1 =d.add(e.RES, d='right',label='$R$') #capacitor\n",
    "d.add(e.CAP, d='down',label='$C$') # resistor de saída\n",
    "d.add(e.GND)\n",
    "#output\n",
    "d.add(e.LINE, d='right', xy=comp1.end, l=1)\n",
    "d.add(e.DOT_OPEN,label ='$V_{out}$')\n",
    "#---\n",
    "d.draw()"
   ]
  },
  {
   "cell_type": "markdown",
   "metadata": {
    "id": "BmR8iAfEpG7V"
   },
   "source": [
    "Escrevendo a lei de Kirchhoff para o circuito da figura acima,\n",
    "\n",
    "$$\\frac{dq}{dt}+\\frac{1}{\\tau}q=\\frac{v_{in}(t)}{R}.$$(eq:kvl)\n",
    "\n",
    "Exploraremos o pacote `sympy` para nos ajudar a resolver esta equação diferencial ordinária."
   ]
  },
  {
   "cell_type": "markdown",
   "metadata": {
    "id": "nKsGrA5KpBvH"
   },
   "source": [
    "## Defining **symbols** and equation to be solved"
   ]
  },
  {
   "cell_type": "markdown",
   "metadata": {},
   "source": [
    "A solução tentantiva será na forma,\n",
    "\n",
    "$$ q(t)=A \\cos(\\omega t)+B*\\sin(\\omega t)$$(eq:trial)"
   ]
  },
  {
   "cell_type": "code",
   "execution_count": 3,
   "metadata": {
    "executionInfo": {
     "elapsed": 550,
     "status": "ok",
     "timestamp": 1617033681187,
     "user": {
      "displayName": "Gustavo Wiederhecker",
      "photoUrl": "https://lh3.googleusercontent.com/a-/AOh14GhZK2QnSjNp8BzcVhZ-OTXlne4NdXvHtnr5-nSIWUA=s64",
      "userId": "03241808022281336700"
     },
     "user_tz": 180
    },
    "id": "yAp8Aqyqi-Lb"
   },
   "outputs": [],
   "source": [
    "A,B,omega,t, tau = symbols('A B omega t tau')\n",
    "qtrial= A*cos(omega*t)+B*sin(omega*t)"
   ]
  },
  {
   "cell_type": "code",
   "execution_count": 4,
   "metadata": {
    "executionInfo": {
     "elapsed": 477,
     "status": "ok",
     "timestamp": 1617033681483,
     "user": {
      "displayName": "Gustavo Wiederhecker",
      "photoUrl": "https://lh3.googleusercontent.com/a-/AOh14GhZK2QnSjNp8BzcVhZ-OTXlne4NdXvHtnr5-nSIWUA=s64",
      "userId": "03241808022281336700"
     },
     "user_tz": 180
    },
    "id": "4M7sz3TckYKa"
   },
   "outputs": [],
   "source": [
    "lhs = diff(qtrial,t)+1/tau*qtrial "
   ]
  },
  {
   "cell_type": "code",
   "execution_count": 5,
   "metadata": {
    "executionInfo": {
     "elapsed": 479,
     "status": "ok",
     "timestamp": 1617033681777,
     "user": {
      "displayName": "Gustavo Wiederhecker",
      "photoUrl": "https://lh3.googleusercontent.com/a-/AOh14GhZK2QnSjNp8BzcVhZ-OTXlne4NdXvHtnr5-nSIWUA=s64",
      "userId": "03241808022281336700"
     },
     "user_tz": 180
    },
    "id": "L8FL2-NIk3RE"
   },
   "outputs": [],
   "source": [
    "v0, R = symbols('v0 R')\n",
    "rhs = v0/R*cos(omega*t)"
   ]
  },
  {
   "cell_type": "code",
   "execution_count": 6,
   "metadata": {
    "colab": {
     "base_uri": "https://localhost:8080/",
     "height": 53
    },
    "executionInfo": {
     "elapsed": 725,
     "status": "ok",
     "timestamp": 1617033682321,
     "user": {
      "displayName": "Gustavo Wiederhecker",
      "photoUrl": "https://lh3.googleusercontent.com/a-/AOh14GhZK2QnSjNp8BzcVhZ-OTXlne4NdXvHtnr5-nSIWUA=s64",
      "userId": "03241808022281336700"
     },
     "user_tz": 180
    },
    "id": "3OBZDUaolXVt",
    "outputId": "a4fd742e-f837-440d-9237-e6a85d1086f1"
   },
   "outputs": [
    {
     "data": {
      "text/latex": [
       "$\\displaystyle \\frac{A \\cos{\\left(\\omega t \\right)} + B \\sin{\\left(\\omega t \\right)} + \\omega \\tau \\left(- A \\sin{\\left(\\omega t \\right)} + B \\cos{\\left(\\omega t \\right)}\\right)}{\\tau}$"
      ],
      "text/plain": [
       "(A*cos(omega*t) + B*sin(omega*t) + omega*tau*(-A*sin(omega*t) + B*cos(omega*t)))/tau"
      ]
     },
     "execution_count": 6,
     "metadata": {},
     "output_type": "execute_result"
    }
   ],
   "source": [
    "eq = lhs-rhs\n",
    "simplify(lhs)"
   ]
  },
  {
   "cell_type": "code",
   "execution_count": 7,
   "metadata": {
    "executionInfo": {
     "elapsed": 1274,
     "status": "ok",
     "timestamp": 1617033683117,
     "user": {
      "displayName": "Gustavo Wiederhecker",
      "photoUrl": "https://lh3.googleusercontent.com/a-/AOh14GhZK2QnSjNp8BzcVhZ-OTXlne4NdXvHtnr5-nSIWUA=s64",
      "userId": "03241808022281336700"
     },
     "user_tz": 180
    },
    "id": "hGGSoTNGl31C"
   },
   "outputs": [],
   "source": [
    "terms = [sin(omega*t),cos(omega*t)]\n",
    "eqlhs=collect(simplify(eq),terms)\n"
   ]
  },
  {
   "cell_type": "code",
   "execution_count": 8,
   "metadata": {
    "colab": {
     "base_uri": "https://localhost:8080/"
    },
    "executionInfo": {
     "elapsed": 553,
     "status": "ok",
     "timestamp": 1617033684268,
     "user": {
      "displayName": "Gustavo Wiederhecker",
      "photoUrl": "https://lh3.googleusercontent.com/a-/AOh14GhZK2QnSjNp8BzcVhZ-OTXlne4NdXvHtnr5-nSIWUA=s64",
      "userId": "03241808022281336700"
     },
     "user_tz": 180
    },
    "id": "dMeRHyYklZpu",
    "outputId": "33e240d4-2886-4d2b-8369-58f2eb91f198"
   },
   "outputs": [
    {
     "data": {
      "text/plain": [
       "[-A*omega + B/tau, A/tau + B*omega - v0/R]"
      ]
     },
     "execution_count": 8,
     "metadata": {},
     "output_type": "execute_result"
    }
   ],
   "source": [
    "coefs = [eqlhs.coeff(term) for term in terms]\n",
    "coefs"
   ]
  },
  {
   "cell_type": "code",
   "execution_count": 9,
   "metadata": {
    "executionInfo": {
     "elapsed": 882,
     "status": "ok",
     "timestamp": 1617033686296,
     "user": {
      "displayName": "Gustavo Wiederhecker",
      "photoUrl": "https://lh3.googleusercontent.com/a-/AOh14GhZK2QnSjNp8BzcVhZ-OTXlne4NdXvHtnr5-nSIWUA=s64",
      "userId": "03241808022281336700"
     },
     "user_tz": 180
    },
    "id": "XtQiIeHen0xz"
   },
   "outputs": [],
   "source": [
    "eq2 = [Eq(coef,0) for coef in coefs]\n",
    "solution, = linsolve(eq2,(A,B))"
   ]
  },
  {
   "cell_type": "code",
   "execution_count": 10,
   "metadata": {
    "colab": {
     "base_uri": "https://localhost:8080/",
     "height": 57
    },
    "executionInfo": {
     "elapsed": 1260,
     "status": "ok",
     "timestamp": 1617033686681,
     "user": {
      "displayName": "Gustavo Wiederhecker",
      "photoUrl": "https://lh3.googleusercontent.com/a-/AOh14GhZK2QnSjNp8BzcVhZ-OTXlne4NdXvHtnr5-nSIWUA=s64",
      "userId": "03241808022281336700"
     },
     "user_tz": 180
    },
    "id": "C4PFJ0h8qxzG",
    "outputId": "0bf03798-ec83-4ede-c134-59b544c12ad2"
   },
   "outputs": [
    {
     "data": {
      "text/latex": [
       "$\\displaystyle \\frac{\\tau v_{0} \\left(\\omega \\tau \\cos{\\left(\\omega t \\right)} + \\sin{\\left(\\omega t \\right)}\\right)}{R \\left(\\omega^{2} \\tau^{2} + 1\\right)}$"
      ],
      "text/plain": [
       "tau*v0*(omega*tau*cos(omega*t) + sin(omega*t))/(R*(omega**2*tau**2 + 1))"
      ]
     },
     "execution_count": 10,
     "metadata": {},
     "output_type": "execute_result"
    }
   ],
   "source": [
    "sol = solution[0]*terms[0] + solution[1]*terms[1]\n",
    "simplify(sol)"
   ]
  },
  {
   "cell_type": "code",
   "execution_count": 11,
   "metadata": {
    "colab": {
     "base_uri": "https://localhost:8080/"
    },
    "executionInfo": {
     "elapsed": 884,
     "status": "ok",
     "timestamp": 1617033687382,
     "user": {
      "displayName": "Gustavo Wiederhecker",
      "photoUrl": "https://lh3.googleusercontent.com/a-/AOh14GhZK2QnSjNp8BzcVhZ-OTXlne4NdXvHtnr5-nSIWUA=s64",
      "userId": "03241808022281336700"
     },
     "user_tz": 180
    },
    "id": "mGEl5mp-sbG1",
    "outputId": "dd47f362-6dab-4474-8bbe-22f829cdbf04"
   },
   "outputs": [
    {
     "name": "stdout",
     "output_type": "stream",
     "text": [
      "\\frac{\\tau v_{0} \\left(\\omega \\tau \\cos{\\left(\\omega t \\right)} + \\sin{\\left(\\omega t \\right)}\\right)}{R \\left(\\omega^{2} \\tau^{2} + 1\\right)}\n"
     ]
    }
   ],
   "source": [
    "print_latex(simplify(sol))"
   ]
  },
  {
   "cell_type": "markdown",
   "metadata": {
    "id": "KZ4GlMCHo6sj"
   },
   "source": [
    "Therefore, the solution is:\n",
    "$$q(t) = \\frac{\\tau v_{0} \\left(\\omega \\tau \\cos{\\left(\\omega t \\right)} + \\sin{\\left(\\omega t \\right)}\\right)}{R \\left(\\omega^{2} \\tau^{2} + 1\\right)}\n",
    "$$"
   ]
  },
  {
   "cell_type": "markdown",
   "metadata": {
    "id": "n-R2J7JjtvlP"
   },
   "source": [
    "#Another form....\n",
    "Equivalently we could solve directly for the electric current $i=dq/dt$, $$\\frac{di}{dt}+\\frac{1}{\\tau}i=\\frac{1}{R}\\frac{d v_{in}(t)}{dt}$$"
   ]
  },
  {
   "cell_type": "code",
   "execution_count": 12,
   "metadata": {
    "executionInfo": {
     "elapsed": 593,
     "status": "ok",
     "timestamp": 1617033579882,
     "user": {
      "displayName": "Gustavo Wiederhecker",
      "photoUrl": "https://lh3.googleusercontent.com/a-/AOh14GhZK2QnSjNp8BzcVhZ-OTXlne4NdXvHtnr5-nSIWUA=s64",
      "userId": "03241808022281336700"
     },
     "user_tz": 180
    },
    "id": "SOYRw4_KtXnO"
   },
   "outputs": [],
   "source": [
    "A,B,omega,t, tau = symbols('A B omega t tau')\n",
    "itrial= A*cos(omega*t)+B*sin(omega*t)"
   ]
  },
  {
   "cell_type": "code",
   "execution_count": 13,
   "metadata": {
    "executionInfo": {
     "elapsed": 905,
     "status": "ok",
     "timestamp": 1617033698720,
     "user": {
      "displayName": "Gustavo Wiederhecker",
      "photoUrl": "https://lh3.googleusercontent.com/a-/AOh14GhZK2QnSjNp8BzcVhZ-OTXlne4NdXvHtnr5-nSIWUA=s64",
      "userId": "03241808022281336700"
     },
     "user_tz": 180
    },
    "id": "c3nWq-P5tXnT"
   },
   "outputs": [],
   "source": [
    "lhs = diff(itrial,t)+1/tau*itrial"
   ]
  },
  {
   "cell_type": "code",
   "execution_count": 14,
   "metadata": {
    "executionInfo": {
     "elapsed": 806,
     "status": "ok",
     "timestamp": 1617033699173,
     "user": {
      "displayName": "Gustavo Wiederhecker",
      "photoUrl": "https://lh3.googleusercontent.com/a-/AOh14GhZK2QnSjNp8BzcVhZ-OTXlne4NdXvHtnr5-nSIWUA=s64",
      "userId": "03241808022281336700"
     },
     "user_tz": 180
    },
    "id": "PbUj6RgGtXnT"
   },
   "outputs": [],
   "source": [
    "v0, R = symbols('v0 R')\n",
    "rhs = diff(v0/R*cos(omega*t),t)"
   ]
  },
  {
   "cell_type": "code",
   "execution_count": 15,
   "metadata": {
    "colab": {
     "base_uri": "https://localhost:8080/",
     "height": 53
    },
    "executionInfo": {
     "elapsed": 793,
     "status": "ok",
     "timestamp": 1617033699505,
     "user": {
      "displayName": "Gustavo Wiederhecker",
      "photoUrl": "https://lh3.googleusercontent.com/a-/AOh14GhZK2QnSjNp8BzcVhZ-OTXlne4NdXvHtnr5-nSIWUA=s64",
      "userId": "03241808022281336700"
     },
     "user_tz": 180
    },
    "id": "3i7o6sRUtXnT",
    "outputId": "7b58954c-362e-4bbe-eed3-0c0ba9e5c4e6"
   },
   "outputs": [
    {
     "data": {
      "text/latex": [
       "$\\displaystyle \\frac{A \\cos{\\left(\\omega t \\right)} + B \\sin{\\left(\\omega t \\right)} + \\omega \\tau \\left(- A \\sin{\\left(\\omega t \\right)} + B \\cos{\\left(\\omega t \\right)}\\right)}{\\tau}$"
      ],
      "text/plain": [
       "(A*cos(omega*t) + B*sin(omega*t) + omega*tau*(-A*sin(omega*t) + B*cos(omega*t)))/tau"
      ]
     },
     "execution_count": 15,
     "metadata": {},
     "output_type": "execute_result"
    }
   ],
   "source": [
    "eq = lhs-rhs\n",
    "simplify(lhs)"
   ]
  },
  {
   "cell_type": "code",
   "execution_count": 16,
   "metadata": {
    "executionInfo": {
     "elapsed": 1405,
     "status": "ok",
     "timestamp": 1617033700284,
     "user": {
      "displayName": "Gustavo Wiederhecker",
      "photoUrl": "https://lh3.googleusercontent.com/a-/AOh14GhZK2QnSjNp8BzcVhZ-OTXlne4NdXvHtnr5-nSIWUA=s64",
      "userId": "03241808022281336700"
     },
     "user_tz": 180
    },
    "id": "0JE6vlJctXnU"
   },
   "outputs": [],
   "source": [
    "terms = [sin(omega*t),cos(omega*t)]\n",
    "eqlhs=collect(simplify(eq),terms)\n"
   ]
  },
  {
   "cell_type": "code",
   "execution_count": 17,
   "metadata": {
    "colab": {
     "base_uri": "https://localhost:8080/"
    },
    "executionInfo": {
     "elapsed": 1250,
     "status": "ok",
     "timestamp": 1617033700285,
     "user": {
      "displayName": "Gustavo Wiederhecker",
      "photoUrl": "https://lh3.googleusercontent.com/a-/AOh14GhZK2QnSjNp8BzcVhZ-OTXlne4NdXvHtnr5-nSIWUA=s64",
      "userId": "03241808022281336700"
     },
     "user_tz": 180
    },
    "id": "csKA9bXgtXnV",
    "outputId": "17a0b93f-2c14-4244-d172-a5bc37dcdc2d"
   },
   "outputs": [
    {
     "data": {
      "text/plain": [
       "[-A*omega + B/tau + omega*v0/R, A/tau + B*omega]"
      ]
     },
     "execution_count": 17,
     "metadata": {},
     "output_type": "execute_result"
    }
   ],
   "source": [
    "coefs = [eqlhs.coeff(term) for term in terms]\n",
    "coefs"
   ]
  },
  {
   "cell_type": "code",
   "execution_count": 18,
   "metadata": {
    "executionInfo": {
     "elapsed": 983,
     "status": "ok",
     "timestamp": 1617033700286,
     "user": {
      "displayName": "Gustavo Wiederhecker",
      "photoUrl": "https://lh3.googleusercontent.com/a-/AOh14GhZK2QnSjNp8BzcVhZ-OTXlne4NdXvHtnr5-nSIWUA=s64",
      "userId": "03241808022281336700"
     },
     "user_tz": 180
    },
    "id": "UEk6YIRltXnV"
   },
   "outputs": [],
   "source": [
    "eq2 = [Eq(coef,0) for coef in coefs]\n",
    "solution, = linsolve(eq2,(A,B))"
   ]
  },
  {
   "cell_type": "code",
   "execution_count": 19,
   "metadata": {
    "colab": {
     "base_uri": "https://localhost:8080/",
     "height": 57
    },
    "executionInfo": {
     "elapsed": 1048,
     "status": "ok",
     "timestamp": 1617033700844,
     "user": {
      "displayName": "Gustavo Wiederhecker",
      "photoUrl": "https://lh3.googleusercontent.com/a-/AOh14GhZK2QnSjNp8BzcVhZ-OTXlne4NdXvHtnr5-nSIWUA=s64",
      "userId": "03241808022281336700"
     },
     "user_tz": 180
    },
    "id": "ICiUepbZtXnV",
    "outputId": "9db6a32a-8aeb-46a9-bbc6-5ab7f2cfa3ac"
   },
   "outputs": [
    {
     "data": {
      "text/latex": [
       "$\\displaystyle \\frac{\\omega \\tau v_{0} \\left(\\omega \\tau \\sin{\\left(\\omega t \\right)} - \\cos{\\left(\\omega t \\right)}\\right)}{R \\left(\\omega^{2} \\tau^{2} + 1\\right)}$"
      ],
      "text/plain": [
       "omega*tau*v0*(omega*tau*sin(omega*t) - cos(omega*t))/(R*(omega**2*tau**2 + 1))"
      ]
     },
     "execution_count": 19,
     "metadata": {},
     "output_type": "execute_result"
    }
   ],
   "source": [
    "sol = solution[0]*terms[0] + solution[1]*terms[1]\n",
    "simplify(sol)"
   ]
  }
 ],
 "metadata": {
  "celltoolbar": "Tags",
  "colab": {
   "authorship_tag": "ABX9TyP/Sb6VtrN0gic0ZO71fh8e",
   "name": "symbolic manipulation",
   "provenance": []
  },
  "kernelspec": {
   "display_name": "Python 3",
   "language": "python",
   "name": "python3"
  },
  "language_info": {
   "codemirror_mode": {
    "name": "ipython",
    "version": 3
   },
   "file_extension": ".py",
   "mimetype": "text/x-python",
   "name": "python",
   "nbconvert_exporter": "python",
   "pygments_lexer": "ipython3",
   "version": "3.7.9"
  },
  "toc": {
   "nav_menu": {},
   "number_sections": true,
   "sideBar": true,
   "skip_h1_title": false,
   "title_cell": "Table of Contents",
   "title_sidebar": "Contents",
   "toc_cell": false,
   "toc_position": {},
   "toc_section_display": true,
   "toc_window_display": false
  }
 },
 "nbformat": 4,
 "nbformat_minor": 1
}