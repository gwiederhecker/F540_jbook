{
 "cells": [
  {
   "cell_type": "markdown",
   "metadata": {},
   "source": [
    "# Solving Kirchhoff's law ordinary differential equation"
   ]
  },
  {
   "cell_type": "markdown",
   "metadata": {},
   "source": [
    "Import packages..."
   ]
  },
  {
   "cell_type": "code",
   "execution_count": 2,
   "metadata": {
    "executionInfo": {
     "elapsed": 1038,
     "status": "ok",
     "timestamp": 1617031252262,
     "user": {
      "displayName": "Gustavo Wiederhecker",
      "photoUrl": "https://lh3.googleusercontent.com/a-/AOh14GhZK2QnSjNp8BzcVhZ-OTXlne4NdXvHtnr5-nSIWUA=s64",
      "userId": "03241808022281336700"
     },
     "user_tz": 180
    },
    "id": "yahBKP7Ji8C2",
    "tags": [
     "hide-input"
    ]
   },
   "outputs": [],
   "source": [
    "from sympy import *\n",
    "#pacote para desenhar circuitos\n",
    "import SchemDraw as schem\n",
    "import SchemDraw.elements as e"
   ]
  },
  {
   "cell_type": "code",
   "execution_count": 3,
   "metadata": {
    "tags": [
     "hide-input"
    ]
   },
   "outputs": [
    {
     "data": {
      "image/png": "[encoded data removed]",
      "text/plain": [
       "<Figure size 144.54x134.244 with 1 Axes>"
      ]
     },
     "metadata": {
      "needs_background": "light"
     },
     "output_type": "display_data"
    }
   ],
   "source": [
    "d = schem.Drawing(unit=2.5)\n",
    "d.add(e.DOT_OPEN, label ='$V_{in}$')\n",
    "comp1 =d.add(e.RES, d='right',label='$R$') #capacitor\n",
    "d.add(e.CAP, d='down',label='$C$') # resistor de saída\n",
    "d.add(e.GND)\n",
    "#output\n",
    "d.add(e.LINE, d='right', xy=comp1.end, l=1)\n",
    "d.add(e.DOT_OPEN,label ='$V_{out}$')\n",
    "#---\n",
    "d.draw()"
   ]
  },
  {
   "cell_type": "markdown",
   "metadata": {
    "id": "BmR8iAfEpG7V"
   },
   "source": [
    "Escrevendo a lei de Kirchhoff para o circuito da figura acima,\n",
    "\n",
    "$$\\frac{dq}{dt}+\\frac{1}{\\tau}q=\\frac{v_{in}(t)}{R}.$$(eq:kvl)\n",
    "\n",
    "Exploraremos o pacote `sympy` para nos ajudar a resolver esta equação diferencial ordinária."
   ]
  },
  {
   "cell_type": "markdown",
   "metadata": {
    "id": "nKsGrA5KpBvH"
   },
   "source": [
    "## Defining **symbols** and equation to be solved"
   ]
  },
  {
   "cell_type": "markdown",
   "metadata": {},
   "source": [
    "A solução tentantiva será na forma,\n",
    "\n",
    "$$ q(t)=A \\cos(\\omega t)+B\\sin(\\omega t)$$(eq:trial)"
   ]
  },
  {
   "cell_type": "code",
   "execution_count": 4,
   "metadata": {
    "executionInfo": {
     "elapsed": 550,
     "status": "ok",
     "timestamp": 1617033681187,
     "user": {
      "displayName": "Gustavo Wiederhecker",
      "photoUrl": "https://lh3.googleusercontent.com/a-/AOh14GhZK2QnSjNp8BzcVhZ-OTXlne4NdXvHtnr5-nSIWUA=s64",
      "userId": "03241808022281336700"
     },
     "user_tz": 180
    },
    "id": "yAp8Aqyqi-Lb"
   },
   "outputs": [],
   "source": [
    "A,B,omega,t, tau = symbols('A B omega t tau')\n",
    "qtrial= A*cos(omega*t)+B*sin(omega*t)"
   ]
  },
  {
   "cell_type": "code",
   "execution_count": 5,
   "metadata": {
    "executionInfo": {
     "elapsed": 477,
     "status": "ok",
     "timestamp": 1617033681483,
     "user": {
      "displayName": "Gustavo Wiederhecker",
      "photoUrl": "https://lh3.googleusercontent.com/a-/AOh14GhZK2QnSjNp8BzcVhZ-OTXlne4NdXvHtnr5-nSIWUA=s64",
      "userId": "03241808022281336700"
     },
     "user_tz": 180
    },
    "id": "4M7sz3TckYKa"
   },
   "outputs": [],
   "source": [
    "lhs = diff(qtrial,t)+1/tau*qtrial "
   ]
  },
  {
   "cell_type": "code",
   "execution_count": 6,
   "metadata": {
    "executionInfo": {
     "elapsed": 479,
     "status": "ok",
     "timestamp": 1617033681777,
     "user": {
      "displayName": "Gustavo Wiederhecker",
      "photoUrl": "https://lh3.googleusercontent.com/a-/AOh14GhZK2QnSjNp8BzcVhZ-OTXlne4NdXvHtnr5-nSIWUA=s64",
      "userId": "03241808022281336700"
     },
     "user_tz": 180
    },
    "id": "L8FL2-NIk3RE"
   },
   "outputs": [],
   "source": [
    "v0, R = symbols('v0 R')\n",
    "rhs = v0/R*cos(omega*t)"
   ]
  },
  {
   "cell_type": "code",
   "execution_count": 7,
   "metadata": {
    "colab": {
     "base_uri": "https://localhost:8080/",
     "height": 53
    },
    "executionInfo": {
     "elapsed": 725,
     "status": "ok",
     "timestamp": 1617033682321,
     "user": {
      "displayName": "Gustavo Wiederhecker",
      "photoUrl": "https://lh3.googleusercontent.com/a-/AOh14GhZK2QnSjNp8BzcVhZ-OTXlne4NdXvHtnr5-nSIWUA=s64",
      "userId": "03241808022281336700"
     },
     "user_tz": 180
    },
    "id": "3OBZDUaolXVt",
    "outputId": "a4fd742e-f837-440d-9237-e6a85d1086f1"
   },
   "outputs": [
    {
     "data": {
      "text/latex": [
       "$\\displaystyle \\frac{A \\cos{\\left(\\omega t \\right)} + B \\sin{\\left(\\omega t \\right)} + \\omega \\tau \\left(- A \\sin{\\left(\\omega t \\right)} + B \\cos{\\left(\\omega t \\right)}\\right)}{\\tau}$"
      ],
      "text/plain": [
       "(A*cos(omega*t) + B*sin(omega*t) + omega*tau*(-A*sin(omega*t) + B*cos(omega*t)))/tau"
      ]
     },
     "execution_count": 7,
     "metadata": {},
     "output_type": "execute_result"
    }
   ],
   "source": [
    "eq = lhs-rhs\n",
    "simplify(lhs)"
   ]
  },
  {
   "cell_type": "code",
   "execution_count": 8,
   "metadata": {
    "executionInfo": {
     "elapsed": 1274,
     "status": "ok",
     "timestamp": 1617033683117,
     "user": {
      "displayName": "Gustavo Wiederhecker",
      "photoUrl": "https://lh3.googleusercontent.com/a-/AOh14GhZK2QnSjNp8BzcVhZ-OTXlne4NdXvHtnr5-nSIWUA=s64",
      "userId": "03241808022281336700"
     },
     "user_tz": 180
    },
    "id": "hGGSoTNGl31C"
   },
   "outputs": [],
   "source": [
    "terms = [sin(omega*t),cos(omega*t)]\n",
    "eqlhs=collect(simplify(eq),terms)"
   ]
  },
  {
   "cell_type": "code",
   "execution_count": 9,
   "metadata": {
    "colab": {
     "base_uri": "https://localhost:8080/"
    },
    "executionInfo": {
     "elapsed": 553,
     "status": "ok",
     "timestamp": 1617033684268,
     "user": {
      "displayName": "Gustavo Wiederhecker",
      "photoUrl": "https://lh3.googleusercontent.com/a-/AOh14GhZK2QnSjNp8BzcVhZ-OTXlne4NdXvHtnr5-nSIWUA=s64",
      "userId": "03241808022281336700"
     },
     "user_tz": 180
    },
    "id": "dMeRHyYklZpu",
    "outputId": "33e240d4-2886-4d2b-8369-58f2eb91f198"
   },
   "outputs": [
    {
     "data": {
      "text/plain": [
       "[-A*omega + B/tau, A/tau + B*omega - v0/R]"
      ]
     },
     "execution_count": 9,
     "metadata": {},
     "output_type": "execute_result"
    }
   ],
   "source": [
    "coefs = [eqlhs.coeff(term) for term in terms]\n",
    "coefs"
   ]
  },
  {
   "cell_type": "code",
   "execution_count": 10,
   "metadata": {
    "executionInfo": {
     "elapsed": 882,
     "status": "ok",
     "timestamp": 1617033686296,
     "user": {
      "displayName": "Gustavo Wiederhecker",
      "photoUrl": "https://lh3.googleusercontent.com/a-/AOh14GhZK2QnSjNp8BzcVhZ-OTXlne4NdXvHtnr5-nSIWUA=s64",
      "userId": "03241808022281336700"
     },
     "user_tz": 180
    },
    "id": "XtQiIeHen0xz"
   },
   "outputs": [],
   "source": [
    "eq2 = [Eq(coef,0) for coef in coefs]\n",
    "solution, = linsolve(eq2,(A,B))"
   ]
  },
  {
   "cell_type": "code",
   "execution_count": 11,
   "metadata": {
    "colab": {
     "base_uri": "https://localhost:8080/",
     "height": 57
    },
    "executionInfo": {
     "elapsed": 1260,
     "status": "ok",
     "timestamp": 1617033686681,
     "user": {
      "displayName": "Gustavo Wiederhecker",
      "photoUrl": "https://lh3.googleusercontent.com/a-/AOh14GhZK2QnSjNp8BzcVhZ-OTXlne4NdXvHtnr5-nSIWUA=s64",
      "userId": "03241808022281336700"
     },
     "user_tz": 180
    },
    "id": "C4PFJ0h8qxzG",
    "outputId": "0bf03798-ec83-4ede-c134-59b544c12ad2"
   },
   "outputs": [
    {
     "data": {
      "text/latex": [
       "$\\displaystyle \\frac{\\tau v_{0} \\left(\\omega \\tau \\cos{\\left(\\omega t \\right)} + \\sin{\\left(\\omega t \\right)}\\right)}{R \\left(\\omega^{2} \\tau^{2} + 1\\right)}$"
      ],
      "text/plain": [
       "tau*v0*(omega*tau*cos(omega*t) + sin(omega*t))/(R*(omega**2*tau**2 + 1))"
      ]
     },
     "execution_count": 11,
     "metadata": {},
     "output_type": "execute_result"
    }
   ],
   "source": [
    "sol = solution[0]*terms[0] + solution[1]*terms[1]\n",
    "simplify(sol)"
   ]
  },
  {
   "cell_type": "code",
   "execution_count": 12,
   "metadata": {
    "colab": {
     "base_uri": "https://localhost:8080/"
    },
    "executionInfo": {
     "elapsed": 884,
     "status": "ok",
     "timestamp": 1617033687382,
     "user": {
      "displayName": "Gustavo Wiederhecker",
      "photoUrl": "https://lh3.googleusercontent.com/a-/AOh14GhZK2QnSjNp8BzcVhZ-OTXlne4NdXvHtnr5-nSIWUA=s64",
      "userId": "03241808022281336700"
     },
     "user_tz": 180
    },
    "id": "mGEl5mp-sbG1",
    "outputId": "dd47f362-6dab-4474-8bbe-22f829cdbf04"
   },
   "outputs": [
    {
     "name": "stdout",
     "output_type": "stream",
     "text": [
      "\\frac{\\tau v_{0} \\left(\\omega \\tau \\cos{\\left(\\omega t \\right)} + \\sin{\\left(\\omega t \\right)}\\right)}{R \\left(\\omega^{2} \\tau^{2} + 1\\right)}\n"
     ]
    }
   ],
   "source": [
    "print_latex(simplify(sol))"
   ]
  },
  {
   "cell_type": "markdown",
   "metadata": {
    "id": "KZ4GlMCHo6sj"
   },
   "source": [
    "Therefore, the solution is:\n",
    "\n",
    "$$q(t) = \\frac{\\tau v_{0} \\left(\\omega \\tau \\cos{\\left(\\omega t \\right)} + \\sin{\\left(\\omega t \\right)}\\right)}{R \\left(\\omega^{2} \\tau^{2} + 1\\right)}\n",
    "$$"
   ]
  },
  {
   "cell_type": "markdown",
   "metadata": {
    "id": "n-R2J7JjtvlP"
   },
   "source": [
    "# Another form....\n",
    "Equivalently we could solve directly for the electric current $i=dq/dt$, $$\\frac{di}{dt}+\\frac{1}{\\tau}i=\\frac{1}{R}\\frac{d v_{in}(t)}{dt}$$"
   ]
  },
  {
   "cell_type": "code",
   "execution_count": 46,
   "metadata": {
    "executionInfo": {
     "elapsed": 593,
     "status": "ok",
     "timestamp": 1617033579882,
     "user": {
      "displayName": "Gustavo Wiederhecker",
      "photoUrl": "https://lh3.googleusercontent.com/a-/AOh14GhZK2QnSjNp8BzcVhZ-OTXlne4NdXvHtnr5-nSIWUA=s64",
      "userId": "03241808022281336700"
     },
     "user_tz": 180
    },
    "id": "SOYRw4_KtXnO"
   },
   "outputs": [],
   "source": [
    "i0 ,omega,t, tau, theta = symbols('i0 omega t tau theta')\n",
    "itrial= i0*cos(omega*t+theta)"
   ]
  },
  {
   "cell_type": "code",
   "execution_count": 61,
   "metadata": {
    "executionInfo": {
     "elapsed": 905,
     "status": "ok",
     "timestamp": 1617033698720,
     "user": {
      "displayName": "Gustavo Wiederhecker",
      "photoUrl": "https://lh3.googleusercontent.com/a-/AOh14GhZK2QnSjNp8BzcVhZ-OTXlne4NdXvHtnr5-nSIWUA=s64",
      "userId": "03241808022281336700"
     },
     "user_tz": 180
    },
    "id": "c3nWq-P5tXnT"
   },
   "outputs": [
    {
     "data": {
      "text/latex": [
       "$\\displaystyle - i_{0} \\omega \\left(\\sin{\\left(\\theta \\right)} \\cos{\\left(\\omega t \\right)} + \\sin{\\left(\\omega t \\right)} \\cos{\\left(\\theta \\right)}\\right) + \\frac{i_{0} \\left(- \\sin{\\left(\\theta \\right)} \\sin{\\left(\\omega t \\right)} + \\cos{\\left(\\theta \\right)} \\cos{\\left(\\omega t \\right)}\\right)}{\\tau}$"
      ],
      "text/plain": [
       "-i0*omega*(sin(theta)*cos(omega*t) + sin(omega*t)*cos(theta)) + i0*(-sin(theta)*sin(omega*t) + cos(theta)*cos(omega*t))/tau"
      ]
     },
     "execution_count": 61,
     "metadata": {},
     "output_type": "execute_result"
    }
   ],
   "source": [
    "lhs = expand_trig(diff(itrial,t)+1/tau*itrial)\n",
    "lhs"
   ]
  },
  {
   "cell_type": "code",
   "execution_count": 56,
   "metadata": {
    "executionInfo": {
     "elapsed": 806,
     "status": "ok",
     "timestamp": 1617033699173,
     "user": {
      "displayName": "Gustavo Wiederhecker",
      "photoUrl": "https://lh3.googleusercontent.com/a-/AOh14GhZK2QnSjNp8BzcVhZ-OTXlne4NdXvHtnr5-nSIWUA=s64",
      "userId": "03241808022281336700"
     },
     "user_tz": 180
    },
    "id": "PbUj6RgGtXnT"
   },
   "outputs": [],
   "source": [
    "v0, R = symbols('v0 R')\n",
    "rhs = diff(v0/R*cos(omega*t),t)"
   ]
  },
  {
   "cell_type": "code",
   "execution_count": 82,
   "metadata": {
    "colab": {
     "base_uri": "https://localhost:8080/",
     "height": 53
    },
    "executionInfo": {
     "elapsed": 793,
     "status": "ok",
     "timestamp": 1617033699505,
     "user": {
      "displayName": "Gustavo Wiederhecker",
      "photoUrl": "https://lh3.googleusercontent.com/a-/AOh14GhZK2QnSjNp8BzcVhZ-OTXlne4NdXvHtnr5-nSIWUA=s64",
      "userId": "03241808022281336700"
     },
     "user_tz": 180
    },
    "id": "3i7o6sRUtXnT",
    "outputId": "7b58954c-362e-4bbe-eed3-0c0ba9e5c4e6"
   },
   "outputs": [
    {
     "data": {
      "text/latex": [
       "$\\displaystyle - i_{0} \\omega \\left(\\sin{\\left(\\theta \\right)} \\cos{\\left(\\omega t \\right)} + \\sin{\\left(\\omega t \\right)} \\cos{\\left(\\theta \\right)}\\right) + \\frac{i_{0} \\left(- \\sin{\\left(\\theta \\right)} \\sin{\\left(\\omega t \\right)} + \\cos{\\left(\\theta \\right)} \\cos{\\left(\\omega t \\right)}\\right)}{\\tau} + \\frac{\\omega v_{0} \\sin{\\left(\\omega t \\right)}}{R}$"
      ],
      "text/plain": [
       "-i0*omega*(sin(theta)*cos(omega*t) + sin(omega*t)*cos(theta)) + i0*(-sin(theta)*sin(omega*t) + cos(theta)*cos(omega*t))/tau + omega*v0*sin(omega*t)/R"
      ]
     },
     "execution_count": 82,
     "metadata": {},
     "output_type": "execute_result"
    }
   ],
   "source": [
    "eq = lhs-rhs\n",
    "eq"
   ]
  },
  {
   "cell_type": "code",
   "execution_count": 88,
   "metadata": {},
   "outputs": [
    {
     "data": {
      "text/plain": [
       "[-i0*omega*cos(theta) - i0*sin(theta)/tau + omega*v0/R,\n",
       " -i0*omega*sin(theta) + i0*cos(theta)/tau]"
      ]
     },
     "execution_count": 88,
     "metadata": {},
     "output_type": "execute_result"
    }
   ],
   "source": [
    "coefs = [expand(eq).coeff(term) for term in terms]\n",
    "coefs"
   ]
  },
  {
   "cell_type": "code",
   "execution_count": 87,
   "metadata": {},
   "outputs": [
    {
     "data": {
      "text/plain": [
       "[Eq(-i0*omega*cos(theta) - i0*sin(theta)/tau + omega*v0/R, 0),\n",
       " Eq(-i0*omega*sin(theta) + i0*cos(theta)/tau, 0)]"
      ]
     },
     "execution_count": 87,
     "metadata": {},
     "output_type": "execute_result"
    }
   ],
   "source": [
    "eq2"
   ]
  },
  {
   "cell_type": "code",
   "execution_count": 86,
   "metadata": {
    "executionInfo": {
     "elapsed": 983,
     "status": "ok",
     "timestamp": 1617033700286,
     "user": {
      "displayName": "Gustavo Wiederhecker",
      "photoUrl": "https://lh3.googleusercontent.com/a-/AOh14GhZK2QnSjNp8BzcVhZ-OTXlne4NdXvHtnr5-nSIWUA=s64",
      "userId": "03241808022281336700"
     },
     "user_tz": 180
    },
    "id": "UEk6YIRltXnV"
   },
   "outputs": [
    {
     "ename": "NonlinearError",
     "evalue": "nonlinear term encountered: -i0*omega*cos(theta)",
     "output_type": "error",
     "traceback": [
      "\u001b[0;31m---------------------------------------------------------------------------\u001b[0m",
      "\u001b[0;31mNonlinearError\u001b[0m                            Traceback (most recent call last)",
      "\u001b[0;32m<ipython-input-86-6ed066c8a656>\u001b[0m in \u001b[0;36m<module>\u001b[0;34m\u001b[0m\n\u001b[1;32m      1\u001b[0m \u001b[0meq2\u001b[0m \u001b[0;34m=\u001b[0m \u001b[0;34m[\u001b[0m\u001b[0mEq\u001b[0m\u001b[0;34m(\u001b[0m\u001b[0mcoef\u001b[0m\u001b[0;34m,\u001b[0m\u001b[0;36m0\u001b[0m\u001b[0;34m)\u001b[0m \u001b[0;32mfor\u001b[0m \u001b[0mcoef\u001b[0m \u001b[0;32min\u001b[0m \u001b[0mcoefs\u001b[0m\u001b[0;34m]\u001b[0m\u001b[0;34m\u001b[0m\u001b[0;34m\u001b[0m\u001b[0m\n\u001b[0;32m----> 2\u001b[0;31m \u001b[0msolution\u001b[0m\u001b[0;34m,\u001b[0m \u001b[0;34m=\u001b[0m \u001b[0mlinsolve\u001b[0m\u001b[0;34m(\u001b[0m\u001b[0meq2\u001b[0m\u001b[0;34m,\u001b[0m\u001b[0;34m(\u001b[0m\u001b[0mi0\u001b[0m\u001b[0;34m,\u001b[0m\u001b[0mtheta\u001b[0m\u001b[0;34m)\u001b[0m\u001b[0;34m)\u001b[0m\u001b[0;34m\u001b[0m\u001b[0;34m\u001b[0m\u001b[0m\n\u001b[0m",
      "\u001b[0;32m/usr/local/lib/python3.7/site-packages/sympy/solvers/solveset.py\u001b[0m in \u001b[0;36mlinsolve\u001b[0;34m(system, *symbols)\u001b[0m\n\u001b[1;32m   2558\u001b[0m                 recursive=True) for i in system]\n\u001b[1;32m   2559\u001b[0m             \u001b[0msystem\u001b[0m\u001b[0;34m,\u001b[0m \u001b[0msymbols\u001b[0m\u001b[0;34m,\u001b[0m \u001b[0mswap\u001b[0m \u001b[0;34m=\u001b[0m \u001b[0mrecast_to_symbols\u001b[0m\u001b[0;34m(\u001b[0m\u001b[0msystem\u001b[0m\u001b[0;34m,\u001b[0m \u001b[0msymbols\u001b[0m\u001b[0;34m)\u001b[0m\u001b[0;34m\u001b[0m\u001b[0;34m\u001b[0m\u001b[0m\n\u001b[0;32m-> 2560\u001b[0;31m             \u001b[0mA\u001b[0m\u001b[0;34m,\u001b[0m \u001b[0mb\u001b[0m \u001b[0;34m=\u001b[0m \u001b[0mlinear_eq_to_matrix\u001b[0m\u001b[0;34m(\u001b[0m\u001b[0msystem\u001b[0m\u001b[0;34m,\u001b[0m \u001b[0msymbols\u001b[0m\u001b[0;34m)\u001b[0m\u001b[0;34m\u001b[0m\u001b[0;34m\u001b[0m\u001b[0m\n\u001b[0m\u001b[1;32m   2561\u001b[0m             \u001b[0msyms_needed_msg\u001b[0m \u001b[0;34m=\u001b[0m \u001b[0;34m'free symbols in the equations provided'\u001b[0m\u001b[0;34m\u001b[0m\u001b[0;34m\u001b[0m\u001b[0m\n\u001b[1;32m   2562\u001b[0m \u001b[0;34m\u001b[0m\u001b[0m\n",
      "\u001b[0;32m/usr/local/lib/python3.7/site-packages/sympy/solvers/solveset.py\u001b[0m in \u001b[0;36mlinear_eq_to_matrix\u001b[0;34m(equations, *symbols)\u001b[0m\n\u001b[1;32m   2365\u001b[0m         \u001b[0;32mif\u001b[0m \u001b[0misinstance\u001b[0m\u001b[0;34m(\u001b[0m\u001b[0mf\u001b[0m\u001b[0;34m,\u001b[0m \u001b[0mEquality\u001b[0m\u001b[0;34m)\u001b[0m\u001b[0;34m:\u001b[0m\u001b[0;34m\u001b[0m\u001b[0;34m\u001b[0m\u001b[0m\n\u001b[1;32m   2366\u001b[0m             \u001b[0mf\u001b[0m \u001b[0;34m=\u001b[0m \u001b[0mf\u001b[0m\u001b[0;34m.\u001b[0m\u001b[0mrewrite\u001b[0m\u001b[0;34m(\u001b[0m\u001b[0mAdd\u001b[0m\u001b[0;34m,\u001b[0m \u001b[0mevaluate\u001b[0m\u001b[0;34m=\u001b[0m\u001b[0;32mFalse\u001b[0m\u001b[0;34m)\u001b[0m\u001b[0;34m\u001b[0m\u001b[0;34m\u001b[0m\u001b[0m\n\u001b[0;32m-> 2367\u001b[0;31m         \u001b[0mcoeff_list\u001b[0m \u001b[0;34m=\u001b[0m \u001b[0mlinear_coeffs\u001b[0m\u001b[0;34m(\u001b[0m\u001b[0mf\u001b[0m\u001b[0;34m,\u001b[0m \u001b[0;34m*\u001b[0m\u001b[0msymbols\u001b[0m\u001b[0;34m)\u001b[0m\u001b[0;34m\u001b[0m\u001b[0;34m\u001b[0m\u001b[0m\n\u001b[0m\u001b[1;32m   2368\u001b[0m         \u001b[0mb\u001b[0m\u001b[0;34m.\u001b[0m\u001b[0mappend\u001b[0m\u001b[0;34m(\u001b[0m\u001b[0;34m-\u001b[0m\u001b[0mcoeff_list\u001b[0m\u001b[0;34m.\u001b[0m\u001b[0mpop\u001b[0m\u001b[0;34m(\u001b[0m\u001b[0;34m)\u001b[0m\u001b[0;34m)\u001b[0m\u001b[0;34m\u001b[0m\u001b[0;34m\u001b[0m\u001b[0m\n\u001b[1;32m   2369\u001b[0m         \u001b[0mA\u001b[0m\u001b[0;34m.\u001b[0m\u001b[0mappend\u001b[0m\u001b[0;34m(\u001b[0m\u001b[0mcoeff_list\u001b[0m\u001b[0;34m)\u001b[0m\u001b[0;34m\u001b[0m\u001b[0;34m\u001b[0m\u001b[0m\n",
      "\u001b[0;32m/usr/local/lib/python3.7/site-packages/sympy/solvers/solveset.py\u001b[0m in \u001b[0;36mlinear_coeffs\u001b[0;34m(eq, *syms, **_kw)\u001b[0m\n\u001b[1;32m   2253\u001b[0m             \u001b[0;32mreturn\u001b[0m \u001b[0;34m[\u001b[0m\u001b[0md\u001b[0m\u001b[0;34m.\u001b[0m\u001b[0mget\u001b[0m\u001b[0;34m(\u001b[0m\u001b[0ms\u001b[0m\u001b[0;34m,\u001b[0m \u001b[0mS\u001b[0m\u001b[0;34m.\u001b[0m\u001b[0mZero\u001b[0m\u001b[0;34m)\u001b[0m \u001b[0;32mfor\u001b[0m \u001b[0ms\u001b[0m \u001b[0;32min\u001b[0m \u001b[0msyms\u001b[0m\u001b[0;34m]\u001b[0m \u001b[0;34m+\u001b[0m \u001b[0;34m[\u001b[0m\u001b[0md\u001b[0m\u001b[0;34m[\u001b[0m\u001b[0;36m0\u001b[0m\u001b[0;34m]\u001b[0m\u001b[0;34m]\u001b[0m\u001b[0;34m\u001b[0m\u001b[0;34m\u001b[0m\u001b[0m\n\u001b[1;32m   2254\u001b[0m         \u001b[0;32mreturn\u001b[0m \u001b[0md\u001b[0m  \u001b[0;31m# default is still list but this won't matter\u001b[0m\u001b[0;34m\u001b[0m\u001b[0;34m\u001b[0m\u001b[0m\n\u001b[0;32m-> 2255\u001b[0;31m     \u001b[0;32mraise\u001b[0m \u001b[0mNonlinearError\u001b[0m\u001b[0;34m(\u001b[0m\u001b[0;34m'nonlinear term encountered: %s'\u001b[0m \u001b[0;34m%\u001b[0m \u001b[0mt\u001b[0m\u001b[0;34m)\u001b[0m\u001b[0;34m\u001b[0m\u001b[0;34m\u001b[0m\u001b[0m\n\u001b[0m\u001b[1;32m   2256\u001b[0m \u001b[0;34m\u001b[0m\u001b[0m\n\u001b[1;32m   2257\u001b[0m \u001b[0;34m\u001b[0m\u001b[0m\n",
      "\u001b[0;31mNonlinearError\u001b[0m: nonlinear term encountered: -i0*omega*cos(theta)"
     ]
    }
   ],
   "source": [
    "eq2 = [Eq(coef,0) for coef in coefs]\n",
    "solution, = linsolve(eq2,(i0,theta))"
   ]
  },
  {
   "cell_type": "code",
   "execution_count": 36,
   "metadata": {
    "colab": {
     "base_uri": "https://localhost:8080/",
     "height": 57
    },
    "executionInfo": {
     "elapsed": 1048,
     "status": "ok",
     "timestamp": 1617033700844,
     "user": {
      "displayName": "Gustavo Wiederhecker",
      "photoUrl": "https://lh3.googleusercontent.com/a-/AOh14GhZK2QnSjNp8BzcVhZ-OTXlne4NdXvHtnr5-nSIWUA=s64",
      "userId": "03241808022281336700"
     },
     "user_tz": 180
    },
    "id": "ICiUepbZtXnV",
    "outputId": "9db6a32a-8aeb-46a9-bbc6-5ab7f2cfa3ac"
   },
   "outputs": [
    {
     "data": {
      "text/latex": [
       "$\\displaystyle \\frac{\\omega \\tau v_{0} \\left(\\omega \\tau \\sin{\\left(\\omega t \\right)} - \\cos{\\left(\\omega t \\right)}\\right)}{R \\left(\\omega^{2} \\tau^{2} + 1\\right)}$"
      ],
      "text/plain": [
       "omega*tau*v0*(omega*tau*sin(omega*t) - cos(omega*t))/(R*(omega**2*tau**2 + 1))"
      ]
     },
     "execution_count": 36,
     "metadata": {},
     "output_type": "execute_result"
    }
   ],
   "source": [
    "sol = solution[0]*terms[0] + solution[1]*terms[1]\n",
    "simplify(sol)"
   ]
  },
  {
   "cell_type": "markdown",
   "metadata": {},
   "source": [
    "We can write the solution above in a simpler form by noting "
   ]
  },
  {
   "cell_type": "code",
   "execution_count": null,
   "metadata": {},
   "outputs": [],
   "source": []
  }
 ],
 "metadata": {
  "celltoolbar": "Tags",
  "colab": {
   "authorship_tag": "ABX9TyP/Sb6VtrN0gic0ZO71fh8e",
   "name": "symbolic manipulation",
   "provenance": []
  },
  "kernelspec": {
   "display_name": "Python 3",
   "language": "python",
   "name": "python3"
  },
  "language_info": {
   "codemirror_mode": {
    "name": "ipython",
    "version": 3
   },
   "file_extension": ".py",
   "mimetype": "text/x-python",
   "name": "python",
   "nbconvert_exporter": "python",
   "pygments_lexer": "ipython3",
   "version": "3.7.7"
  },
  "toc": {
   "nav_menu": {},
   "number_sections": true,
   "sideBar": true,
   "skip_h1_title": false,
   "title_cell": "Table of Contents",
   "title_sidebar": "Contents",
   "toc_cell": false,
   "toc_position": {},
   "toc_section_display": true,
   "toc_window_display": false
  }
 },
 "nbformat": 4,
 "nbformat_minor": 1
}
