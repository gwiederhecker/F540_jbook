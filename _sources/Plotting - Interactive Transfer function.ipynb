{
 "cells": [
  {
   "cell_type": "markdown",
   "metadata": {},
   "source": [
    "# Plotting: Interactive analysis of an RLC ressonant filter"
   ]
  },
  {
   "cell_type": "code",
   "execution_count": 1,
   "metadata": {},
   "outputs": [],
   "source": [
    "import numpy as np\n",
    "import matplotlib.pyplot as plt\n",
    "from ipywidgets import interactive\n",
    "import matplotlib\n",
    "font = {'family' : 'arial',\n",
    "        'weight' : 'normal',\n",
    "        'size'   : 18}\n",
    "\n",
    "matplotlib.rc('font', **font)"
   ]
  },
  {
   "cell_type": "markdown",
   "metadata": {},
   "source": [
    "## Filtro RLC passa-banda"
   ]
  },
  {
   "cell_type": "markdown",
   "metadata": {},
   "source": [
    "A função resposta de um filtro RLC com resistor na saída será dada por, $$H=\\frac{R}{R+Z_L+Z_C}$$\n",
    "Na expressão acima,  $Z_L$ e $Z_C$ representam as impedâncias complexas do indutor e capacitor."
   ]
  },
  {
   "cell_type": "markdown",
   "metadata": {},
   "source": [
    "### Capacitor e Indutor ideais\n",
    "Neste caso, $Z_L=jX_L$ e $Z_C=-jX_C$, sendo que as as reatâncias são dadas por $X_L=\\omega L$ e $X_C=1/(\\omega C)$\n",
    "$$H=\\frac{R}{R+j(X_L-X_C)}$$"
   ]
  },
  {
   "cell_type": "code",
   "execution_count": 2,
   "metadata": {},
   "outputs": [
    {
     "data": {
      "image/png": "[encoded data removed]",
      "text/plain": [
       "<Figure size 432x288 with 1 Axes>"
      ]
     },
     "metadata": {
      "needs_background": "light"
     },
     "output_type": "display_data"
    }
   ],
   "source": [
    "def T(freq,R,L,C):\n",
    "    #função para gerar transmitância\n",
    "    ω = 2*np.pi*freq\n",
    "    XL = ω*L\n",
    "    XC = 1/(ω*C)\n",
    "    H = R/(R+1j*(XL-XC))\n",
    "    return np.abs(H)**2\n",
    "#---\n",
    "#grafico básico\n",
    "freq = np.linspace(10,1e4,200)\n",
    "plt.plot(freq,T(freq,100,50e-3,220e-9))\n",
    "plt.show()"
   ]
  },
  {
   "cell_type": "markdown",
   "metadata": {},
   "source": [
    "Abaixo geramos um gráfico dentro de uma função ```plot_interactive1(R=1e2,L=50,C=220)``` que nos pemitirá gerar um gráfico interativo, nos quais os três argumentos da função ```R,L,C``` serão controlados."
   ]
  },
  {
   "cell_type": "code",
   "execution_count": 3,
   "metadata": {},
   "outputs": [],
   "source": [
    "def plot_interactive1(R=1e2,L=50,C=220):\n",
    "    #Esta função gera o grafico com base nos parâmetros R,L,C\n",
    "    #Unidades: R[Ω]; L[mH]; C[nF]\n",
    "    #-------\n",
    "    L = L*1e-3 #converte para H\n",
    "    C = C*1e-9 # converte para F\n",
    "    f0 = 1/(2*np.pi*np.sqrt(L*C)) # ressonancia\n",
    "    f1 = ((1/2)*((C**-1)*((L**-1)*((C*R)+((C**(1/2))*(((4*L)+(C*(R**2)))**(1/2))))))) /(2*np.pi)\n",
    "    f2 = ((1/2)*((C**-1)*((L**-1)*((-1*(C*R))+((C**(1/2))*(((4*L)+(C*(R**2)))**(1/2))))))) /(2*np.pi)\n",
    "    #---graficos\n",
    "    fig, ax = plt.subplots(1,2,figsize=(12,4))\n",
    "    #---------------\n",
    "    #eixo da esquerda\n",
    "    #---------------\n",
    "    ax[0].plot(freq,T(freq,R,L,C)) # transmitância\n",
    "    ax[0].plot(freq,0*freq+0.5,'--k') #meia-altura\n",
    "    ax[0].plot([f1,f0, f2],[T(f1,R,L,C),T(f0,R,L,C),T(f2,R,L,C)],'or')# pontos da largura meia altura\n",
    "    #formatação do gráfico\n",
    "    ax[0].set_xlabel('Frequência (Hz)')\n",
    "    ax[0].set_ylabel('Transmitância')\n",
    "    ax[0].set_xlim([10,1e4])\n",
    "    ax[0].set_ylim([0,1.1])\n",
    "    ax[0].grid(True)\n",
    "    #---------------\n",
    "    #eixo da direita\n",
    "    #---------------\n",
    "    ax[1].plot(freq,10*np.log10(T(freq,R,L,C)))\n",
    "    ax[1].plot(freq,0*freq-3,'--k')\n",
    "    ax[1].plot([f1, f2],10*np.log10([T(f1,R,L,C),T(f2,R,L,C)]),'or')\n",
    "    #formatação do gráfico\n",
    "    ax[1].set_xlabel('Frequência (Hz)')\n",
    "    ax[1].set_ylabel('Transmitância (dB)')\n",
    "    ax[1].set_xlim([10,1e4])\n",
    "    ax[1].set_ylim([-30,0.5])\n",
    "    ax[1].grid(True)\n",
    "    plt.xscale('log')\n",
    "    plt.tight_layout()\n",
    "    plt.show()"
   ]
  },
  {
   "cell_type": "code",
   "execution_count": 4,
   "metadata": {},
   "outputs": [
    {
     "data": {
      "application/vnd.jupyter.widget-view+json": {
       "model_id": "d1add1edceff420b8ee2def19addf74d",
       "version_major": 2,
       "version_minor": 0
      },
      "text/plain": [
       "interactive(children=(FloatSlider(value=100.0, description='R', max=1000.0, min=100.0, step=100.0), IntSlider(…"
      ]
     },
     "metadata": {},
     "output_type": "display_data"
    }
   ],
   "source": [
    "freq = np.linspace(10,1e4,200)\n",
    "graph1 = interactive(plot_interactive1,R=(1e2,1e3,100),L=(10,100,10),C=(100,800,100))\n",
    "graph1"
   ]
  },
  {
   "cell_type": "markdown",
   "metadata": {},
   "source": [
    "###  Indutor com resistência interna (em série),\n",
    "Neste caso, $Z_L=r_L+jX_L$ e $Z_C=-jX_C$, sendo que as as reatâncias são dadas por $X_L=\\omega L$ e $X_C=1/(\\omega C)$\n",
    "$$H=\\frac{R}{R+r_l+j(X_L-X_C)}$$"
   ]
  },
  {
   "cell_type": "code",
   "execution_count": 5,
   "metadata": {},
   "outputs": [],
   "source": [
    "def T(freq,R=1e2,rl=0,L=50,C=220):\n",
    "    ω = 2*np.pi*freq\n",
    "    XL = ω*L\n",
    "    XC = 1/(ω*C)\n",
    "    H = R/(R+rl+1j*(XL-XC))\n",
    "    return np.abs(H)**2\n",
    "def plot_interactive2(R=1e2,rl=0,L=50,C=220):\n",
    "    #Esta função gera o grafico com base nos parâmetros R,L,C\n",
    "    #Unidades: R[Ω]; L[mH]; C[nF]\n",
    "    L = L*1e-3 #converte para H\n",
    "    C = C*1e-9 # converte para F\n",
    "    f0 = 1/(2*np.pi*np.sqrt(L*C)) # ressonancia\n",
    "    f1 = ((1/2)*((C**-1)*((L**-1)*((C*R)+((C*rl)+(((4*(C*L))+(((-1*(C*R))+(-1*(C*rl)))**2))**(1/2)))))))/(2*np.pi)\n",
    "    f2 = ((1/2)*((C**-1)*((L**-1)*((-1*(C*R))+((-1*(C*rl))+(((4*(C*L))+(((C*R)+(C*rl))**2))**(1/2)))))))/(2*np.pi)\n",
    "    #---graficos\n",
    "    fig, ax = plt.subplots(1,2,figsize=(12,4))\n",
    "    #---------------\n",
    "    #eixo da esquerda\n",
    "    #---------------\n",
    "    ax[0].plot(freq,T(freq,R,rl,L,C))\n",
    "    ax[0].plot(freq,0*freq+T(f0,R,rl,L,C)/2,'--k')\n",
    "    ax[0].plot([f1, f0, f2],[T(f1,R,rl,L,C),T(f0,R,rl,L,C),T(f2,R,rl,L,C)],'or')\n",
    "    #formatação do gráfico\n",
    "    ax[0].set_xlabel('Frequência (Hz)')\n",
    "    ax[0].set_ylabel('Transmitância')\n",
    "    ax[0].set_xlim([10,1e4])\n",
    "    ax[0].set_ylim([0,1.1])\n",
    "    ax[0].grid(True)\n",
    "    #---------------\n",
    "    #eixo da direita\n",
    "    #---------------\n",
    "    ax[1].plot(freq,10*np.log10(T(freq,R,rl,L,C)))\n",
    "    ax[1].plot(freq,0*freq +10*np.log10(T(f0,R,rl,L,C))-3,'--k')\n",
    "    ax[1].plot([f1, f0, f2],10*np.log10([T(f1,R,rl,L,C),T(f0,R,rl,L,C),T(f2,R,rl,L,C)]),'or')\n",
    "    #formatação do gráfico\n",
    "    ax[1].set_xlabel('Frequência (Hz)')\n",
    "    ax[1].set_ylabel('Transmitância (dB)')\n",
    "    ax[1].set_xlim([10,1e4])\n",
    "    ax[1].set_ylim([-30,0.5])\n",
    "    ax[1].grid(True)\n",
    "    plt.xscale('log')\n",
    "    plt.tight_layout()\n",
    "    plt.show()\n",
    "graph2 = interactive(plot_interactive2,R=(1e2,1e3,100),rl=(0,100,10),L=(10,100,10),C=(100,800,100))"
   ]
  },
  {
   "cell_type": "code",
   "execution_count": 6,
   "metadata": {},
   "outputs": [
    {
     "data": {
      "application/vnd.jupyter.widget-view+json": {
       "model_id": "5848796ab6b4494f8ce909f95e421457",
       "version_major": 2,
       "version_minor": 0
      },
      "text/plain": [
       "interactive(children=(FloatSlider(value=100.0, description='R', max=1000.0, min=100.0, step=100.0), IntSlider(…"
      ]
     },
     "metadata": {},
     "output_type": "display_data"
    }
   ],
   "source": [
    "freq = np.linspace(10,1e4,200)\n",
    "graph2"
   ]
  },
  {
   "cell_type": "code",
   "execution_count": null,
   "metadata": {},
   "outputs": [],
   "source": []
  }
 ],
 "metadata": {
  "@webio": {
   "lastCommId": null,
   "lastKernelId": null
  },
  "kernelspec": {
   "display_name": "Python 3",
   "language": "python",
   "name": "python3"
  },
  "language_info": {
   "codemirror_mode": {
    "name": "ipython",
    "version": 3
   },
   "file_extension": ".py",
   "mimetype": "text/x-python",
   "name": "python",
   "nbconvert_exporter": "python",
   "pygments_lexer": "ipython3",
   "version": "3.8.8"
  },
  "toc": {
   "nav_menu": {},
   "number_sections": true,
   "sideBar": true,
   "skip_h1_title": false,
   "title_cell": "Table of Contents",
   "title_sidebar": "Contents",
   "toc_cell": false,
   "toc_position": {},
   "toc_section_display": true,
   "toc_window_display": false
  }
 },
 "nbformat": 4,
 "nbformat_minor": 2
}