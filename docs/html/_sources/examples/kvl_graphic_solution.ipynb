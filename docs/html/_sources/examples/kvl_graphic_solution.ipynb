{
  "cells": [
    {
      "cell_type": "markdown",
      "metadata": {
        "id": "-iYku1fhxFVp",
        "colab_type": "text"
      },
      "source": [
        "## Inicialização"
      ]
    },
    {
      "cell_type": "code",
      "execution_count": null,
      "metadata": {
        "colab_type": "text",
        "id": "StKbC2-Bw8jH"
      },
      "outputs": [],
      "source": [
        "### Importando pacotes e definindo funções"
      ]
    },
    {
      "cell_type": "code",
      "metadata": {
        "id": "ZWJ_OMQblyuw",
        "colab_type": "code",
        "colab": {}
      },
      "source": [
        "import matplotlib.pyplot as plt  # importar a bilioteca pyplot para fazer gráficos\n",
        "import matplotlib.ticker as plticker\n",
        "import numpy as np   # importar a biblioteca Numpy para lidar com matrizes\n",
        "import pandas as pd   # importa bilioteca pandas para  lidar com processamento de dados\n",
        "import os\n",
        "from scipy import optimize\n",
        "import SchemDraw as schem\n",
        "import SchemDraw.elements as e"
      ],
      "execution_count": 1,
      "outputs": []
    },
    {
      "cell_type": "code",
      "metadata": {
        "id": "eU_Zldo1xd9A",
        "colab_type": "code",
        "colab": {}
      },
      "source": [
        "import ipywidgets as widgets\n",
        "from ipywidgets import interact, interact_manual, interactive"
      ],
      "execution_count": 2,
      "outputs": []
    },
    {
      "cell_type": "markdown",
      "metadata": {
        "id": "x_9mS3KpxtSD",
        "colab_type": "text"
      },
      "source": [
        "### Funções para desenhar circuitos"
      ]
    },
    {
      "cell_type": "code",
      "metadata": {
        "id": "ldQA4FV5vPjN",
        "colab_type": "code",
        "colab": {}
      },
      "source": [
        "def DivTensao(Z1, Z2, fonte = [True,e.SOURCE_V], unit_size = 2.5, **kwargs):\n",
        "    d = schem.Drawing(unit=unit_size, **kwargs)\n",
        "    if fonte[0]:\n",
        "        #fonte\n",
        "        gnd1 = d.add(e.GND)\n",
        "        d.add(fonte[1], label='$V_{Th}$')\n",
        "        d.add(e.RES, d='right', label='$R_g$')\n",
        "    #divisor de tensão\n",
        "    vin = d.add(e.DOT_OPEN ,label='$V_{in}$')\n",
        "    z1 = d.add(Z1[0], d='right',label='${}$'.format(Z1[1]))\n",
        "    z2 = d.add(Z2[0], d='down',botlabel='${}$'.format(Z2[1]))\n",
        "    gnd2 = d.add(e.GND)\n",
        "    #output\n",
        "    d.add(e.LINE, d='right', xy=z1.end, l=1)\n",
        "    vout = d.add(e.DOT_OPEN, label='$V_{out}$')\n",
        "    #loop\n",
        "    d.labelI(z2, '$I$',top=False, arrowofst = 0.8, arrowlen = 0.75)\n",
        "    return d"
      ],
      "execution_count": 3,
      "outputs": []
    },
    {
      "cell_type": "markdown",
      "metadata": {
        "id": "ll8gkB3ixyEa",
        "colab_type": "text"
      },
      "source": [
        "### Funções para gerar gráficos"
      ]
    },
    {
      "cell_type": "code",
      "metadata": {
        "id": "aTPCH09gx5KL",
        "colab_type": "code",
        "colab": {
          "base_uri": "https://localhost:8080/",
          "height": 130
        },
        "outputId": "1c810a38-9ff2-4a82-c2d0-0a17389738b5"
      },
      "source": [
        "def plot_load_lines(Vin=5,R1=100,R2=100):\n",
        "  '''\n",
        "  Função para ilustrar a solução das leis Kirchhoff \n",
        "  '''\n",
        "  #limites dos eixos\n",
        "  Vin_min, Vin_max = -6,6 # [V]\n",
        "  I_min, I_max = -60,60 # [mA]\n",
        "  #-------------\n",
        "  I=np.linspace(I_min,I_max,100)\n",
        "  #----------------------\n",
        "  Vlhs = Vin-R1*I # equação LHS\n",
        "  Vrhs = R2*I # equação RHS\n",
        "  #----------------------\n",
        "  fig_size = (10,5)\n",
        "  fig,ax = plt.subplots(1,2,figsize=fig_size)\n",
        "  #------------------\n",
        "  ax0 = ax[0]\n",
        "  DivTensao([e.RES,'R_1'],[e.RES,'R_2'],fonte = [False,e.SOURCE_V]).draw(ax=ax0)\n",
        "  ax0.axes.get_xaxis().set_visible(False)\n",
        "  ax0.axes.get_yaxis().set_visible(False)\n",
        "  ax0.set_frame_on(False)\n",
        "  ax0.set_xticklabels(())\n",
        "  ax0.set_yticklabels(())\n",
        "  ax0.get_figure().set_size_inches(fig_size[0],fig_size[1])\n",
        "  #------------------\n",
        "  ax0 = ax[1]\n",
        "  ax0.plot(Vlhs,I*1e3, label = r'$V_{in}-R_1I-V(I)=0$')\n",
        "  ax0.plot(Vrhs,I*1e3, label = r'$V(I)-R_2I=0$')\n",
        "  #---\n",
        "  #eixos x-y\n",
        "  ax0.axhline(0, color='k', linestyle = '-',lw=2)\n",
        "  ax0.axvline(0, color='k', linestyle = '-',lw=2)\n",
        "  #---\n",
        "  lab = '$V_{aberto}$'+'={} V'.format(Vin)\n",
        "  ax0.scatter(Vin,0, color='b', marker='o', s=70, label=lab,zorder=3)\n",
        "  lab = '$I_{curto}$'+'={:2.1f} mA'.format(1e3*Vin/R1)\n",
        "  ax0.scatter(0,Vin/R1*1e3, color='b', marker='P', s=70, label=lab,zorder=3)\n",
        "  #solução para corrente e tensão\n",
        "  ax0.axhline(1e3*Vin/(R1+R2), c='k', ls = '--')\n",
        "  ax0.axvline(Vin*R2/(R1+R2), c='k', ls = '--')\n",
        "  lab = 'I,V={:2.1f} mA, {:2.1f} V'.format(1e3*Vin/(R1+R2),Vin*R2/(R1+R2))\n",
        "  ax0.scatter(Vin*R2/(R1+R2),1e3*Vin/(R1+R2), c='r', marker='o', s=100, label=lab)\n",
        "  #-----------------------\n",
        "  ax0.set_xlabel('Tensão (V)')\n",
        "  ax0.set_ylabel('Corrente (mA)')\n",
        "  ax0.set_xlim([Vin_min,Vin_max])\n",
        "  ax0.set_ylim([I_min,I_max])\n",
        "  ax0.legend(loc = 'center left',bbox_to_anchor=[1.0,0.5])\n",
        "  ax0.grid(True,which='both')\n",
        "  ax0.xaxis.set_major_locator(plticker.MultipleLocator(1))\n",
        "  ax0.yaxis.set_major_locator(plticker.MultipleLocator(10))\n",
        "  plt.show()"
      ],
      "execution_count": 4,
      "outputs": [
        {
          "output_type": "error",
          "ename": "IndentationError",
          "evalue": "unexpected indent (<ipython-input-4-8467be471a8b>, line 6)",
          "traceback": [
            "\u001b[0;36m  File \u001b[0;32m\"<ipython-input-4-8467be471a8b>\"\u001b[0;36m, line \u001b[0;32m6\u001b[0m\n\u001b[0;31m    Vin_min, Vin_max = -6,6 # [V]\u001b[0m\n\u001b[0m    ^\u001b[0m\n\u001b[0;31mIndentationError\u001b[0m\u001b[0;31m:\u001b[0m unexpected indent\n"
          ]
        }
      ]
    },
    {
      "cell_type": "markdown",
      "metadata": {
        "id": "gGz_ZvtwwngH",
        "colab_type": "text"
      },
      "source": [
        "# Resolvendo a lei de Kirchhoff (KVL) graficamente\n",
        "\n"
      ]
    },
    {
      "cell_type": "markdown",
      "metadata": {
        "id": "4RB5EOaXzUox",
        "colab_type": "text"
      },
      "source": [
        "## Circuito divisor de tensão"
      ]
    },
    {
      "cell_type": "markdown",
      "metadata": {
        "id": "C0vcG3dewtV9",
        "colab_type": "text"
      },
      "source": [
        "Quando escreve-se a KVL para componentes cuja relação entre tensão e corrente é linear, geralmente é trivial resolver a lei de Kirchhoff. Por exemplo, considere o circuito abaixo:![alt text](https://)"
      ]
    },
    {
      "cell_type": "code",
      "metadata": {
        "id": "mztHq4JTwdHy",
        "colab_type": "code",
        "colab": {
          "base_uri": "https://localhost:8080/",
          "height": 165
        },
        "outputId": "a7987ac2-e96c-41d8-bbea-163be15c6c80"
      },
      "source": [
        "DivTensao([e.RES,'R_1'],[e.RES,'R_2'],fonte = [False,e.SOURCE_V]).draw()"
      ],
      "execution_count": null,
      "outputs": [
        {
          "output_type": "display_data",
          "data": {
            "image/png": "[encoded data removed]",
            "text/plain": [
              "<Figure size 151.74x141.444 with 1 Axes>"
            ]
          },
          "metadata": {
            "tags": [],
            "needs_background": "light"
          }
        }
      ]
    },
    {
      "cell_type": "markdown",
      "metadata": {
        "id": "WFu9rF5OxWmk",
        "colab_type": "text"
      },
      "source": [
        "Naturalmente a KVL resulta em $$V_{in}-R_1 I-R_2 I=0,$$ ou seja, $$I=\\frac{V_{in}}{R_1+R_2}.$$\n",
        "Suponha agora que não se sabe como se escrever a lei de Ohm para o resistor $R_2$, deixemos a tensão neste resistor como $V_{out}(I)$. A KVL neste caso poderia ser escrita na forma: $$V_{in}-R_1 I=V_{out}(I).$$\n",
        "Temos duas funções da corrente, uma no lado esquerdo (LHS) e outro no lado direito (RHS). Se graficarmos ambas em um gráfico $I \\times V$ temos:"
      ]
    },
    {
      "cell_type": "code",
      "metadata": {
        "id": "dPp0xickwviv",
        "colab_type": "code",
        "colab": {
          "base_uri": "https://localhost:8080/",
          "height": 480,
          "referenced_widgets": [
            "cd80b11b87cd4a22a33004d4a3404b7a",
            "d86ce303eb1b47bd93a7228e568d0f45",
            "ecd64c2623b647e9ab41f056eef6e63f",
            "43201705101e477ca1a0a6e3ca3287af",
            "262f47ec94ac4ba190caf9cfad820387",
            "107e339b8e15472d84b13f267e9e1e3e",
            "144c3e6be63a475ebe7de12ee8e8d704",
            "3e9f2b1efc6a43b08d09b2247ca1b3a8",
            "2fbd1f2f461b4eb59e622cba6f149d41",
            "a1a495c4697e491abcbd1a509ce5762e",
            "1790006e64ad4c24b4316871e934cdab",
            "534930eb4fa848058b03a41b0fa19c92",
            "019bebbe37bb41d69e983047bb418f68"
          ]
        },
        "outputId": "5dce27af-7955-4cc2-f5e0-8dea9fb89281"
      },
      "source": [
        "interactive(plot_load_lines,Vin=(-5,5),R1=(1,300),R2=(1,300))"
      ],
      "execution_count": null,
      "outputs": [
        {
          "output_type": "display_data",
          "data": {
            "application/vnd.jupyter.widget-view+json": {
              "model_id": "cd80b11b87cd4a22a33004d4a3404b7a",
              "version_minor": 0,
              "version_major": 2
            },
            "text/plain": [
              "interactive(children=(IntSlider(value=5, description='Vin', max=5, min=-5), IntSlider(value=100, description='…"
            ]
          },
          "metadata": {
            "tags": []
          }
        }
      ]
    },
    {
      "cell_type": "markdown",
      "metadata": {
        "id": "ovuwvLVLztiz",
        "colab_type": "text"
      },
      "source": [
        "## Circuitos com diodo"
      ]
    },
    {
      "cell_type": "markdown",
      "metadata": {
        "id": "sQxFdq5tzx_u",
        "colab_type": "text"
      },
      "source": [
        "Considere agora um circuito contendo um elemento cuja relação entre tensão e corrente é não-linear, por exempleo, um diodo. O caso do diodo fornece uma aplicação importante do método das curvas de carga discutido acima.\n",
        "Quando se ignora efeitos de ruptura (breakdown),a corrente no diodo depende da tensão entre seus terminais da seguinte forma: $$I(V)=I_S (\\exp\\left(\\frac{q V}{k_B T}\\right)-1).$$\n",
        "Sendo que,\n",
        "* $I_S$ [A] é a tensão de saturação reversa (depende da temperatura);\n",
        "* $k_B\\approx1.38\\times10^{-23} $ [J/K] é constante de Boltzmann;\n",
        "* $T $ [K] é a temperatura da junção PN;\n",
        "* $q\\approx1.6\\times 10^{-19} $ [C] é a carga do elétron.\n",
        "\n",
        "Note que $q/(k_B T)\\approx39.6\\equiv \\beta $ [C/J] para $T=293$ [K], portanto $I(V)=I_S (\\exp(\\beta V)-1).$"
      ]
    }
  ],
  "metadata": {
    "colab": {
      "name": "kvl_graphic_solution.ipynb",
      "provenance": [],
      "collapsed_sections": []
    },
    "kernelspec": {
      "name": "python3",
      "display_name": "Python 3"
    },
    "widgets": {
      "application/vnd.jupyter.widget-state+json": {
        "cd80b11b87cd4a22a33004d4a3404b7a": {
          "model_module": "@jupyter-widgets/controls",
          "model_name": "VBoxModel",
          "state": {
            "_view_name": "VBoxView",
            "_dom_classes": [
              "widget-interact"
            ],
            "_model_name": "VBoxModel",
            "_view_module": "@jupyter-widgets/controls",
            "_model_module_version": "1.5.0",
            "_view_count": null,
            "_view_module_version": "1.5.0",
            "box_style": "",
            "layout": "IPY_MODEL_d86ce303eb1b47bd93a7228e568d0f45",
            "_model_module": "@jupyter-widgets/controls",
            "children": [
              "IPY_MODEL_ecd64c2623b647e9ab41f056eef6e63f",
              "IPY_MODEL_43201705101e477ca1a0a6e3ca3287af",
              "IPY_MODEL_262f47ec94ac4ba190caf9cfad820387",
              "IPY_MODEL_107e339b8e15472d84b13f267e9e1e3e"
            ]
          }
        },
        "d86ce303eb1b47bd93a7228e568d0f45": {
          "model_module": "@jupyter-widgets/base",
          "model_name": "LayoutModel",
          "state": {
            "_view_name": "LayoutView",
            "grid_template_rows": null,
            "right": null,
            "justify_content": null,
            "_view_module": "@jupyter-widgets/base",
            "overflow": null,
            "_model_module_version": "1.2.0",
            "_view_count": null,
            "flex_flow": null,
            "width": null,
            "min_width": null,
            "border": null,
            "align_items": null,
            "bottom": null,
            "_model_module": "@jupyter-widgets/base",
            "top": null,
            "grid_column": null,
            "overflow_y": null,
            "overflow_x": null,
            "grid_auto_flow": null,
            "grid_area": null,
            "grid_template_columns": null,
            "flex": null,
            "_model_name": "LayoutModel",
            "justify_items": null,
            "grid_row": null,
            "max_height": null,
            "align_content": null,
            "visibility": null,
            "align_self": null,
            "height": null,
            "min_height": null,
            "padding": null,
            "grid_auto_rows": null,
            "grid_gap": null,
            "max_width": null,
            "order": null,
            "_view_module_version": "1.2.0",
            "grid_template_areas": null,
            "object_position": null,
            "object_fit": null,
            "grid_auto_columns": null,
            "margin": null,
            "display": null,
            "left": null
          }
        },
        "ecd64c2623b647e9ab41f056eef6e63f": {
          "model_module": "@jupyter-widgets/controls",
          "model_name": "IntSliderModel",
          "state": {
            "_view_name": "IntSliderView",
            "style": "IPY_MODEL_144c3e6be63a475ebe7de12ee8e8d704",
            "_dom_classes": [],
            "description": "Vin",
            "step": 1,
            "_model_name": "IntSliderModel",
            "orientation": "horizontal",
            "max": 5,
            "_view_module": "@jupyter-widgets/controls",
            "_model_module_version": "1.5.0",
            "value": 3,
            "_view_count": null,
            "disabled": false,
            "_view_module_version": "1.5.0",
            "min": -5,
            "continuous_update": true,
            "readout_format": "d",
            "description_tooltip": null,
            "readout": true,
            "_model_module": "@jupyter-widgets/controls",
            "layout": "IPY_MODEL_3e9f2b1efc6a43b08d09b2247ca1b3a8"
          }
        },
        "43201705101e477ca1a0a6e3ca3287af": {
          "model_module": "@jupyter-widgets/controls",
          "model_name": "IntSliderModel",
          "state": {
            "_view_name": "IntSliderView",
            "style": "IPY_MODEL_2fbd1f2f461b4eb59e622cba6f149d41",
            "_dom_classes": [],
            "description": "R1",
            "step": 1,
            "_model_name": "IntSliderModel",
            "orientation": "horizontal",
            "max": 300,
            "_view_module": "@jupyter-widgets/controls",
            "_model_module_version": "1.5.0",
            "value": 251,
            "_view_count": null,
            "disabled": false,
            "_view_module_version": "1.5.0",
            "min": 1,
            "continuous_update": true,
            "readout_format": "d",
            "description_tooltip": null,
            "readout": true,
            "_model_module": "@jupyter-widgets/controls",
            "layout": "IPY_MODEL_a1a495c4697e491abcbd1a509ce5762e"
          }
        },
        "262f47ec94ac4ba190caf9cfad820387": {
          "model_module": "@jupyter-widgets/controls",
          "model_name": "IntSliderModel",
          "state": {
            "_view_name": "IntSliderView",
            "style": "IPY_MODEL_1790006e64ad4c24b4316871e934cdab",
            "_dom_classes": [],
            "description": "R2",
            "step": 1,
            "_model_name": "IntSliderModel",
            "orientation": "horizontal",
            "max": 300,
            "_view_module": "@jupyter-widgets/controls",
            "_model_module_version": "1.5.0",
            "value": 100,
            "_view_count": null,
            "disabled": false,
            "_view_module_version": "1.5.0",
            "min": 1,
            "continuous_update": true,
            "readout_format": "d",
            "description_tooltip": null,
            "readout": true,
            "_model_module": "@jupyter-widgets/controls",
            "layout": "IPY_MODEL_534930eb4fa848058b03a41b0fa19c92"
          }
        },
        "107e339b8e15472d84b13f267e9e1e3e": {
          "model_module": "@jupyter-widgets/output",
          "model_name": "OutputModel",
          "state": {
            "_view_name": "OutputView",
            "msg_id": "",
            "_dom_classes": [],
            "_model_name": "OutputModel",
            "outputs": [
              {
                "output_type": "display_data",
                "metadata": {
                  "tags": [],
                  "needs_background": "light"
                },
                "image/png": "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\n",
                "text/plain": "<Figure size 720x360 with 2 Axes>"
              }
            ],
            "_view_module": "@jupyter-widgets/output",
            "_model_module_version": "1.0.0",
            "_view_count": null,
            "_view_module_version": "1.0.0",
            "layout": "IPY_MODEL_019bebbe37bb41d69e983047bb418f68",
            "_model_module": "@jupyter-widgets/output"
          }
        },
        "144c3e6be63a475ebe7de12ee8e8d704": {
          "model_module": "@jupyter-widgets/controls",
          "model_name": "SliderStyleModel",
          "state": {
            "_view_name": "StyleView",
            "handle_color": null,
            "_model_name": "SliderStyleModel",
            "description_width": "",
            "_view_module": "@jupyter-widgets/base",
            "_model_module_version": "1.5.0",
            "_view_count": null,
            "_view_module_version": "1.2.0",
            "_model_module": "@jupyter-widgets/controls"
          }
        },
        "3e9f2b1efc6a43b08d09b2247ca1b3a8": {
          "model_module": "@jupyter-widgets/base",
          "model_name": "LayoutModel",
          "state": {
            "_view_name": "LayoutView",
            "grid_template_rows": null,
            "right": null,
            "justify_content": null,
            "_view_module": "@jupyter-widgets/base",
            "overflow": null,
            "_model_module_version": "1.2.0",
            "_view_count": null,
            "flex_flow": null,
            "width": null,
            "min_width": null,
            "border": null,
            "align_items": null,
            "bottom": null,
            "_model_module": "@jupyter-widgets/base",
            "top": null,
            "grid_column": null,
            "overflow_y": null,
            "overflow_x": null,
            "grid_auto_flow": null,
            "grid_area": null,
            "grid_template_columns": null,
            "flex": null,
            "_model_name": "LayoutModel",
            "justify_items": null,
            "grid_row": null,
            "max_height": null,
            "align_content": null,
            "visibility": null,
            "align_self": null,
            "height": null,
            "min_height": null,
            "padding": null,
            "grid_auto_rows": null,
            "grid_gap": null,
            "max_width": null,
            "order": null,
            "_view_module_version": "1.2.0",
            "grid_template_areas": null,
            "object_position": null,
            "object_fit": null,
            "grid_auto_columns": null,
            "margin": null,
            "display": null,
            "left": null
          }
        },
        "2fbd1f2f461b4eb59e622cba6f149d41": {
          "model_module": "@jupyter-widgets/controls",
          "model_name": "SliderStyleModel",
          "state": {
            "_view_name": "StyleView",
            "handle_color": null,
            "_model_name": "SliderStyleModel",
            "description_width": "",
            "_view_module": "@jupyter-widgets/base",
            "_model_module_version": "1.5.0",
            "_view_count": null,
            "_view_module_version": "1.2.0",
            "_model_module": "@jupyter-widgets/controls"
          }
        },
        "a1a495c4697e491abcbd1a509ce5762e": {
          "model_module": "@jupyter-widgets/base",
          "model_name": "LayoutModel",
          "state": {
            "_view_name": "LayoutView",
            "grid_template_rows": null,
            "right": null,
            "justify_content": null,
            "_view_module": "@jupyter-widgets/base",
            "overflow": null,
            "_model_module_version": "1.2.0",
            "_view_count": null,
            "flex_flow": null,
            "width": null,
            "min_width": null,
            "border": null,
            "align_items": null,
            "bottom": null,
            "_model_module": "@jupyter-widgets/base",
            "top": null,
            "grid_column": null,
            "overflow_y": null,
            "overflow_x": null,
            "grid_auto_flow": null,
            "grid_area": null,
            "grid_template_columns": null,
            "flex": null,
            "_model_name": "LayoutModel",
            "justify_items": null,
            "grid_row": null,
            "max_height": null,
            "align_content": null,
            "visibility": null,
            "align_self": null,
            "height": null,
            "min_height": null,
            "padding": null,
            "grid_auto_rows": null,
            "grid_gap": null,
            "max_width": null,
            "order": null,
            "_view_module_version": "1.2.0",
            "grid_template_areas": null,
            "object_position": null,
            "object_fit": null,
            "grid_auto_columns": null,
            "margin": null,
            "display": null,
            "left": null
          }
        },
        "1790006e64ad4c24b4316871e934cdab": {
          "model_module": "@jupyter-widgets/controls",
          "model_name": "SliderStyleModel",
          "state": {
            "_view_name": "StyleView",
            "handle_color": null,
            "_model_name": "SliderStyleModel",
            "description_width": "",
            "_view_module": "@jupyter-widgets/base",
            "_model_module_version": "1.5.0",
            "_view_count": null,
            "_view_module_version": "1.2.0",
            "_model_module": "@jupyter-widgets/controls"
          }
        },
        "534930eb4fa848058b03a41b0fa19c92": {
          "model_module": "@jupyter-widgets/base",
          "model_name": "LayoutModel",
          "state": {
            "_view_name": "LayoutView",
            "grid_template_rows": null,
            "right": null,
            "justify_content": null,
            "_view_module": "@jupyter-widgets/base",
            "overflow": null,
            "_model_module_version": "1.2.0",
            "_view_count": null,
            "flex_flow": null,
            "width": null,
            "min_width": null,
            "border": null,
            "align_items": null,
            "bottom": null,
            "_model_module": "@jupyter-widgets/base",
            "top": null,
            "grid_column": null,
            "overflow_y": null,
            "overflow_x": null,
            "grid_auto_flow": null,
            "grid_area": null,
            "grid_template_columns": null,
            "flex": null,
            "_model_name": "LayoutModel",
            "justify_items": null,
            "grid_row": null,
            "max_height": null,
            "align_content": null,
            "visibility": null,
            "align_self": null,
            "height": null,
            "min_height": null,
            "padding": null,
            "grid_auto_rows": null,
            "grid_gap": null,
            "max_width": null,
            "order": null,
            "_view_module_version": "1.2.0",
            "grid_template_areas": null,
            "object_position": null,
            "object_fit": null,
            "grid_auto_columns": null,
            "margin": null,
            "display": null,
            "left": null
          }
        },
        "019bebbe37bb41d69e983047bb418f68": {
          "model_module": "@jupyter-widgets/base",
          "model_name": "LayoutModel",
          "state": {
            "_view_name": "LayoutView",
            "grid_template_rows": null,
            "right": null,
            "justify_content": null,
            "_view_module": "@jupyter-widgets/base",
            "overflow": null,
            "_model_module_version": "1.2.0",
            "_view_count": null,
            "flex_flow": null,
            "width": null,
            "min_width": null,
            "border": null,
            "align_items": null,
            "bottom": null,
            "_model_module": "@jupyter-widgets/base",
            "top": null,
            "grid_column": null,
            "overflow_y": null,
            "overflow_x": null,
            "grid_auto_flow": null,
            "grid_area": null,
            "grid_template_columns": null,
            "flex": null,
            "_model_name": "LayoutModel",
            "justify_items": null,
            "grid_row": null,
            "max_height": null,
            "align_content": null,
            "visibility": null,
            "align_self": null,
            "height": null,
            "min_height": null,
            "padding": null,
            "grid_auto_rows": null,
            "grid_gap": null,
            "max_width": null,
            "order": null,
            "_view_module_version": "1.2.0",
            "grid_template_areas": null,
            "object_position": null,
            "object_fit": null,
            "grid_auto_columns": null,
            "margin": null,
            "display": null,
            "left": null
          }
        }
      }
    }
  },
  "nbformat": 4,
  "nbformat_minor": 0
}